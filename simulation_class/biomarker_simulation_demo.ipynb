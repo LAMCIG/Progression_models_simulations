{
 "cells": [
  {
   "cell_type": "markdown",
   "metadata": {},
   "source": [
    "### Simulation/Generation of Biomarkers"
   ]
  },
  {
   "cell_type": "code",
   "execution_count": 1,
   "metadata": {},
   "outputs": [],
   "source": [
    "from biomarker_simulation import BiomarkerSimulation\n",
    "from biomarker_utils import generate_transition_matrix, initialize_biomarkers\n",
    "from mcmc_analysis import MCMCAnalysis\n",
    "import numpy as np\n",
    "import matplotlib.pyplot as plt\n",
    "\n",
    "# specify common parameters for biomarker stages\n",
    "n_patients_stage = {\n",
    "    1: 200, 2: 250, 3: 200, 4: 70, 5: 80,\n",
    "    6: 60, 7: 50, 8: 40, 9: 40, 10: 30,\n",
    "}"
   ]
  },
  {
   "cell_type": "markdown",
   "metadata": {},
   "source": []
  },
  {
   "cell_type": "code",
   "execution_count": 2,
   "metadata": {},
   "outputs": [
    {
     "name": "stdout",
     "output_type": "stream",
     "text": [
      "Sigmoidal Model:\n",
      "X shape: (1020, 11)\n",
      "Y shape: (1020,)\n"
     ]
    }
   ],
   "source": [
    "# Sigmoid Parameters\n",
    "biomarkers_params_sigmoid = {\n",
    "    0: {'s': 6, 'c': 3},\n",
    "    1: {'s': 12, 'c': 12},\n",
    "    2: {'s': 17, 'c': 10},\n",
    "    3: {'s': 23, 'c': 11},\n",
    "    4: {'s': 28, 'c': 2},\n",
    "    5: {'s': 34, 'c': 12},\n",
    "    6: {'s': 40, 'c': 10},\n",
    "    7: {'s': 45, 'c': 8},\n",
    "    8: {'s': 51, 'c': 6},\n",
    "    9: {'s': 57, 'c': 5},\n",
    "    10: {'s': 62, 'c': 2}\n",
    "}\n",
    "\n",
    "# Instantiate and simulate using the sigmoid model\n",
    "simulator_sigmoid = BiomarkerSimulation(n_patients_stage, biomarkers_params_sigmoid, method='sigmoid_inv')\n",
    "X_sigmoid, y_sigmoid, stages_sigmoid = simulator_sigmoid.simulate()\n",
    "print(\"Sigmoidal Model:\")\n",
    "print(\"X shape:\", X_sigmoid.shape)\n",
    "print(\"Y shape:\", y_sigmoid.shape)\n"
   ]
  },
  {
   "cell_type": "code",
   "execution_count": 3,
   "metadata": {},
   "outputs": [
    {
     "ename": "AttributeError",
     "evalue": "'MCMCAnalysis' object has no attribute 'log_distributions'",
     "output_type": "error",
     "traceback": [
      "\u001b[1;31m---------------------------------------------------------------------------\u001b[0m",
      "\u001b[1;31mAttributeError\u001b[0m                            Traceback (most recent call last)",
      "Cell \u001b[1;32mIn[3], line 7\u001b[0m\n\u001b[0;32m      4\u001b[0m mcmc_analysis_sigmoid \u001b[38;5;241m=\u001b[39m MCMCAnalysis(X_sigmoid, y_sigmoid)\n\u001b[0;32m      6\u001b[0m \u001b[38;5;66;03m# Get log distributions\u001b[39;00m\n\u001b[1;32m----> 7\u001b[0m log_p_e_sigmoid, log_p_not_e_sigmoid \u001b[38;5;241m=\u001b[39m \u001b[43mmcmc_analysis_sigmoid\u001b[49m\u001b[38;5;241;43m.\u001b[39;49m\u001b[43mlog_distributions\u001b[49m()\n\u001b[0;32m      9\u001b[0m \u001b[38;5;66;03m# Greedy ascent to find initial good order\u001b[39;00m\n\u001b[0;32m     10\u001b[0m order_sigmoid, loglike_sigmoid \u001b[38;5;241m=\u001b[39m mcmc_analysis_sigmoid\u001b[38;5;241m.\u001b[39mgreedy_ascent()\n",
      "\u001b[1;31mAttributeError\u001b[0m: 'MCMCAnalysis' object has no attribute 'log_distributions'"
     ]
    }
   ],
   "source": [
    "from scipy.stats import spearmanr\n",
    "\n",
    "# MCMC Analysis\n",
    "mcmc_analysis_sigmoid = MCMCAnalysis(X_sigmoid, y_sigmoid)\n",
    "\n",
    "# Get log distributions\n",
    "log_p_e_sigmoid, log_p_not_e_sigmoid = mcmc_analysis_sigmoid.log_distributions()\n",
    "\n",
    "# Greedy ascent to find initial good order\n",
    "order_sigmoid, loglike_sigmoid = mcmc_analysis_sigmoid.greedy_ascent()\n",
    "print(\"Initial order from greedy ascent (sigmoid):\", order_sigmoid[:10])\n",
    "\n",
    "# Perform MCMC to sample from the posterior distribution of orders\n",
    "orders_sigmoid, loglikes_sigmoid, _, _ = mcmc_analysis_sigmoid.mcmc()\n",
    "print(\"First 10 MCMC sampled orders (sigmoid):\", orders_sigmoid[:10])\n",
    "\n",
    "# Calculate Spearman's rho for the first sampled order\n",
    "rho_sigmoid, _ = spearmanr(order_sigmoid, orders_sigmoid[0])\n",
    "print(\"Spearman's rho between initial greedy and first MCMC order (sigmoid):\", rho_sigmoid)\n"
   ]
  },
  {
   "cell_type": "markdown",
   "metadata": {},
   "source": [
    "#### MCMC analysis of Transition Matrix based biomarkers"
   ]
  },
  {
   "cell_type": "code",
   "execution_count": 7,
   "metadata": {},
   "outputs": [
    {
     "name": "stdout",
     "output_type": "stream",
     "text": [
      "Initial order from greedy ascent (transition matrix): [2 4 9 1 5 7 6 3 8 0]\n"
     ]
    },
    {
     "ename": "ValueError",
     "evalue": "not enough values to unpack (expected 4, got 2)",
     "output_type": "error",
     "traceback": [
      "\u001b[1;31m---------------------------------------------------------------------------\u001b[0m",
      "\u001b[1;31mValueError\u001b[0m                                Traceback (most recent call last)",
      "Cell \u001b[1;32mIn[7], line 12\u001b[0m\n\u001b[0;32m      9\u001b[0m \u001b[38;5;28mprint\u001b[39m(\u001b[38;5;124m\"\u001b[39m\u001b[38;5;124mInitial order from greedy ascent (transition matrix):\u001b[39m\u001b[38;5;124m\"\u001b[39m, order_transition[:\u001b[38;5;241m10\u001b[39m])\n\u001b[0;32m     11\u001b[0m \u001b[38;5;66;03m# Perform MCMC to sample from the posterior distribution of orders\u001b[39;00m\n\u001b[1;32m---> 12\u001b[0m orders_transition, loglikes_transition, _, _ \u001b[38;5;241m=\u001b[39m mcmc_analysis_transition\u001b[38;5;241m.\u001b[39mmcmc()\n\u001b[0;32m     13\u001b[0m \u001b[38;5;28mprint\u001b[39m(\u001b[38;5;124m\"\u001b[39m\u001b[38;5;124mFirst 10 MCMC sampled orders (transition matrix):\u001b[39m\u001b[38;5;124m\"\u001b[39m, orders_transition[:\u001b[38;5;241m10\u001b[39m])\n\u001b[0;32m     15\u001b[0m \u001b[38;5;66;03m# Calculate Spearman's rho for the first sampled order\u001b[39;00m\n",
      "\u001b[1;31mValueError\u001b[0m: not enough values to unpack (expected 4, got 2)"
     ]
    }
   ],
   "source": [
    "# MCMC Analysis\n",
    "mcmc_analysis_transition = MCMCAnalysis(X_transition, y_transition)\n",
    "\n",
    "# Get log distributions\n",
    "log_p_e_transition, log_p_not_e_transition = mcmc_analysis_transition.log_distributions()\n",
    "\n",
    "# Greedy ascent to find initial good order\n",
    "order_transition, loglike_transition = mcmc_analysis_transition.greedy_ascent()\n",
    "print(\"Initial order from greedy ascent (transition matrix):\", order_transition[:10])\n",
    "\n",
    "# Perform MCMC to sample from the posterior distribution of orders\n",
    "orders_transition, loglikes_transition, _, _ = mcmc_analysis_transition.mcmc()\n",
    "print(\"First 10 MCMC sampled orders (transition matrix):\", orders_transition[:10])\n",
    "\n",
    "# Calculate Spearman's rho for the first sampled order\n",
    "rho_transition, _ = spearmanr(order_transition, orders_transition[0])\n",
    "print(\"Spearman's rho between initial greedy and first MCMC order (transition matrix):\", rho_transition)\n"
   ]
  },
  {
   "cell_type": "code",
   "execution_count": 4,
   "metadata": {},
   "outputs": [
    {
     "name": "stdout",
     "output_type": "stream",
     "text": [
      "Transition Matrix Model:\n",
      "X shape: (1020, 10)\n",
      "Y shape: (1020,)\n"
     ]
    }
   ],
   "source": [
    "# Transition Matrix Parameters\n",
    "num_biomarkers = 11\n",
    "A = generate_transition_matrix(size=num_biomarkers, coeff=1e-1)\n",
    "y_init = initialize_biomarkers(num_biomarkers, init_value=0.9)\n",
    "\n",
    "biomarkers_params_transition = {\n",
    "    'transition_matrix': A[1:, 1:],  # assume first row/column are removed\n",
    "    'y_init': y_init[1:]  # assume first value is removed\n",
    "}\n",
    "\n",
    "# Instantiate and simulate using the transition matrix model\n",
    "simulator_transition = BiomarkerSimulation(n_patients_stage, biomarkers_params_transition, method='transition_matrix')\n",
    "X_transition, y_transition, stages_transition = simulator_transition.simulate()\n",
    "print(\"Transition Matrix Model:\")\n",
    "print(\"X shape:\", X_transition.shape)\n",
    "print(\"Y shape:\", y_transition.shape)\n"
   ]
  },
  {
   "cell_type": "markdown",
   "metadata": {},
   "source": []
  },
  {
   "cell_type": "code",
   "execution_count": 13,
   "metadata": {},
   "outputs": [
    {
     "name": "stdout",
     "output_type": "stream",
     "text": [
      "ODE Model:\n",
      "Time points shape: (1000,)\n",
      "Biomarker values shape: (1000, 11)\n"
     ]
    },
    {
     "data": {
      "image/png": "[encoded data removed]",
      "text/plain": [
       "<Figure size 1000x500 with 1 Axes>"
      ]
     },
     "metadata": {},
     "output_type": "display_data"
    }
   ],
   "source": [
    "# Parameters for the ODE simulation\n",
    "biomarkers_params_ode = {\n",
    "    'connectivity_matrix': generate_transition_matrix(size=11, coeff=0.1),\n",
    "    'y_init': initialize_biomarkers(11, init_value=0.9),\n",
    "    't_span': (0, 50),\n",
    "    'n_steps': 1000\n",
    "}\n",
    "\n",
    "# Instantiate the simulation class with ODE parameters\n",
    "simulator_ode = BiomarkerSimulation(n_patients_stage, biomarkers_params_ode, method='ode')\n",
    "\n",
    "# Run the ODE-based simulation\n",
    "y_ode, X_ode = simulator_ode.simulate()  # Corrected to use simulate()\n",
    "\n",
    "# Print out the results\n",
    "print(\"ODE Model:\")\n",
    "print(\"Time points shape:\", t_ode.shape)\n",
    "print(\"Biomarker values shape:\", X_ode.shape)\n",
    "\n",
    "# Optionally plot a biomarker's progression over time\n",
    "plt.figure(figsize=(10, 5))\n",
    "plt.plot(t_ode, X_ode[:, 3], label='Biomarker 3 Progression')  # Adjust according to the returned dimensions\n",
    "plt.title(\"ODE Biomarker Progression Over Time\")\n",
    "plt.xlabel('Time')\n",
    "plt.ylabel('Biomarker Value')\n",
    "plt.legend()\n",
    "plt.show()"
   ]
  },
  {
   "cell_type": "markdown",
   "metadata": {},
   "source": [
    "#### MCMC analysis of ODE based biomarkers"
   ]
  },
  {
   "cell_type": "code",
   "execution_count": 14,
   "metadata": {},
   "outputs": [
    {
     "name": "stderr",
     "output_type": "stream",
     "text": [
      "c:\\Users\\semch\\Projects\\LAMCIG\\Progression_models_simulations\\simulation_class\\mcmc_analysis.py:12: RuntimeWarning: invalid value encountered in log\n",
      "  log_p_not_e = np.log(((len(self.y) - self.y.sum()) / len(self.y)) * np.ones_like(self.y))\n"
     ]
    },
    {
     "name": "stdout",
     "output_type": "stream",
     "text": [
      "Initial order from greedy ascent (ODE): [ 2  1 10  4  5  7  9  6  3  8]\n"
     ]
    },
    {
     "ename": "ValueError",
     "evalue": "not enough values to unpack (expected 4, got 2)",
     "output_type": "error",
     "traceback": [
      "\u001b[1;31m---------------------------------------------------------------------------\u001b[0m",
      "\u001b[1;31mValueError\u001b[0m                                Traceback (most recent call last)",
      "Cell \u001b[1;32mIn[14], line 13\u001b[0m\n\u001b[0;32m     10\u001b[0m \u001b[38;5;28mprint\u001b[39m(\u001b[38;5;124m\"\u001b[39m\u001b[38;5;124mInitial order from greedy ascent (ODE):\u001b[39m\u001b[38;5;124m\"\u001b[39m, order_ode[:\u001b[38;5;241m10\u001b[39m])\n\u001b[0;32m     12\u001b[0m \u001b[38;5;66;03m# Perform MCMC to sample from the posterior distribution of orders\u001b[39;00m\n\u001b[1;32m---> 13\u001b[0m orders_ode, loglikes_ode, _, _ \u001b[38;5;241m=\u001b[39m mcmc_analysis_ode\u001b[38;5;241m.\u001b[39mmcmc()\n\u001b[0;32m     14\u001b[0m \u001b[38;5;28mprint\u001b[39m(\u001b[38;5;124m\"\u001b[39m\u001b[38;5;124mFirst 10 MCMC sampled orders (ODE):\u001b[39m\u001b[38;5;124m\"\u001b[39m, orders_ode[:\u001b[38;5;241m10\u001b[39m])\n\u001b[0;32m     16\u001b[0m \u001b[38;5;66;03m# Calculate Spearman's rho for the first sampled order\u001b[39;00m\n",
      "\u001b[1;31mValueError\u001b[0m: not enough values to unpack (expected 4, got 2)"
     ]
    }
   ],
   "source": [
    "# Assuming X_ode is shaped appropriately and y_ode is defined\n",
    "# MCMC Analysis\n",
    "mcmc_analysis_ode = MCMCAnalysis(X_ode, y_ode)\n",
    "\n",
    "# Get log distributions\n",
    "log_p_e_ode, log_p_not_e_ode = mcmc_analysis_ode.log_distributions()\n",
    "\n",
    "# Greedy ascent to find initial good order\n",
    "order_ode, loglike_ode = mcmc_analysis_ode.greedy_ascent()\n",
    "print(\"Initial order from greedy ascent (ODE):\", order_ode[:10])\n",
    "\n",
    "# Perform MCMC to sample from the posterior distribution of orders\n",
    "orders_ode, loglikes_ode, _, _ = mcmc_analysis_ode.mcmc()\n",
    "print(\"First 10 MCMC sampled orders (ODE):\", orders_ode[:10])\n",
    "\n",
    "# Calculate Spearman's rho for the first sampled order\n",
    "rho_ode, _ = spearmanr(order_ode, orders_ode[0])\n",
    "print(\"Spearman's rho between initial greedy and first MCMC order (ODE):\", rho_ode)\n"
   ]
  },
  {
   "cell_type": "code",
   "execution_count": null,
   "metadata": {},
   "outputs": [],
   "source": []
  }
 ],
 "metadata": {
  "kernelspec": {
   "display_name": "Python 3",
   "language": "python",
   "name": "python3"
  },
  "language_info": {
   "codemirror_mode": {
    "name": "ipython",
    "version": 3
   },
   "file_extension": ".py",
   "mimetype": "text/x-python",
   "name": "python",
   "nbconvert_exporter": "python",
   "pygments_lexer": "ipython3",
   "version": "3.12.3"
  }
 },
 "nbformat": 4,
 "nbformat_minor": 2
}
