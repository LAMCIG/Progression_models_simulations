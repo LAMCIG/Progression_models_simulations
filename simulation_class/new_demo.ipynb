{
 "cells": [
  {
   "cell_type": "code",
   "execution_count": 1,
   "metadata": {},
   "outputs": [],
   "source": [
    "# canonical_generator_demo.py\n",
    "\n",
    "# import the necessary classes\n",
    "from canonical_generator import CanonicalGenerator\n",
    "from sample_generator import SampleGenerator\n",
    "from disease_progression_analyzer import DiseaseProgressionAnalyzer\n",
    "\n",
    "# specify model parameters\n",
    "n_biomarkers = 10\n",
    "n_stages = 40\n",
    "model_type = 'sigmoid'\n",
    "biomarkers_params_sigmoid = {\n",
    "    0: {'s': 6, 'c': 3},\n",
    "    1: {'s': 12, 'c': 12},\n",
    "    2: {'s': 17, 'c': 10},\n",
    "    3: {'s': 23, 'c': 11},\n",
    "    4: {'s': 28, 'c': 2},\n",
    "    5: {'s': 34, 'c': 12},\n",
    "    6: {'s': 40, 'c': 10},\n",
    "    7: {'s': 45, 'c': 8},\n",
    "    8: {'s': 51, 'c': 6},\n",
    "    9: {'s': 57, 'c': 5},\n",
    "    10: {'s': 62, 'c': 2}\n",
    "}\n",
    "\n",
    "# generate the canonical model\n",
    "canonical_generator = CanonicalGenerator(n_biomarkers, n_stages, model_type, biomarkers_params=biomarkers_params_sigmoid)\n",
    "\n",
    "# generate patient samples\n",
    "n_patients = 100\n",
    "sample_generator = SampleGenerator(canonical_generator, n_patients, add_noise=True, noise_std=0.1, random_state=42)\n",
    "patient_samples = sample_generator.patient_samples\n",
    "\n",
    "# run analysis\n",
    "analyzer = DiseaseProgressionAnalyzer(patient_samples)\n",
    "analyzer.run_analysis('mcmc')\n",
    "\n",
    "# orders = analyzer._run_mcmc_analysis()  # this should be implemented in the _run_mcmc_analysis method\n",
    "# analyzer.print_orders(orders)\n"
   ]
  },
  {
   "cell_type": "code",
   "execution_count": null,
   "metadata": {},
   "outputs": [],
   "source": []
  }
 ],
 "metadata": {
  "kernelspec": {
   "display_name": "base",
   "language": "python",
   "name": "python3"
  },
  "language_info": {
   "codemirror_mode": {
    "name": "ipython",
    "version": 3
   },
   "file_extension": ".py",
   "mimetype": "text/x-python",
   "name": "python",
   "nbconvert_exporter": "python",
   "pygments_lexer": "ipython3",
   "version": "3.12.2"
  }
 },
 "nbformat": 4,
 "nbformat_minor": 2
}
