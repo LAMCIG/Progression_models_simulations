{
 "cells": [
  {
   "cell_type": "code",
   "execution_count": 11,
   "metadata": {},
   "outputs": [
    {
     "name": "stdout",
     "output_type": "stream",
     "text": [
      "   L_Thal_comp_1  L_Thal_comp_2  L_Thal_comp_3  R_Thal_comp_1  R_Thal_comp_2  \\\n",
      "0      -0.147859      -6.891219      -2.443617       7.424484       2.865889   \n",
      "1     -23.971671      -4.263119       5.460362     -29.483756      -5.782414   \n",
      "2      11.173295      22.437509      -0.642554     -18.532391       7.952778   \n",
      "3     -23.948687       2.291944       2.713044     -29.718073       3.759314   \n",
      "4      -1.393882      -3.608613       3.463212       6.814502       0.133224   \n",
      "\n",
      "   R_Thal_comp_3  L_Caud_comp_1  L_Caud_comp_2  L_Caud_comp_3  R_Caud_comp_1  \\\n",
      "0       9.404051      -5.789643       8.209938      -9.060160     -17.487830   \n",
      "1      -1.937528     -24.434662      10.661322     -11.867383     -10.806089   \n",
      "2       2.409351      16.531853       1.774643      15.152895       0.579180   \n",
      "3       3.143370       4.968278       5.959351      14.745920      -1.293988   \n",
      "4      -1.282571      -3.782737      -5.602653     -14.239371      -6.350059   \n",
      "\n",
      "   ...  L_Accum_comp_3  R_Accum_comp_1  R_Accum_comp_2  R_Accum_comp_3  \\\n",
      "0  ...        3.805215        2.942700       -6.885315       -4.052986   \n",
      "1  ...        1.070432        9.056981      -11.521278        3.059119   \n",
      "2  ...       -8.300998       -9.548165       -7.513127        3.068897   \n",
      "3  ...        2.245793       -4.822216      -12.912248        3.023288   \n",
      "4  ...        0.918705       -2.582484       -0.871865       -0.767249   \n",
      "\n",
      "         SubjID  Dx  Sex   Age   cohort  OrigID  \n",
      "0  EPD_012_3151   0    1  57.5  PPMI_12    3151  \n",
      "1  EPD_012_3157   0    2  64.1  PPMI_12    3157  \n",
      "2  EPD_012_3161   0    1  44.8  PPMI_12    3161  \n",
      "3  EPD_012_3165   0    2  58.9  PPMI_12    3165  \n",
      "4  EPD_012_3168   1    2  63.1  PPMI_12    3168  \n",
      "\n",
      "[5 rows x 48 columns]\n",
      "(139, 48)\n",
      "L regions: 21\n",
      "R regions: 21\n",
      "total regions: 42\n",
      "139\n"
     ]
    }
   ],
   "source": [
    "import pandas as pd\n",
    "import os\n",
    "\n",
    "data_dir = \"/data01/bgutman/MRI_data/PPMI\"\n",
    "\n",
    "files = [\"PPMI_subcort_12mo.csv\",\n",
    "         \"PPMI_subcort_24mo.csv\",\n",
    "         \"Motor_and_MoCA_scores.csv\",\n",
    "         \"PPMI_WML_with_EBM_stage.csv\",\n",
    "         \"PPMI_WML_with_subscores.csv\",\n",
    "         \"PPMI_Patient_Status.csv\",\n",
    "         \"NxN_Connectivity_Subcort\"\n",
    "]\n",
    "\n",
    "filepath = os.path.join(data_dir, files[0])\n",
    "\n",
    "df = pd.read_csv(filepath)\n",
    "print(df.head())\n",
    "\n",
    "print(df.shape)\n",
    "\n",
    "l_cols = [col for col in df.columns if col.startswith(\"L_\")]\n",
    "r_cols = [col for col in df.columns if col.startswith(\"R_\")]\n",
    "\n",
    "print(f\"L regions: {len(l_cols)}\")\n",
    "print(f\"R regions: {len(r_cols)}\")\n",
    "print(f\"total regions: {len(l_cols)+len(r_cols)}\")\n",
    "\n",
    "\n",
    "## ALL SUBJECTS ARE UNIQUE\n",
    "\n",
    "n_subjects = df['SubjID'].nunique()\n",
    "print(n_subjects)\n"
   ]
  },
  {
   "cell_type": "code",
   "execution_count": null,
   "metadata": {},
   "outputs": [],
   "source": []
  },
  {
   "cell_type": "code",
   "execution_count": null,
   "metadata": {},
   "outputs": [],
   "source": []
  }
 ],
 "metadata": {
  "kernelspec": {
   "display_name": "base",
   "language": "python",
   "name": "python3"
  },
  "language_info": {
   "codemirror_mode": {
    "name": "ipython",
    "version": 3
   },
   "file_extension": ".py",
   "mimetype": "text/x-python",
   "name": "python",
   "nbconvert_exporter": "python",
   "pygments_lexer": "ipython3",
   "version": "3.12.2"
  }
 },
 "nbformat": 4,
 "nbformat_minor": 2
}
