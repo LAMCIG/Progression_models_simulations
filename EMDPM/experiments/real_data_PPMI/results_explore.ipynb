{
 "cells": [
  {
   "cell_type": "code",
   "execution_count": null,
   "metadata": {},
   "outputs": [
    {
     "name": "stdout",
     "output_type": "stream",
     "text": [
      "NpzFile '/home/dsemchin/Progression_models_simulations/EMDPM/experiments/real_data_PPMI/ppmi20_jac.npz' with keys: theta_history, beta_history, lse_history, cog_regression_history\n"
     ]
    }
   ],
   "source": [
    "import numpy as np\n",
    "import pandas as pd\n",
    "\n",
    "results_jac_lc0 = np.load(\"/home/dsemchin/Progression_models_simulations/EMDPM/experiments/real_data_PPMI/ppmi20_jac.npz\")\n",
    "print(results_jac_lc0)\n",
    "\n",
    "df = pd.read_csv(\"/data01/bgutman/MRI_data/PPMI/data_ppmi_pd.csv\")\n",
    "df_K = pd.read_csv(\"/data01/bgutman/LEGACY/Skoltech/datasets/Connectomes/mean_NORM_con_full.csv\")"
   ]
  },
  {
   "cell_type": "code",
   "execution_count": null,
   "metadata": {},
   "outputs": [],
   "source": []
  }
 ],
 "metadata": {
  "kernelspec": {
   "display_name": "base",
   "language": "python",
   "name": "python3"
  },
  "language_info": {
   "codemirror_mode": {
    "name": "ipython",
    "version": 3
   },
   "file_extension": ".py",
   "mimetype": "text/x-python",
   "name": "python",
   "nbconvert_exporter": "python",
   "pygments_lexer": "ipython3",
   "version": "3.12.2"
  }
 },
 "nbformat": 4,
 "nbformat_minor": 2
}
