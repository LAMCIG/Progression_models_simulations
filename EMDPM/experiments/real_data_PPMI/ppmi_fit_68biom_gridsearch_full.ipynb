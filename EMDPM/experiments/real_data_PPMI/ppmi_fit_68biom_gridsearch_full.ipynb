{
 "cells": [
  {
   "cell_type": "code",
   "execution_count": 2,
   "metadata": {},
   "outputs": [],
   "source": [
    "import numpy as np\n",
    "import pandas as pd\n",
    "from EMDPM.model_generator import generate_logistic_model\n",
    "from EMDPM.synthetic_data_generator import generate_synthetic_data\n",
    "from EMDPM.visualization import (\n",
    "    plot_biomarker_trajectories,\n",
    "    plot_true_observations,\n",
    "    plot_initial_beta_guess,\n",
    "    plot_theta_fit_comparison,\n",
    "    plot_theta_error_history,\n",
    "    plot_beta_overlay,\n",
    "    plot_beta_error_history,\n",
    "    plot_lse,\n",
    "    plot_cog_regression_history\n",
    "    \n",
    "    \n",
    ")\n",
    "from EMDPM.utils import solve_system\n",
    "from EMDPM.em_transformer_rework import EM\n",
    "import matplotlib.pyplot as plt\n",
    "\n",
    "from sklearn.linear_model import LinearRegression\n",
    "import statsmodels.formula.api as smf\n",
    "\n",
    "from sklearn.model_selection import GroupKFold, GridSearchCV\n",
    "\n"
   ]
  },
  {
   "cell_type": "code",
   "execution_count": 3,
   "metadata": {},
   "outputs": [
    {
     "name": "stdout",
     "output_type": "stream",
     "text": [
      "original size: (880, 250)\n",
      "after drop na (868, 250)\n",
      "one time subj_id: 227\n",
      "after drop dupes (504, 250)\n",
      "nans in X: 0\n",
      "infs in X: 0\n",
      "nans X_resid: 0\n",
      "infs X_resid: 0\n",
      "(68, 68) <class 'numpy.ndarray'>\n",
      "X.size:  (504, 68) X_resid.size:  (504, 10)\n",
      "nans in cog: 0\n",
      "infs in cog: 0\n"
     ]
    }
   ],
   "source": [
    "df = pd.read_csv(\"/data01/bgutman/MRI_data/PPMI/data_ppmi_pd.csv\")\n",
    "df_K = pd.read_csv(\"/data01/bgutman/LEGACY/Skoltech/datasets/Connectomes/mean_NORM_con_22.csv\")\n",
    "n_biomarkers = 10\n",
    "\n",
    "## remove non-longitudinal observations\n",
    "print(\"original size:\", df.shape)\n",
    "relevant_cols = [col for col in df.columns if col.startswith(('L_', 'R_')) and ('_thickavg' in col or '_thickavg_resid' in col)]\n",
    "relevant_cols += [\"MCATOT\", \"TD_score\", \"PIGD_score\"]\n",
    "df = df.replace([np.inf, -np.inf], np.nan)\n",
    "df = df.dropna(subset=relevant_cols)\n",
    "\n",
    "print(\"after drop na\", df.shape)\n",
    "subj_counts = df['subj_id'].value_counts()\n",
    "num_unique = (subj_counts == 1).sum()\n",
    "print(\"one time subj_id:\", num_unique)\n",
    "\n",
    "longitudinal_ids = subj_counts[subj_counts > 1].index\n",
    "df = df[df['subj_id'].isin(longitudinal_ids)].copy()\n",
    "df = df.drop_duplicates(subset=[\"subj_id\", \"time\"])\n",
    "print(\"after drop dupes\", df.shape)\n",
    "\n",
    "small_region_set = ['L_inferiorparietal_thickavg','R_inferiorparietal_thickavg','L_inferiortemporal_thickavg','R_inferiortemporal_thickavg',\n",
    "'L_precuneus_thickavg','R_precuneus_thickavg','L_isthmuscingulate_thickavg','R_isthmuscingulate_thickavg','L_lateraloccipital_thickavg','R_lateraloccipital_thickavg']\n",
    "\n",
    "small_region_set_resid = ['L_inferiorparietal_thickavg_resid','R_inferiorparietal_thickavg_resid','L_inferiortemporal_thickavg_resid','R_inferiortemporal_thickavg_resid',\n",
    "'L_precuneus_thickavg_resid','R_precuneus_thickavg_resid','L_isthmuscingulate_thickavg_resid','R_isthmuscingulate_thickavg_resid','L_lateraloccipital_thickavg_resid','R_lateraloccipital_thickavg_resid']\n",
    "\n",
    "X_obs = df[[col for col in df.columns if (col.startswith(('L_', 'R_')) and col.endswith('_thickavg') and not col.endswith('_thickavg_resid'))]]\n",
    "X_obs_resid = df[small_region_set_resid]\n",
    "X_obs_resid = X_obs_resid.to_numpy()\n",
    "X_obs_resid = np.max(X_obs_resid, axis=0) - X_obs_resid\n",
    "\n",
    "#X_obs = df[small_region_set]\n",
    "X_obs = X_obs.to_numpy()\n",
    "X_obs = np.max(X_obs, axis=0) - X_obs\n",
    "\n",
    "\n",
    "print(\"nans in X:\", np.isnan(X_obs).sum())\n",
    "print(\"infs in X:\", np.isinf(X_obs).sum())\n",
    "\n",
    "print(\"nans X_resid:\", np.isnan(X_obs_resid).sum())\n",
    "print(\"infs X_resid:\", np.isinf(X_obs_resid).sum())\n",
    "\n",
    "## connectivity matrix to numpy\n",
    "K = df_K.drop(df_K.columns[0], axis=1).to_numpy()\n",
    "np.fill_diagonal(K, 0)\n",
    "print(K.shape, type(K))\n",
    "\n",
    "# normalization\n",
    "row_sums = K.sum(axis=1)\n",
    "median_row_sum = np.median(row_sums)\n",
    "K = K / median_row_sum\n",
    "\n",
    "region_index = [6, 40, 7, 41, 23, 57, 8, 42, 9, 43]\n",
    "#K = np.take(np.take(K,region_index,axis=0), region_index, axis=1)\n",
    "\n",
    "t_max = 30\n",
    "step = 0.001\n",
    "print(\"X.size: \", X_obs.shape, \"X_resid.size: \", X_obs_resid.shape)\n",
    "\n",
    "ids = df[\"subj_id\"].to_numpy()\n",
    "dt = df[\"time\"].to_numpy()/12 # convert to years\n",
    "#cog = df[\"MCATOT\"].values#,\"TD_score\",\"PIGD_score\"]].values\n",
    "cog = df[[\"MCATOT\",\"TD_score\",\"PIGD_score\"]].to_numpy()\n",
    "nhy = df[\"NHY\"].to_numpy()\n",
    "print(\"nans in cog:\", np.isnan(cog).sum())\n",
    "print(\"infs in cog:\", np.isinf(cog).sum())\n"
   ]
  },
  {
   "cell_type": "code",
   "execution_count": 4,
   "metadata": {},
   "outputs": [
    {
     "name": "stderr",
     "output_type": "stream",
     "text": [
      "/home/dsemchin/miniconda3/lib/python3.12/site-packages/statsmodels/base/model.py:607: ConvergenceWarning: Maximum Likelihood optimization failed to converge. Check mle_retvals\n",
      "  warnings.warn(\"Maximum Likelihood optimization failed to \"\n",
      "/home/dsemchin/miniconda3/lib/python3.12/site-packages/statsmodels/regression/mixed_linear_model.py:2200: ConvergenceWarning: Retrying MixedLM optimization with lbfgs\n",
      "  warnings.warn(\n",
      "/home/dsemchin/miniconda3/lib/python3.12/site-packages/statsmodels/base/model.py:607: ConvergenceWarning: Maximum Likelihood optimization failed to converge. Check mle_retvals\n",
      "  warnings.warn(\"Maximum Likelihood optimization failed to \"\n",
      "/home/dsemchin/miniconda3/lib/python3.12/site-packages/statsmodels/regression/mixed_linear_model.py:2200: ConvergenceWarning: Retrying MixedLM optimization with cg\n",
      "  warnings.warn(\n",
      "/home/dsemchin/miniconda3/lib/python3.12/site-packages/statsmodels/base/model.py:607: ConvergenceWarning: Maximum Likelihood optimization failed to converge. Check mle_retvals\n",
      "  warnings.warn(\"Maximum Likelihood optimization failed to \"\n",
      "/home/dsemchin/miniconda3/lib/python3.12/site-packages/statsmodels/regression/mixed_linear_model.py:2206: ConvergenceWarning: MixedLM optimization failed, trying a different optimizer may help.\n",
      "  warnings.warn(msg, ConvergenceWarning)\n",
      "/home/dsemchin/miniconda3/lib/python3.12/site-packages/statsmodels/regression/mixed_linear_model.py:2218: ConvergenceWarning: Gradient optimization failed, |grad| = 0.946356\n",
      "  warnings.warn(msg, ConvergenceWarning)\n",
      "/home/dsemchin/miniconda3/lib/python3.12/site-packages/statsmodels/regression/mixed_linear_model.py:2237: ConvergenceWarning: The MLE may be on the boundary of the parameter space.\n",
      "  warnings.warn(msg, ConvergenceWarning)\n",
      "/home/dsemchin/miniconda3/lib/python3.12/site-packages/statsmodels/regression/mixed_linear_model.py:2261: ConvergenceWarning: The Hessian matrix at the estimated parameter values is not positive definite.\n",
      "  warnings.warn(msg, ConvergenceWarning)\n"
     ]
    },
    {
     "data": {
      "text/plain": [
       "(array([ 1.,  0.,  2.,  4.,  1.,  7., 17., 36., 56., 22.]),\n",
       " array([ 0.        ,  3.03916505,  6.07833011,  9.11749516, 12.15666021,\n",
       "        15.19582527, 18.23499032, 21.27415537, 24.31332043, 27.35248548,\n",
       "        30.39165053]),\n",
       " <BarContainer object of 10 artists>)"
      ]
     },
     "execution_count": 4,
     "metadata": {},
     "output_type": "execute_result"
    },
    {
     "data": {
      "image/png": "[encoded data removed]",
      "text/plain": [
       "<Figure size 640x480 with 1 Axes>"
      ]
     },
     "metadata": {},
     "output_type": "display_data"
    }
   ],
   "source": [
    "def compute_patient_avg_slope(X, dt, ids):\n",
    "    unique_ids = np.unique(ids)\n",
    "    pid_to_slope = {}\n",
    "    \n",
    "    for pid in unique_ids:\n",
    "        mask = (ids == pid)\n",
    "        t = dt[mask].reshape(-1,1)\n",
    "        Xi = X[mask]                       \n",
    "        if Xi.shape[0] < 2:\n",
    "            pid_to_slope[pid] = 0.0\n",
    "            continue\n",
    "        \n",
    "        slopes = []\n",
    "        for j in range(Xi.shape[1]):\n",
    "            y = Xi[:, j]\n",
    "            # simple linear fit: biomarker_j = a * dt + b\n",
    "            a = np.linalg.lstsq(np.hstack([t, np.ones_like(t)]), y, rcond=None)[0][0]\n",
    "            slopes.append(a)\n",
    "        pid_to_slope[pid] = np.mean(slopes)\n",
    "        \n",
    "    return pid_to_slope\n",
    "\n",
    "def prepare_glm_data(df, X, dt, ids, cog_df):\n",
    "    df_proc = df.copy()\n",
    "    df_proc['dt'] = dt\n",
    "    df_proc['id'] = ids\n",
    "    \n",
    "    df_proc['dt_min'] = df_proc.groupby('id')['dt'].transform('min')\n",
    "    df_proc['dt_max'] = df_proc.groupby('id')['dt'].transform('max')\n",
    "    df_proc['dt_scaled'] = (df_proc['dt'] - df_proc['dt_min']) / (df_proc['dt_max'] - df_proc['dt_min'] + 1e-8)\n",
    "    \n",
    "    df_proc[['MCATOT','PIGD_score','TD_score']] = cog_df[['MCATOT','PIGD_score','TD_score']]\n",
    "    \n",
    "    pid_to_slope = compute_patient_avg_slope(X, dt, ids)\n",
    "    df_proc['avg_slope'] = df_proc['id'].map(pid_to_slope)\n",
    "    \n",
    "    return df_proc\n",
    "\n",
    "def init_beta_mixedlm(df_proc, t_max):\n",
    "    # Use dt_scaled as response; random intercept on 'id'\n",
    "    model = smf.mixedlm(\"dt_scaled ~ MCATOT + PIGD_score + TD_score + avg_slope\",\n",
    "                         data=df_proc,\n",
    "                         groups=df_proc[\"id\"],\n",
    "                         re_formula=\"1\")\n",
    "    result = model.fit()\n",
    "    \n",
    "    # intercepts\n",
    "    rand_eff = result.random_effects  # dict pid->{'Group': val}\n",
    "    pid_to_beta = {pid: eff[\"Group\"] * t_max for pid, eff in rand_eff.items()}\n",
    "    return pid_to_beta\n",
    "\n",
    "df_proc = prepare_glm_data(df=df, X=X_obs, dt=dt, ids=ids, cog_df=df[[\"MCATOT\",\"PIGD_score\",\"TD_score\"]])\n",
    "\n",
    "pid_to_beta = init_beta_mixedlm(df_proc, t_max=t_max)\n",
    "unique_ids = np.unique(ids)\n",
    "beta_init = np.array([pid_to_beta.get(pid, 0.0) for pid in unique_ids])\n",
    "\n",
    "initial_beta = (beta_init + np.abs(min(beta_init)))*1.5e5\n",
    "plt.hist(initial_beta)"
   ]
  },
  {
   "cell_type": "code",
   "execution_count": 5,
   "metadata": {},
   "outputs": [],
   "source": [
    "def create_patient_list(X_obs, ids, dt, cog, initial_beta=None):\n",
    "    unique_ids = np.unique(ids)\n",
    "    id_to_index = {pid: idx for idx, pid in enumerate(unique_ids)}\n",
    "\n",
    "    patient_list = []\n",
    "    for pid in unique_ids:\n",
    "        mask = (ids == pid)\n",
    "        patient_data = {\n",
    "            \"id\": pid,\n",
    "            \"X_obs\": X_obs[mask],\n",
    "            \"dt\": dt[mask],\n",
    "            \"cog\": cog[mask],\n",
    "        }\n",
    "        if initial_beta is not None:\n",
    "            patient_data[\"initial_beta\"] = initial_beta[id_to_index[pid]]\n",
    "        patient_list.append(patient_data)\n",
    "\n",
    "    return patient_list\n",
    "\n",
    "X = create_patient_list(X_obs, ids, dt, cog, initial_beta)"
   ]
  },
  {
   "cell_type": "code",
   "execution_count": null,
   "metadata": {},
   "outputs": [
    {
     "name": "stderr",
     "output_type": "stream",
     "text": [
      " 10%|█         | 2/20 [00:00<00:05,  3.19it/s]"
     ]
    },
    {
     "name": "stdout",
     "output_type": "stream",
     "text": [
      "warning: toggling to jac False; due to increase or convergence in LSE at iteration 2.\n",
      "warning: toggling to jac False; due to increase or convergence in LSE at iteration 2.\n",
      "warning: toggling to jac False; due to increase or convergence in LSE at iteration 2.\n",
      "warning: toggling to jac False; due to increase or convergence in LSE at iteration 2.\n",
      "warning: toggling to jac False; due to increase or convergence in LSE at iteration 2.\n",
      "warning: toggling to jac False; due to increase or convergence in LSE at iteration 2.\n",
      "warning: toggling to jac False; due to increase or convergence in LSE at iteration 2.\n",
      "warning: toggling to jac False; due to increase or convergence in LSE at iteration 2.\n",
      "warning: toggling to jac False; due to increase or convergence in LSE at iteration 2.\n",
      "warning: toggling to jac False; due to increase or convergence in LSE at iteration 2.\n",
      "warning: toggling to jac False; due to increase or convergence in LSE at iteration 2.\n",
      "warning: toggling to jac False; due to increase or convergence in LSE at iteration 2.\n",
      "warning: toggling to jac False; due to increase or convergence in LSE at iteration 2.\n",
      "warning: toggling to jac False; due to increase or convergence in LSE at iteration 2.\n"
     ]
    },
    {
     "name": "stderr",
     "output_type": "stream",
     "text": [
      " 10%|█         | 2/20 [00:00<00:06,  2.71it/s]"
     ]
    },
    {
     "name": "stdout",
     "output_type": "stream",
     "text": [
      "warning: toggling to jac False; due to increase or convergence in LSE at iteration 2.\n"
     ]
    },
    {
     "name": "stderr",
     "output_type": "stream",
     "text": [
      " 85%|████████▌ | 17/20 [00:17<00:02,  1.09it/s]"
     ]
    },
    {
     "name": "stdout",
     "output_type": "stream",
     "text": [
      "warning: toggling to jac False; due to increase or convergence in LSE at iteration 17.\n",
      "warning: toggling to jac False; due to increase or convergence in LSE at iteration 17.\n"
     ]
    },
    {
     "name": "stderr",
     "output_type": "stream",
     "text": [
      " 90%|█████████ | 18/20 [00:26<00:07,  3.78s/it]"
     ]
    },
    {
     "name": "stdout",
     "output_type": "stream",
     "text": [
      "warning: toggling to jac False; due to increase or convergence in LSE at iteration 18.\n",
      "L-BFGS and Nelder-Mead both failed to improve LSE, exiting early due to convergence\n"
     ]
    },
    {
     "name": "stderr",
     "output_type": "stream",
     "text": [
      " 90%|█████████ | 18/20 [00:29<00:03,  1.64s/it]\n",
      " 10%|█         | 2/20 [00:00<00:05,  3.42it/s]]"
     ]
    },
    {
     "name": "stdout",
     "output_type": "stream",
     "text": [
      "warning: toggling to jac False; due to increase or convergence in LSE at iteration 2.\n",
      "warning: toggling to jac False; due to increase or convergence in LSE at iteration 18.\n"
     ]
    },
    {
     "name": "stderr",
     "output_type": "stream",
     "text": [
      " 25%|██▌       | 5/20 [00:34<01:35,  6.35s/it]"
     ]
    },
    {
     "name": "stdout",
     "output_type": "stream",
     "text": [
      "warning: toggling to jac False; due to increase or convergence in LSE at iteration 5.\n"
     ]
    },
    {
     "name": "stderr",
     "output_type": "stream",
     "text": [
      " 30%|███       | 6/20 [00:34<01:02,  4.43s/it]"
     ]
    },
    {
     "name": "stdout",
     "output_type": "stream",
     "text": [
      "warning: toggling to jac False; due to increase or convergence in LSE at iteration 5.\n"
     ]
    },
    {
     "name": "stderr",
     "output_type": "stream",
     "text": [
      " 15%|█▌        | 3/20 [00:35<04:31, 15.98s/it]"
     ]
    },
    {
     "name": "stdout",
     "output_type": "stream",
     "text": [
      "warning: toggling to jac False; due to increase or convergence in LSE at iteration 6.\n"
     ]
    },
    {
     "name": "stderr",
     "output_type": "stream",
     "text": [
      " 20%|██        | 4/20 [00:38<02:52, 10.77s/it]"
     ]
    },
    {
     "name": "stdout",
     "output_type": "stream",
     "text": [
      "warning: toggling to jac False; due to increase or convergence in LSE at iteration 6.\n"
     ]
    },
    {
     "name": "stderr",
     "output_type": "stream",
     "text": [
      " 25%|██▌       | 5/20 [00:40<01:49,  7.30s/it]"
     ]
    },
    {
     "name": "stdout",
     "output_type": "stream",
     "text": [
      "warning: toggling to jac False; due to increase or convergence in LSE at iteration 5.\n"
     ]
    },
    {
     "name": "stderr",
     "output_type": "stream",
     "text": [
      " 25%|██▌       | 5/20 [00:43<01:59,  7.98s/it]"
     ]
    },
    {
     "name": "stdout",
     "output_type": "stream",
     "text": [
      "warning: toggling to jac False; due to increase or convergence in LSE at iteration 6.\n",
      "warning: toggling to jac False; due to increase or convergence in LSE at iteration 6.\n"
     ]
    },
    {
     "name": "stderr",
     "output_type": "stream",
     "text": [
      " 25%|██▌       | 5/20 [00:44<02:01,  8.10s/it]"
     ]
    },
    {
     "name": "stdout",
     "output_type": "stream",
     "text": [
      "warning: toggling to jac False; due to increase or convergence in LSE at iteration 5.\n"
     ]
    },
    {
     "name": "stderr",
     "output_type": "stream",
     "text": [
      " 20%|██        | 4/20 [00:45<03:20, 12.52s/it]"
     ]
    },
    {
     "name": "stdout",
     "output_type": "stream",
     "text": [
      "warning: toggling to jac False; due to increase or convergence in LSE at iteration 5.\n"
     ]
    },
    {
     "name": "stderr",
     "output_type": "stream",
     "text": [
      " 25%|██▌       | 5/20 [00:46<02:05,  8.36s/it]"
     ]
    },
    {
     "name": "stdout",
     "output_type": "stream",
     "text": [
      "warning: toggling to jac False; due to increase or convergence in LSE at iteration 5.\n",
      "L-BFGS and Nelder-Mead both failed to improve LSE, exiting early due to convergence\n"
     ]
    },
    {
     "name": "stderr",
     "output_type": "stream",
     "text": [
      " 25%|██▌       | 5/20 [00:48<02:25,  9.72s/it]\n",
      " 25%|██▌       | 5/20 [00:49<02:27,  9.83s/it]\n",
      "  0%|          | 0/20 [00:00<?, ?it/s]"
     ]
    },
    {
     "name": "stdout",
     "output_type": "stream",
     "text": [
      "L-BFGS and Nelder-Mead both failed to improve LSE, exiting early due to convergence\n"
     ]
    },
    {
     "name": "stderr",
     "output_type": "stream",
     "text": [
      "  5%|▌         | 1/20 [00:00<00:05,  3.61it/s]"
     ]
    },
    {
     "name": "stdout",
     "output_type": "stream",
     "text": [
      "warning: toggling to jac False; due to increase or convergence in LSE at iteration 2.\n"
     ]
    },
    {
     "name": "stderr",
     "output_type": "stream",
     "text": [
      " 10%|█         | 2/20 [00:00<00:05,  3.15it/s]"
     ]
    },
    {
     "name": "stdout",
     "output_type": "stream",
     "text": [
      "warning: toggling to jac False; due to increase or convergence in LSE at iteration 2.\n"
     ]
    },
    {
     "name": "stderr",
     "output_type": "stream",
     "text": [
      " 95%|█████████▌| 19/20 [00:54<00:10, 10.59s/it]"
     ]
    },
    {
     "name": "stdout",
     "output_type": "stream",
     "text": [
      "warning: toggling to jac False; due to increase or convergence in LSE at iteration 19.\n"
     ]
    },
    {
     "name": "stderr",
     "output_type": "stream",
     "text": [
      " 15%|█▌        | 3/20 [00:56<07:14, 25.55s/it]"
     ]
    },
    {
     "name": "stdout",
     "output_type": "stream",
     "text": [
      "warning: toggling to jac False; due to increase or convergence in LSE at iteration 7.\n"
     ]
    },
    {
     "name": "stderr",
     "output_type": "stream",
     "text": [
      " 95%|█████████▌| 19/20 [00:59<00:03,  3.11s/it]\n"
     ]
    },
    {
     "name": "stdout",
     "output_type": "stream",
     "text": [
      "L-BFGS and Nelder-Mead both failed to improve LSE, exiting early due to convergence\n"
     ]
    },
    {
     "name": "stderr",
     "output_type": "stream",
     "text": [
      " 10%|█         | 2/20 [00:00<00:05,  3.01it/s]"
     ]
    },
    {
     "name": "stdout",
     "output_type": "stream",
     "text": [
      "warning: toggling to jac False; due to increase or convergence in LSE at iteration 5.\n",
      "warning: toggling to jac False; due to increase or convergence in LSE at iteration 2.\n"
     ]
    },
    {
     "name": "stderr",
     "output_type": "stream",
     "text": [
      " 15%|█▌        | 3/20 [01:04<08:17, 29.25s/it]"
     ]
    },
    {
     "name": "stdout",
     "output_type": "stream",
     "text": [
      "warning: toggling to jac False; due to increase or convergence in LSE at iteration 7.\n",
      "warning: toggling to jac False; due to increase or convergence in LSE at iteration 7.\n"
     ]
    },
    {
     "name": "stderr",
     "output_type": "stream",
     "text": [
      " 20%|██        | 4/20 [01:05<04:50, 18.17s/it]"
     ]
    },
    {
     "name": "stdout",
     "output_type": "stream",
     "text": [
      "warning: toggling to jac False; due to increase or convergence in LSE at iteration 7.\n",
      "L-BFGS and Nelder-Mead both failed to improve LSE, exiting early due to convergence\n"
     ]
    },
    {
     "name": "stderr",
     "output_type": "stream",
     "text": [
      " 35%|███▌      | 7/20 [01:05<02:02,  9.43s/it]\n",
      " 25%|██▌       | 5/20 [01:06<03:00, 12.05s/it]"
     ]
    },
    {
     "name": "stdout",
     "output_type": "stream",
     "text": [
      "warning: toggling to jac False; due to increase or convergence in LSE at iteration 2.\n",
      "warning: toggling to jac False; due to increase or convergence in LSE at iteration 5.\n"
     ]
    },
    {
     "name": "stderr",
     "output_type": "stream",
     "text": [
      " 25%|██▌       | 5/20 [00:39<01:46,  7.12s/it]"
     ]
    },
    {
     "name": "stdout",
     "output_type": "stream",
     "text": [
      "warning: toggling to jac False; due to increase or convergence in LSE at iteration 5.\n",
      "L-BFGS and Nelder-Mead both failed to improve LSE, exiting early due to convergence\n"
     ]
    },
    {
     "name": "stderr",
     "output_type": "stream",
     "text": [
      " 35%|███▌      | 7/20 [01:10<02:10, 10.06s/it]\n",
      " 10%|█         | 2/20 [00:00<00:06,  2.82it/s]"
     ]
    },
    {
     "name": "stdout",
     "output_type": "stream",
     "text": [
      "warning: toggling to jac False; due to increase or convergence in LSE at iteration 2.\n",
      "L-BFGS and Nelder-Mead both failed to improve LSE, exiting early due to convergence\n"
     ]
    },
    {
     "name": "stderr",
     "output_type": "stream",
     "text": [
      " 35%|███▌      | 7/20 [01:12<02:13, 10.31s/it]\n",
      " 10%|█         | 2/20 [00:00<00:05,  3.46it/s]"
     ]
    },
    {
     "name": "stdout",
     "output_type": "stream",
     "text": [
      "warning: toggling to jac False; due to increase or convergence in LSE at iteration 2.\n",
      "L-BFGS and Nelder-Mead both failed to improve LSE, exiting early due to convergence\n"
     ]
    },
    {
     "name": "stderr",
     "output_type": "stream",
     "text": [
      " 35%|███▌      | 7/20 [01:13<02:16, 10.51s/it]\n",
      " 10%|█         | 2/20 [00:00<00:05,  3.21it/s]"
     ]
    },
    {
     "name": "stdout",
     "output_type": "stream",
     "text": [
      "warning: toggling to jac False; due to increase or convergence in LSE at iteration 2.\n"
     ]
    },
    {
     "name": "stderr",
     "output_type": "stream",
     "text": [
      " 30%|███       | 6/20 [01:15<03:37, 15.53s/it]"
     ]
    },
    {
     "name": "stdout",
     "output_type": "stream",
     "text": [
      "warning: toggling to jac False; due to increase or convergence in LSE at iteration 6.\n"
     ]
    },
    {
     "name": "stderr",
     "output_type": "stream",
     "text": [
      " 20%|██        | 4/20 [00:27<02:02,  7.65s/it]"
     ]
    },
    {
     "name": "stdout",
     "output_type": "stream",
     "text": [
      "warning: toggling to jac False; due to increase or convergence in LSE at iteration 7.\n",
      "L-BFGS and Nelder-Mead both failed to improve LSE, exiting early due to convergence\n"
     ]
    },
    {
     "name": "stderr",
     "output_type": "stream",
     "text": [
      " 30%|███       | 6/20 [01:17<02:59, 12.84s/it]\n",
      " 25%|██▌       | 5/20 [00:28<01:20,  5.38s/it]"
     ]
    },
    {
     "name": "stdout",
     "output_type": "stream",
     "text": [
      "warning: toggling to jac False; due to increase or convergence in LSE at iteration 2.\n"
     ]
    },
    {
     "name": "stderr",
     "output_type": "stream",
     "text": [
      " 45%|████▌     | 9/20 [01:18<01:00,  5.54s/it]"
     ]
    },
    {
     "name": "stdout",
     "output_type": "stream",
     "text": [
      "warning: toggling to jac False; due to increase or convergence in LSE at iteration 5.\n"
     ]
    },
    {
     "name": "stderr",
     "output_type": "stream",
     "text": [
      " 55%|█████▌    | 11/20 [01:20<00:28,  3.14s/it]"
     ]
    },
    {
     "name": "stdout",
     "output_type": "stream",
     "text": [
      "warning: toggling to jac False; due to increase or convergence in LSE at iteration 11.\n"
     ]
    },
    {
     "name": "stderr",
     "output_type": "stream",
     "text": [
      " 25%|██▌       | 5/20 [01:24<03:47, 15.14s/it]"
     ]
    },
    {
     "name": "stdout",
     "output_type": "stream",
     "text": [
      "warning: toggling to jac False; due to increase or convergence in LSE at iteration 5.\n"
     ]
    },
    {
     "name": "stderr",
     "output_type": "stream",
     "text": [
      " 20%|██        | 4/20 [01:30<06:38, 24.94s/it]"
     ]
    },
    {
     "name": "stdout",
     "output_type": "stream",
     "text": [
      "L-BFGS and Nelder-Mead both failed to improve LSE, exiting early due to convergence\n"
     ]
    },
    {
     "name": "stderr",
     "output_type": "stream",
     "text": [
      " 25%|██▌       | 5/20 [01:30<04:31, 18.08s/it]\n",
      " 25%|██▌       | 5/20 [01:31<04:05, 16.40s/it]"
     ]
    },
    {
     "name": "stdout",
     "output_type": "stream",
     "text": [
      "warning: toggling to jac False; due to increase or convergence in LSE at iteration 2.\n",
      "warning: toggling to jac False; due to increase or convergence in LSE at iteration 5.\n"
     ]
    },
    {
     "name": "stderr",
     "output_type": "stream",
     "text": [
      " 20%|██        | 4/20 [00:44<03:19, 12.48s/it]"
     ]
    },
    {
     "name": "stdout",
     "output_type": "stream",
     "text": [
      "warning: toggling to jac False; due to increase or convergence in LSE at iteration 7.\n"
     ]
    },
    {
     "name": "stderr",
     "output_type": "stream",
     "text": [
      " 25%|██▌       | 5/20 [00:46<02:05,  8.38s/it]"
     ]
    },
    {
     "name": "stdout",
     "output_type": "stream",
     "text": [
      "warning: toggling to jac False; due to increase or convergence in LSE at iteration 5.\n"
     ]
    },
    {
     "name": "stderr",
     "output_type": "stream",
     "text": [
      " 40%|████      | 8/20 [01:39<03:11, 15.97s/it]"
     ]
    },
    {
     "name": "stdout",
     "output_type": "stream",
     "text": [
      "warning: toggling to jac False; due to increase or convergence in LSE at iteration 8.\n",
      "L-BFGS and Nelder-Mead both failed to improve LSE, exiting early due to convergence\n"
     ]
    },
    {
     "name": "stderr",
     "output_type": "stream",
     "text": [
      " 40%|████      | 8/20 [01:41<02:32, 12.74s/it]\n",
      " 10%|█         | 2/20 [00:00<00:05,  3.08it/s]"
     ]
    },
    {
     "name": "stdout",
     "output_type": "stream",
     "text": [
      "warning: toggling to jac False; due to increase or convergence in LSE at iteration 2.\n",
      "L-BFGS and Nelder-Mead both failed to improve LSE, exiting early due to convergence\n"
     ]
    },
    {
     "name": "stderr",
     "output_type": "stream",
     "text": [
      " 35%|███▌      | 7/20 [01:45<03:15, 15.00s/it]\n",
      " 10%|█         | 2/20 [00:00<00:05,  3.23it/s]"
     ]
    },
    {
     "name": "stdout",
     "output_type": "stream",
     "text": [
      "warning: toggling to jac False; due to increase or convergence in LSE at iteration 2.\n"
     ]
    },
    {
     "name": "stderr",
     "output_type": "stream",
     "text": [
      " 30%|███       | 6/20 [01:03<03:33, 15.24s/it]"
     ]
    },
    {
     "name": "stdout",
     "output_type": "stream",
     "text": [
      "warning: toggling to jac False; due to increase or convergence in LSE at iteration 6.\n"
     ]
    },
    {
     "name": "stderr",
     "output_type": "stream",
     "text": [
      " 15%|█▌        | 3/20 [00:59<07:43, 27.27s/it]"
     ]
    },
    {
     "name": "stdout",
     "output_type": "stream",
     "text": [
      "warning: toggling to jac False; due to increase or convergence in LSE at iteration 6.\n",
      "L-BFGS and Nelder-Mead both failed to improve LSE, exiting early due to convergence\n"
     ]
    },
    {
     "name": "stderr",
     "output_type": "stream",
     "text": [
      " 30%|███       | 6/20 [01:10<02:45, 11.79s/it]\n",
      " 10%|█         | 2/20 [00:00<00:05,  3.13it/s]"
     ]
    },
    {
     "name": "stdout",
     "output_type": "stream",
     "text": [
      "warning: toggling to jac False; due to increase or convergence in LSE at iteration 2.\n"
     ]
    },
    {
     "name": "stderr",
     "output_type": "stream",
     "text": [
      " 30%|███       | 6/20 [01:02<01:46,  7.60s/it]"
     ]
    },
    {
     "name": "stdout",
     "output_type": "stream",
     "text": [
      "warning: toggling to jac False; due to increase or convergence in LSE at iteration 6.\n"
     ]
    },
    {
     "name": "stderr",
     "output_type": "stream",
     "text": [
      " 30%|███       | 6/20 [00:52<01:29,  6.37s/it]"
     ]
    },
    {
     "name": "stdout",
     "output_type": "stream",
     "text": [
      "warning: toggling to jac False; due to increase or convergence in LSE at iteration 6.\n"
     ]
    },
    {
     "name": "stderr",
     "output_type": "stream",
     "text": [
      " 65%|██████▌   | 13/20 [02:08<01:22, 11.78s/it]"
     ]
    },
    {
     "name": "stdout",
     "output_type": "stream",
     "text": [
      "warning: toggling to jac False; due to increase or convergence in LSE at iteration 5.\n"
     ]
    },
    {
     "name": "stderr",
     "output_type": "stream",
     "text": [
      " 30%|███       | 6/20 [01:19<03:57, 16.93s/it]"
     ]
    },
    {
     "name": "stdout",
     "output_type": "stream",
     "text": [
      "warning: toggling to jac False; due to increase or convergence in LSE at iteration 5.\n",
      "warning: toggling to jac False; due to increase or convergence in LSE at iteration 13.\n"
     ]
    },
    {
     "name": "stderr",
     "output_type": "stream",
     "text": [
      " 25%|██▌       | 5/20 [00:53<02:24,  9.64s/it]"
     ]
    },
    {
     "name": "stdout",
     "output_type": "stream",
     "text": [
      "warning: toggling to jac False; due to increase or convergence in LSE at iteration 5.\n"
     ]
    },
    {
     "name": "stderr",
     "output_type": "stream",
     "text": [
      " 30%|███       | 6/20 [02:13<05:52, 25.15s/it]]"
     ]
    },
    {
     "name": "stdout",
     "output_type": "stream",
     "text": [
      "warning: toggling to jac False; due to increase or convergence in LSE at iteration 14.\n"
     ]
    },
    {
     "name": "stderr",
     "output_type": "stream",
     "text": [
      " 35%|███▌      | 7/20 [02:14<03:44, 17.30s/it]"
     ]
    },
    {
     "name": "stdout",
     "output_type": "stream",
     "text": [
      "warning: toggling to jac False; due to increase or convergence in LSE at iteration 7.\n"
     ]
    },
    {
     "name": "stderr",
     "output_type": "stream",
     "text": [
      " 55%|█████▌    | 11/20 [01:26<00:35,  3.94s/it]"
     ]
    },
    {
     "name": "stdout",
     "output_type": "stream",
     "text": [
      "warning: toggling to jac False; due to increase or convergence in LSE at iteration 7.\n",
      "warning: toggling to jac False; due to increase or convergence in LSE at iteration 11.\n",
      "L-BFGS and Nelder-Mead both failed to improve LSE, exiting early due to convergence\n"
     ]
    },
    {
     "name": "stderr",
     "output_type": "stream",
     "text": [
      " 70%|███████   | 14/20 [02:16<00:58,  9.77s/it]\n",
      " 10%|█         | 2/20 [00:00<00:05,  3.18it/s]"
     ]
    },
    {
     "name": "stdout",
     "output_type": "stream",
     "text": [
      "warning: toggling to jac False; due to increase or convergence in LSE at iteration 2.\n"
     ]
    },
    {
     "name": "stderr",
     "output_type": "stream",
     "text": [
      " 35%|███▌      | 7/20 [01:51<04:17, 19.80s/it]"
     ]
    },
    {
     "name": "stdout",
     "output_type": "stream",
     "text": [
      "warning: toggling to jac False; due to increase or convergence in LSE at iteration 5.\n"
     ]
    },
    {
     "name": "stderr",
     "output_type": "stream",
     "text": [
      " 15%|█▌        | 3/20 [00:50<06:33, 23.17s/it]"
     ]
    },
    {
     "name": "stdout",
     "output_type": "stream",
     "text": [
      "warning: toggling to jac False; due to increase or convergence in LSE at iteration 7.\n"
     ]
    },
    {
     "name": "stderr",
     "output_type": "stream",
     "text": [
      " 25%|██▌       | 5/20 [00:52<02:22,  9.47s/it]"
     ]
    },
    {
     "name": "stdout",
     "output_type": "stream",
     "text": [
      "warning: toggling to jac False; due to increase or convergence in LSE at iteration 5.\n",
      "L-BFGS and Nelder-Mead both failed to improve LSE, exiting early due to convergence\n"
     ]
    },
    {
     "name": "stderr",
     "output_type": "stream",
     "text": [
      " 35%|███▌      | 7/20 [01:55<03:33, 16.43s/it]\n",
      " 10%|█         | 2/20 [00:00<00:05,  3.53it/s]"
     ]
    },
    {
     "name": "stdout",
     "output_type": "stream",
     "text": [
      "warning: toggling to jac False; due to increase or convergence in LSE at iteration 2.\n"
     ]
    },
    {
     "name": "stderr",
     "output_type": "stream",
     "text": [
      " 40%|████      | 8/20 [02:29<03:50, 19.22s/it]"
     ]
    },
    {
     "name": "stdout",
     "output_type": "stream",
     "text": [
      "warning: toggling to jac False; due to increase or convergence in LSE at iteration 8.\n",
      "warning: toggling to jac False; due to increase or convergence in LSE at iteration 8.\n"
     ]
    },
    {
     "name": "stderr",
     "output_type": "stream",
     "text": [
      " 40%|████      | 8/20 [02:33<03:49, 19.14s/it]\n",
      "  0%|          | 0/20 [00:00<?, ?it/s]"
     ]
    },
    {
     "name": "stdout",
     "output_type": "stream",
     "text": [
      "L-BFGS and Nelder-Mead both failed to improve LSE, exiting early due to convergence\n"
     ]
    },
    {
     "name": "stderr",
     "output_type": "stream",
     "text": [
      " 10%|█         | 2/20 [00:00<00:04,  3.61it/s]"
     ]
    },
    {
     "name": "stdout",
     "output_type": "stream",
     "text": [
      "warning: toggling to jac False; due to increase or convergence in LSE at iteration 2.\n",
      "warning: toggling to jac False; due to increase or convergence in LSE at iteration 5.\n"
     ]
    },
    {
     "name": "stderr",
     "output_type": "stream",
     "text": [
      " 60%|██████    | 12/20 [01:47<01:12,  9.11s/it]"
     ]
    },
    {
     "name": "stdout",
     "output_type": "stream",
     "text": [
      "warning: toggling to jac False; due to increase or convergence in LSE at iteration 11.\n"
     ]
    },
    {
     "name": "stderr",
     "output_type": "stream",
     "text": [
      " 40%|████      | 8/20 [01:25<01:35,  7.96s/it]]"
     ]
    },
    {
     "name": "stdout",
     "output_type": "stream",
     "text": [
      "warning: toggling to jac False; due to increase or convergence in LSE at iteration 11.\n"
     ]
    },
    {
     "name": "stderr",
     "output_type": "stream",
     "text": [
      " 60%|██████    | 12/20 [01:25<00:29,  3.63s/it]"
     ]
    },
    {
     "name": "stdout",
     "output_type": "stream",
     "text": [
      "warning: toggling to jac False; due to increase or convergence in LSE at iteration 14.\n"
     ]
    },
    {
     "name": "stderr",
     "output_type": "stream",
     "text": [
      " 40%|████      | 8/20 [01:29<01:41,  8.44s/it]]"
     ]
    },
    {
     "name": "stdout",
     "output_type": "stream",
     "text": [
      "warning: toggling to jac False; due to increase or convergence in LSE at iteration 12.\n",
      "warning: toggling to jac False; due to increase or convergence in LSE at iteration 10.\n",
      "L-BFGS and Nelder-Mead both failed to improve LSE, exiting early due to convergence\n"
     ]
    },
    {
     "name": "stderr",
     "output_type": "stream",
     "text": [
      " 60%|██████    | 12/20 [01:27<00:58,  7.27s/it]\n",
      " 10%|█         | 2/20 [00:00<00:05,  3.11it/s]]"
     ]
    },
    {
     "name": "stdout",
     "output_type": "stream",
     "text": [
      "warning: toggling to jac False; due to increase or convergence in LSE at iteration 2.\n"
     ]
    },
    {
     "name": "stderr",
     "output_type": "stream",
     "text": [
      " 60%|██████    | 12/20 [01:29<00:20,  2.61s/it]"
     ]
    },
    {
     "name": "stdout",
     "output_type": "stream",
     "text": [
      "warning: toggling to jac False; due to increase or convergence in LSE at iteration 9.\n"
     ]
    },
    {
     "name": "stderr",
     "output_type": "stream",
     "text": [
      " 65%|██████▌   | 13/20 [01:31<00:15,  2.20s/it]"
     ]
    },
    {
     "name": "stdout",
     "output_type": "stream",
     "text": [
      "warning: toggling to jac False; due to increase or convergence in LSE at iteration 15.\n"
     ]
    },
    {
     "name": "stderr",
     "output_type": "stream",
     "text": [
      " 35%|███▌      | 7/20 [01:27<02:36, 12.02s/it]]"
     ]
    },
    {
     "name": "stdout",
     "output_type": "stream",
     "text": [
      "warning: toggling to jac False; due to increase or convergence in LSE at iteration 13.\n",
      "warning: toggling to jac False; due to increase or convergence in LSE at iteration 12.\n"
     ]
    },
    {
     "name": "stderr",
     "output_type": "stream",
     "text": [
      " 15%|█▌        | 3/20 [00:21<02:48,  9.90s/it]]"
     ]
    },
    {
     "name": "stdout",
     "output_type": "stream",
     "text": [
      "L-BFGS and Nelder-Mead both failed to improve LSE, exiting early due to convergence\n",
      "warning: toggling to jac False; due to increase or convergence in LSE at iteration 10.\n"
     ]
    },
    {
     "name": "stderr",
     "output_type": "stream",
     "text": [
      " 75%|███████▌  | 15/20 [01:58<00:39,  7.87s/it]\n",
      "  5%|▌         | 1/20 [00:00<00:05,  3.28it/s]"
     ]
    },
    {
     "name": "stdout",
     "output_type": "stream",
     "text": [
      "warning: toggling to jac False; due to increase or convergence in LSE at iteration 9.\n"
     ]
    },
    {
     "name": "stderr",
     "output_type": "stream",
     "text": [
      " 10%|█         | 2/20 [00:00<00:05,  3.07it/s]]"
     ]
    },
    {
     "name": "stdout",
     "output_type": "stream",
     "text": [
      "warning: toggling to jac False; due to increase or convergence in LSE at iteration 2.\n"
     ]
    },
    {
     "name": "stderr",
     "output_type": "stream",
     "text": [
      " 20%|██        | 4/20 [00:23<01:43,  6.50s/it]"
     ]
    },
    {
     "name": "stdout",
     "output_type": "stream",
     "text": [
      "L-BFGS and Nelder-Mead both failed to improve LSE, exiting early due to convergence\n",
      "warning: toggling to jac False; due to increase or convergence in LSE at iteration 13.\n"
     ]
    },
    {
     "name": "stderr",
     "output_type": "stream",
     "text": [
      " 50%|█████     | 10/20 [01:37<01:37,  9.78s/it]\n",
      " 30%|███       | 6/20 [01:18<03:30, 15.06s/it]"
     ]
    },
    {
     "name": "stdout",
     "output_type": "stream",
     "text": [
      "warning: toggling to jac False; due to increase or convergence in LSE at iteration 2.\n",
      "L-BFGS and Nelder-Mead both failed to improve LSE, exiting early due to convergence\n"
     ]
    },
    {
     "name": "stderr",
     "output_type": "stream",
     "text": [
      " 65%|██████▌   | 13/20 [01:50<00:59,  8.48s/it]\n",
      " 50%|█████     | 10/20 [01:05<00:35,  3.56s/it]"
     ]
    },
    {
     "name": "stdout",
     "output_type": "stream",
     "text": [
      "warning: toggling to jac False; due to increase or convergence in LSE at iteration 2.\n",
      "warning: toggling to jac False; due to increase or convergence in LSE at iteration 10.\n"
     ]
    },
    {
     "name": "stderr",
     "output_type": "stream",
     "text": [
      " 40%|████      | 8/20 [01:20<01:28,  7.39s/it]"
     ]
    },
    {
     "name": "stdout",
     "output_type": "stream",
     "text": [
      "warning: toggling to jac False; due to increase or convergence in LSE at iteration 10.\n",
      "warning: toggling to jac False; due to increase or convergence in LSE at iteration 6.\n"
     ]
    },
    {
     "name": "stderr",
     "output_type": "stream",
     "text": [
      " 45%|████▌     | 9/20 [01:21<00:59,  5.44s/it]"
     ]
    },
    {
     "name": "stdout",
     "output_type": "stream",
     "text": [
      "L-BFGS and Nelder-Mead both failed to improve LSE, exiting early due to convergence\n"
     ]
    },
    {
     "name": "stderr",
     "output_type": "stream",
     "text": [
      " 50%|█████     | 10/20 [01:07<01:07,  6.73s/it]\n",
      " 50%|█████     | 10/20 [01:36<01:36,  9.61s/it]\n",
      "  0%|          | 0/20 [00:00<?, ?it/s]"
     ]
    },
    {
     "name": "stdout",
     "output_type": "stream",
     "text": [
      "L-BFGS and Nelder-Mead both failed to improve LSE, exiting early due to convergence\n",
      "warning: toggling to jac False; due to increase or convergence in LSE at iteration 2.\n"
     ]
    },
    {
     "name": "stderr",
     "output_type": "stream",
     "text": [
      " 70%|███████   | 14/20 [01:41<00:28,  4.75s/it]"
     ]
    },
    {
     "name": "stdout",
     "output_type": "stream",
     "text": [
      "warning: toggling to jac False; due to increase or convergence in LSE at iteration 2.\n"
     ]
    },
    {
     "name": "stderr",
     "output_type": "stream",
     "text": [
      " 55%|█████▌    | 11/20 [01:23<00:28,  3.17s/it]"
     ]
    },
    {
     "name": "stdout",
     "output_type": "stream",
     "text": [
      "warning: toggling to jac False; due to increase or convergence in LSE at iteration 14.\n"
     ]
    },
    {
     "name": "stderr",
     "output_type": "stream",
     "text": [
      " 55%|█████▌    | 11/20 [01:50<01:25,  9.46s/it]"
     ]
    },
    {
     "name": "stdout",
     "output_type": "stream",
     "text": [
      "warning: toggling to jac False; due to increase or convergence in LSE at iteration 13.\n"
     ]
    },
    {
     "name": "stderr",
     "output_type": "stream",
     "text": [
      " 25%|██▌       | 5/20 [00:58<02:36, 10.46s/it]]"
     ]
    },
    {
     "name": "stdout",
     "output_type": "stream",
     "text": [
      "warning: toggling to jac False; due to increase or convergence in LSE at iteration 5.\n"
     ]
    },
    {
     "name": "stderr",
     "output_type": "stream",
     "text": [
      " 65%|██████▌   | 13/20 [01:52<00:36,  5.14s/it]"
     ]
    },
    {
     "name": "stdout",
     "output_type": "stream",
     "text": [
      "L-BFGS and Nelder-Mead both failed to improve LSE, exiting early due to convergence\n"
     ]
    },
    {
     "name": "stderr",
     "output_type": "stream",
     "text": [
      " 70%|███████   | 14/20 [01:47<00:45,  7.65s/it]\n",
      "  5%|▌         | 1/20 [00:00<00:06,  2.91it/s]"
     ]
    },
    {
     "name": "stdout",
     "output_type": "stream",
     "text": [
      "warning: toggling to jac False; due to increase or convergence in LSE at iteration 13.\n"
     ]
    },
    {
     "name": "stderr",
     "output_type": "stream",
     "text": [
      " 10%|█         | 2/20 [00:00<00:06,  2.87it/s]"
     ]
    },
    {
     "name": "stdout",
     "output_type": "stream",
     "text": [
      "warning: toggling to jac False; due to increase or convergence in LSE at iteration 2.\n",
      "L-BFGS and Nelder-Mead both failed to improve LSE, exiting early due to convergence\n"
     ]
    },
    {
     "name": "stderr",
     "output_type": "stream",
     "text": [
      " 65%|██████▌   | 13/20 [01:59<01:04,  9.17s/it]\n",
      " 10%|█         | 2/20 [00:00<00:05,  3.18it/s]"
     ]
    },
    {
     "name": "stdout",
     "output_type": "stream",
     "text": [
      "warning: toggling to jac False; due to increase or convergence in LSE at iteration 2.\n"
     ]
    },
    {
     "name": "stderr",
     "output_type": "stream",
     "text": [
      " 15%|█▌        | 3/20 [00:32<04:10, 14.76s/it]"
     ]
    },
    {
     "name": "stdout",
     "output_type": "stream",
     "text": [
      "warning: toggling to jac False; due to increase or convergence in LSE at iteration 5.\n"
     ]
    },
    {
     "name": "stderr",
     "output_type": "stream",
     "text": [
      " 50%|█████     | 10/20 [00:11<00:12,  1.24s/it]"
     ]
    },
    {
     "name": "stdout",
     "output_type": "stream",
     "text": [
      "warning: toggling to jac False; due to increase or convergence in LSE at iteration 5.\n"
     ]
    },
    {
     "name": "stderr",
     "output_type": "stream",
     "text": [
      " 65%|██████▌   | 13/20 [00:13<00:06,  1.04it/s]"
     ]
    },
    {
     "name": "stdout",
     "output_type": "stream",
     "text": [
      "warning: toggling to jac False; due to increase or convergence in LSE at iteration 5.\n",
      "warning: toggling to jac False; due to increase or convergence in LSE at iteration 13.\n"
     ]
    },
    {
     "name": "stderr",
     "output_type": "stream",
     "text": [
      " 45%|████▌     | 9/20 [00:42<00:27,  2.46s/it]"
     ]
    },
    {
     "name": "stdout",
     "output_type": "stream",
     "text": [
      "warning: toggling to jac False; due to increase or convergence in LSE at iteration 9.\n"
     ]
    },
    {
     "name": "stderr",
     "output_type": "stream",
     "text": [
      " 45%|████▌     | 9/20 [01:45<01:28,  8.01s/it]]"
     ]
    },
    {
     "name": "stdout",
     "output_type": "stream",
     "text": [
      "warning: toggling to jac False; due to increase or convergence in LSE at iteration 6.\n",
      "warning: toggling to jac False; due to increase or convergence in LSE at iteration 10.\n"
     ]
    },
    {
     "name": "stderr",
     "output_type": "stream",
     "text": [
      " 55%|█████▌    | 11/20 [01:46<00:38,  4.23s/it]"
     ]
    },
    {
     "name": "stdout",
     "output_type": "stream",
     "text": [
      "warning: toggling to jac False; due to increase or convergence in LSE at iteration 11.\n"
     ]
    },
    {
     "name": "stderr",
     "output_type": "stream",
     "text": [
      " 50%|█████     | 10/20 [01:06<00:54,  5.48s/it]"
     ]
    },
    {
     "name": "stdout",
     "output_type": "stream",
     "text": [
      "warning: toggling to jac False; due to increase or convergence in LSE at iteration 11.\n"
     ]
    },
    {
     "name": "stderr",
     "output_type": "stream",
     "text": [
      " 35%|███▌      | 7/20 [01:14<01:56,  8.94s/it]]"
     ]
    },
    {
     "name": "stdout",
     "output_type": "stream",
     "text": [
      "warning: toggling to jac False; due to increase or convergence in LSE at iteration 14.\n"
     ]
    },
    {
     "name": "stderr",
     "output_type": "stream",
     "text": [
      " 55%|█████▌    | 11/20 [01:32<01:15,  8.41s/it]\n",
      " 40%|████      | 8/20 [01:15<01:16,  6.36s/it]"
     ]
    },
    {
     "name": "stdout",
     "output_type": "stream",
     "text": [
      "L-BFGS and Nelder-Mead both failed to improve LSE, exiting early due to convergence\n",
      "warning: toggling to jac False; due to increase or convergence in LSE at iteration 11.\n"
     ]
    },
    {
     "name": "stderr",
     "output_type": "stream",
     "text": [
      " 10%|█         | 2/20 [00:00<00:05,  3.54it/s]"
     ]
    },
    {
     "name": "stdout",
     "output_type": "stream",
     "text": [
      "warning: toggling to jac False; due to increase or convergence in LSE at iteration 2.\n"
     ]
    },
    {
     "name": "stderr",
     "output_type": "stream",
     "text": [
      " 45%|████▌     | 9/20 [01:16<00:51,  4.65s/it]]"
     ]
    },
    {
     "name": "stdout",
     "output_type": "stream",
     "text": [
      "warning: toggling to jac False; due to increase or convergence in LSE at iteration 15.\n",
      "L-BFGS and Nelder-Mead both failed to improve LSE, exiting early due to convergence\n"
     ]
    },
    {
     "name": "stderr",
     "output_type": "stream",
     "text": [
      " 70%|███████   | 14/20 [02:04<00:53,  8.90s/it]\n",
      " 10%|█         | 2/20 [00:00<00:06,  2.97it/s]]"
     ]
    },
    {
     "name": "stdout",
     "output_type": "stream",
     "text": [
      "warning: toggling to jac False; due to increase or convergence in LSE at iteration 2.\n",
      "warning: toggling to jac False; due to increase or convergence in LSE at iteration 10.\n"
     ]
    },
    {
     "name": "stderr",
     "output_type": "stream",
     "text": [
      " 15%|█▌        | 3/20 [00:44<05:40, 20.04s/it]"
     ]
    },
    {
     "name": "stdout",
     "output_type": "stream",
     "text": [
      "L-BFGS and Nelder-Mead both failed to improve LSE, exiting early due to convergence\n"
     ]
    },
    {
     "name": "stderr",
     "output_type": "stream",
     "text": [
      " 50%|█████     | 10/20 [01:21<01:21,  8.11s/it]\n",
      " 25%|██▌       | 5/20 [00:45<02:02,  8.20s/it]"
     ]
    },
    {
     "name": "stdout",
     "output_type": "stream",
     "text": [
      "warning: toggling to jac False; due to increase or convergence in LSE at iteration 2.\n"
     ]
    },
    {
     "name": "stderr",
     "output_type": "stream",
     "text": [
      " 20%|██        | 4/20 [00:48<03:36, 13.52s/it]"
     ]
    },
    {
     "name": "stdout",
     "output_type": "stream",
     "text": [
      "warning: toggling to jac False; due to increase or convergence in LSE at iteration 6.\n"
     ]
    },
    {
     "name": "stderr",
     "output_type": "stream",
     "text": [
      " 25%|██▌       | 5/20 [00:49<02:16,  9.08s/it]"
     ]
    },
    {
     "name": "stdout",
     "output_type": "stream",
     "text": [
      "warning: toggling to jac False; due to increase or convergence in LSE at iteration 5.\n"
     ]
    },
    {
     "name": "stderr",
     "output_type": "stream",
     "text": [
      " 25%|██▌       | 5/20 [00:57<02:34, 10.32s/it]"
     ]
    },
    {
     "name": "stdout",
     "output_type": "stream",
     "text": [
      "warning: toggling to jac False; due to increase or convergence in LSE at iteration 5.\n"
     ]
    },
    {
     "name": "stderr",
     "output_type": "stream",
     "text": [
      " 25%|██▌       | 5/20 [01:01<02:46, 11.07s/it]]"
     ]
    },
    {
     "name": "stdout",
     "output_type": "stream",
     "text": [
      "warning: toggling to jac False; due to increase or convergence in LSE at iteration 5.\n"
     ]
    },
    {
     "name": "stderr",
     "output_type": "stream",
     "text": [
      " 70%|███████   | 14/20 [01:11<00:18,  3.01s/it]"
     ]
    },
    {
     "name": "stdout",
     "output_type": "stream",
     "text": [
      "warning: toggling to jac False; due to increase or convergence in LSE at iteration 6.\n"
     ]
    },
    {
     "name": "stderr",
     "output_type": "stream",
     "text": [
      " 35%|███▌      | 7/20 [01:06<02:20, 10.80s/it]]"
     ]
    },
    {
     "name": "stdout",
     "output_type": "stream",
     "text": [
      "warning: toggling to jac False; due to increase or convergence in LSE at iteration 14.\n"
     ]
    },
    {
     "name": "stderr",
     "output_type": "stream",
     "text": [
      " 40%|████      | 8/20 [01:07<01:32,  7.72s/it]]"
     ]
    },
    {
     "name": "stdout",
     "output_type": "stream",
     "text": [
      "L-BFGS and Nelder-Mead both failed to improve LSE, exiting early due to convergence\n"
     ]
    },
    {
     "name": "stderr",
     "output_type": "stream",
     "text": [
      " 70%|███████   | 14/20 [01:14<00:31,  5.29s/it]\n",
      " 10%|█         | 2/20 [00:00<00:04,  3.62it/s]]"
     ]
    },
    {
     "name": "stdout",
     "output_type": "stream",
     "text": [
      "warning: toggling to jac False; due to increase or convergence in LSE at iteration 2.\n"
     ]
    },
    {
     "name": "stderr",
     "output_type": "stream",
     "text": [
      " 45%|████▌     | 9/20 [01:09<01:03,  5.78s/it]]"
     ]
    },
    {
     "name": "stdout",
     "output_type": "stream",
     "text": [
      "warning: toggling to jac False; due to increase or convergence in LSE at iteration 15.\n"
     ]
    },
    {
     "name": "stderr",
     "output_type": "stream",
     "text": [
      " 50%|█████     | 10/20 [01:11<00:46,  4.63s/it]"
     ]
    },
    {
     "name": "stdout",
     "output_type": "stream",
     "text": [
      "warning: toggling to jac False; due to increase or convergence in LSE at iteration 10.\n"
     ]
    },
    {
     "name": "stderr",
     "output_type": "stream",
     "text": [
      " 45%|████▌     | 9/20 [01:08<00:59,  5.37s/it]]"
     ]
    },
    {
     "name": "stdout",
     "output_type": "stream",
     "text": [
      "warning: toggling to jac False; due to increase or convergence in LSE at iteration 14.\n",
      "L-BFGS and Nelder-Mead both failed to improve LSE, exiting early due to convergence\n"
     ]
    },
    {
     "name": "stderr",
     "output_type": "stream",
     "text": [
      " 50%|█████     | 10/20 [01:15<01:15,  7.56s/it]\n",
      " 40%|████      | 8/20 [01:30<02:18, 11.57s/it]]"
     ]
    },
    {
     "name": "stdout",
     "output_type": "stream",
     "text": [
      "warning: toggling to jac False; due to increase or convergence in LSE at iteration 2.\n"
     ]
    },
    {
     "name": "stderr",
     "output_type": "stream",
     "text": [
      " 80%|████████  | 16/20 [02:24<00:24,  6.00s/it]"
     ]
    },
    {
     "name": "stdout",
     "output_type": "stream",
     "text": [
      "warning: toggling to jac False; due to increase or convergence in LSE at iteration 12.\n",
      "warning: toggling to jac False; due to increase or convergence in LSE at iteration 16.\n"
     ]
    },
    {
     "name": "stderr",
     "output_type": "stream",
     "text": [
      " 80%|████████  | 16/20 [01:03<00:53, 13.31s/it]"
     ]
    },
    {
     "name": "stdout",
     "output_type": "stream",
     "text": [
      "warning: toggling to jac False; due to increase or convergence in LSE at iteration 15.\n"
     ]
    },
    {
     "name": "stderr",
     "output_type": "stream",
     "text": [
      " 35%|███▌      | 7/20 [01:16<02:14, 10.32s/it]"
     ]
    },
    {
     "name": "stdout",
     "output_type": "stream",
     "text": [
      "warning: toggling to jac False; due to increase or convergence in LSE at iteration 16.\n"
     ]
    },
    {
     "name": "stderr",
     "output_type": "stream",
     "text": [
      " 65%|██████▌   | 13/20 [01:37<00:21,  3.08s/it]"
     ]
    },
    {
     "name": "stdout",
     "output_type": "stream",
     "text": [
      "L-BFGS and Nelder-Mead both failed to improve LSE, exiting early due to convergence\n",
      "warning: toggling to jac False; due to increase or convergence in LSE at iteration 13.\n"
     ]
    },
    {
     "name": "stderr",
     "output_type": "stream",
     "text": [
      " 75%|███████▌  | 15/20 [01:46<00:35,  7.09s/it]\n",
      "  5%|▌         | 1/20 [00:00<00:05,  3.52it/s]"
     ]
    },
    {
     "name": "stdout",
     "output_type": "stream",
     "text": [
      "warning: toggling to jac False; due to increase or convergence in LSE at iteration 13.\n"
     ]
    },
    {
     "name": "stderr",
     "output_type": "stream",
     "text": [
      " 45%|████▌     | 9/20 [01:19<01:00,  5.54s/it]"
     ]
    },
    {
     "name": "stdout",
     "output_type": "stream",
     "text": [
      "warning: toggling to jac False; due to increase or convergence in LSE at iteration 2.\n",
      "warning: toggling to jac False; due to increase or convergence in LSE at iteration 9.\n",
      "L-BFGS and Nelder-Mead both failed to improve LSE, exiting early due to convergence\n"
     ]
    },
    {
     "name": "stderr",
     "output_type": "stream",
     "text": [
      " 65%|██████▌   | 13/20 [01:19<00:42,  6.12s/it]\n",
      " 10%|█         | 2/20 [00:00<00:04,  3.92it/s]"
     ]
    },
    {
     "name": "stdout",
     "output_type": "stream",
     "text": [
      "warning: toggling to jac False; due to increase or convergence in LSE at iteration 2.\n",
      "L-BFGS and Nelder-Mead both failed to improve LSE, exiting early due to convergence\n"
     ]
    },
    {
     "name": "stderr",
     "output_type": "stream",
     "text": [
      " 45%|████▌     | 9/20 [01:21<01:39,  9.04s/it]]\n",
      " 55%|█████▌    | 11/20 [01:15<00:28,  3.19s/it]"
     ]
    },
    {
     "name": "stdout",
     "output_type": "stream",
     "text": [
      "warning: toggling to jac False; due to increase or convergence in LSE at iteration 2.\n"
     ]
    },
    {
     "name": "stderr",
     "output_type": "stream",
     "text": [
      " 15%|█▌        | 3/20 [00:39<05:03, 17.83s/it]]"
     ]
    },
    {
     "name": "stdout",
     "output_type": "stream",
     "text": [
      "warning: toggling to jac False; due to increase or convergence in LSE at iteration 11.\n",
      "warning: toggling to jac False; due to increase or convergence in LSE at iteration 14.\n"
     ]
    },
    {
     "name": "stderr",
     "output_type": "stream",
     "text": [
      " 15%|█▌        | 3/20 [00:44<05:45, 20.32s/it]]"
     ]
    },
    {
     "name": "stdout",
     "output_type": "stream",
     "text": [
      "warning: toggling to jac False; due to increase or convergence in LSE at iteration 14.\n"
     ]
    },
    {
     "name": "stderr",
     "output_type": "stream",
     "text": [
      " 20%|██        | 4/20 [00:45<03:23, 12.71s/it]"
     ]
    },
    {
     "name": "stdout",
     "output_type": "stream",
     "text": [
      "warning: toggling to jac False; due to increase or convergence in LSE at iteration 6.\n"
     ]
    },
    {
     "name": "stderr",
     "output_type": "stream",
     "text": [
      " 75%|███████▌  | 15/20 [01:49<00:22,  4.44s/it]"
     ]
    },
    {
     "name": "stdout",
     "output_type": "stream",
     "text": [
      "warning: toggling to jac False; due to increase or convergence in LSE at iteration 5.\n",
      "warning: toggling to jac False; due to increase or convergence in LSE at iteration 15.\n",
      "L-BFGS and Nelder-Mead both failed to improve LSE, exiting early due to convergence\n"
     ]
    },
    {
     "name": "stderr",
     "output_type": "stream",
     "text": [
      " 75%|███████▌  | 15/20 [01:51<00:37,  7.40s/it]\n",
      " 10%|█         | 2/20 [00:00<00:05,  3.48it/s]"
     ]
    },
    {
     "name": "stdout",
     "output_type": "stream",
     "text": [
      "warning: toggling to jac False; due to increase or convergence in LSE at iteration 2.\n"
     ]
    },
    {
     "name": "stderr",
     "output_type": "stream",
     "text": [
      " 35%|███▌      | 7/20 [00:59<01:06,  5.08s/it]"
     ]
    },
    {
     "name": "stdout",
     "output_type": "stream",
     "text": [
      "warning: toggling to jac False; due to increase or convergence in LSE at iteration 7.\n"
     ]
    },
    {
     "name": "stderr",
     "output_type": "stream",
     "text": [
      " 30%|███       | 6/20 [01:00<02:24, 10.31s/it]]"
     ]
    },
    {
     "name": "stdout",
     "output_type": "stream",
     "text": [
      "warning: toggling to jac False; due to increase or convergence in LSE at iteration 17.\n"
     ]
    },
    {
     "name": "stderr",
     "output_type": "stream",
     "text": [
      " 70%|███████   | 14/20 [01:51<00:17,  2.92s/it]"
     ]
    },
    {
     "name": "stdout",
     "output_type": "stream",
     "text": [
      "L-BFGS and Nelder-Mead both failed to improve LSE, exiting early due to convergence\n"
     ]
    },
    {
     "name": "stderr",
     "output_type": "stream",
     "text": [
      " 85%|████████▌ | 17/20 [01:34<00:16,  5.57s/it]\n",
      "  0%|          | 0/20 [00:00<?, ?it/s]"
     ]
    },
    {
     "name": "stdout",
     "output_type": "stream",
     "text": [
      "warning: toggling to jac False; due to increase or convergence in LSE at iteration 6.\n"
     ]
    },
    {
     "name": "stderr",
     "output_type": "stream",
     "text": [
      " 10%|█         | 2/20 [00:00<00:04,  3.90it/s]]"
     ]
    },
    {
     "name": "stdout",
     "output_type": "stream",
     "text": [
      "warning: toggling to jac False; due to increase or convergence in LSE at iteration 14.\n",
      "warning: toggling to jac False; due to increase or convergence in LSE at iteration 2.\n",
      "warning: toggling to jac False; due to increase or convergence in LSE at iteration 15.\n"
     ]
    },
    {
     "name": "stderr",
     "output_type": "stream",
     "text": [
      " 60%|██████    | 12/20 [01:52<00:27,  3.45s/it]"
     ]
    },
    {
     "name": "stdout",
     "output_type": "stream",
     "text": [
      "warning: toggling to jac False; due to increase or convergence in LSE at iteration 17.\n"
     ]
    },
    {
     "name": "stderr",
     "output_type": "stream",
     "text": [
      " 60%|██████    | 12/20 [01:07<00:17,  2.14s/it]"
     ]
    },
    {
     "name": "stdout",
     "output_type": "stream",
     "text": [
      "warning: toggling to jac False; due to increase or convergence in LSE at iteration 12.\n"
     ]
    },
    {
     "name": "stderr",
     "output_type": "stream",
     "text": [
      " 65%|██████▌   | 13/20 [01:55<00:21,  3.11s/it]"
     ]
    },
    {
     "name": "stdout",
     "output_type": "stream",
     "text": [
      "warning: toggling to jac False; due to increase or convergence in LSE at iteration 13.\n"
     ]
    },
    {
     "name": "stderr",
     "output_type": "stream",
     "text": [
      " 50%|█████     | 10/20 [00:54<00:27,  2.73s/it]"
     ]
    },
    {
     "name": "stdout",
     "output_type": "stream",
     "text": [
      "warning: toggling to jac False; due to increase or convergence in LSE at iteration 14.\n"
     ]
    },
    {
     "name": "stderr",
     "output_type": "stream",
     "text": [
      " 55%|█████▌    | 11/20 [01:17<00:30,  3.43s/it]"
     ]
    },
    {
     "name": "stdout",
     "output_type": "stream",
     "text": [
      "warning: toggling to jac False; due to increase or convergence in LSE at iteration 19.\n"
     ]
    },
    {
     "name": "stderr",
     "output_type": "stream",
     "text": [
      " 55%|█████▌    | 11/20 [01:13<00:34,  3.83s/it]"
     ]
    },
    {
     "name": "stdout",
     "output_type": "stream",
     "text": [
      "warning: toggling to jac False; due to increase or convergence in LSE at iteration 6.\n",
      "warning: toggling to jac False; due to increase or convergence in LSE at iteration 13.\n",
      "L-BFGS and Nelder-Mead both failed to improve LSE, exiting early due to convergence\n"
     ]
    },
    {
     "name": "stderr",
     "output_type": "stream",
     "text": [
      " 95%|█████████▌| 19/20 [03:09<00:09,  9.97s/it]\n",
      "  5%|▌         | 1/20 [00:00<00:06,  3.11it/s]]"
     ]
    },
    {
     "name": "stdout",
     "output_type": "stream",
     "text": [
      "warning: toggling to jac False; due to increase or convergence in LSE at iteration 11.\n"
     ]
    },
    {
     "name": "stderr",
     "output_type": "stream",
     "text": [
      " 65%|██████▌   | 13/20 [00:57<00:10,  1.56s/it]"
     ]
    },
    {
     "name": "stdout",
     "output_type": "stream",
     "text": [
      "warning: toggling to jac False; due to increase or convergence in LSE at iteration 2.\n",
      "warning: toggling to jac False; due to increase or convergence in LSE at iteration 6.\n"
     ]
    },
    {
     "name": "stderr",
     "output_type": "stream",
     "text": [
      " 70%|███████   | 14/20 [00:58<00:08,  1.50s/it]"
     ]
    },
    {
     "name": "stdout",
     "output_type": "stream",
     "text": [
      "L-BFGS and Nelder-Mead both failed to improve LSE, exiting early due to convergence\n"
     ]
    },
    {
     "name": "stderr",
     "output_type": "stream",
     "text": [
      " 65%|██████▌   | 13/20 [04:54<02:38, 22.65s/it]\n",
      " 10%|█         | 2/20 [00:00<00:04,  3.72it/s]]"
     ]
    },
    {
     "name": "stdout",
     "output_type": "stream",
     "text": [
      "warning: toggling to jac False; due to increase or convergence in LSE at iteration 12.\n",
      "warning: toggling to jac False; due to increase or convergence in LSE at iteration 2.\n"
     ]
    },
    {
     "name": "stderr",
     "output_type": "stream",
     "text": [
      " 80%|████████  | 16/20 [01:00<00:04,  1.15s/it]"
     ]
    },
    {
     "name": "stdout",
     "output_type": "stream",
     "text": [
      "L-BFGS and Nelder-Mead both failed to improve LSE, exiting early due to convergence\n"
     ]
    },
    {
     "name": "stderr",
     "output_type": "stream",
     "text": [
      " 60%|██████    | 12/20 [01:17<00:51,  6.46s/it]\n",
      "  5%|▌         | 1/20 [00:00<00:04,  3.86it/s]"
     ]
    },
    {
     "name": "stdout",
     "output_type": "stream",
     "text": [
      "warning: toggling to jac False; due to increase or convergence in LSE at iteration 16.\n",
      "warning: toggling to jac False; due to increase or convergence in LSE at iteration 16.\n"
     ]
    },
    {
     "name": "stderr",
     "output_type": "stream",
     "text": [
      " 80%|████████  | 16/20 [02:08<00:20,  5.04s/it]"
     ]
    },
    {
     "name": "stdout",
     "output_type": "stream",
     "text": [
      "warning: toggling to jac False; due to increase or convergence in LSE at iteration 2.\n",
      "warning: toggling to jac False; due to increase or convergence in LSE at iteration 16.\n"
     ]
    },
    {
     "name": "stderr",
     "output_type": "stream",
     "text": [
      " 20%|██        | 4/20 [00:47<03:29, 13.11s/it]"
     ]
    },
    {
     "name": "stdout",
     "output_type": "stream",
     "text": [
      "L-BFGS and Nelder-Mead both failed to improve LSE, exiting early due to convergence\n"
     ]
    },
    {
     "name": "stderr",
     "output_type": "stream",
     "text": [
      " 80%|████████  | 16/20 [02:13<00:33,  8.32s/it]\n",
      "  0%|          | 0/20 [00:00<?, ?it/s]"
     ]
    },
    {
     "name": "stdout",
     "output_type": "stream",
     "text": [
      "warning: toggling to jac False; due to increase or convergence in LSE at iteration 6.\n"
     ]
    },
    {
     "name": "stderr",
     "output_type": "stream",
     "text": [
      " 10%|█         | 2/20 [00:00<00:06,  2.86it/s]"
     ]
    },
    {
     "name": "stdout",
     "output_type": "stream",
     "text": [
      "warning: toggling to jac False; due to increase or convergence in LSE at iteration 2.\n",
      "warning: toggling to jac False; due to increase or convergence in LSE at iteration 5.\n"
     ]
    },
    {
     "name": "stderr",
     "output_type": "stream",
     "text": [
      " 30%|███       | 6/20 [00:41<01:13,  5.22s/it]"
     ]
    },
    {
     "name": "stdout",
     "output_type": "stream",
     "text": [
      "warning: toggling to jac False; due to increase or convergence in LSE at iteration 6.\n"
     ]
    },
    {
     "name": "stderr",
     "output_type": "stream",
     "text": [
      " 40%|████      | 8/20 [01:05<01:17,  6.50s/it]]"
     ]
    },
    {
     "name": "stdout",
     "output_type": "stream",
     "text": [
      "warning: toggling to jac False; due to increase or convergence in LSE at iteration 15.\n"
     ]
    },
    {
     "name": "stderr",
     "output_type": "stream",
     "text": [
      " 90%|█████████ | 18/20 [01:15<00:07,  3.94s/it]"
     ]
    },
    {
     "name": "stdout",
     "output_type": "stream",
     "text": [
      "L-BFGS and Nelder-Mead both failed to improve LSE, exiting early due to convergence\n"
     ]
    },
    {
     "name": "stderr",
     "output_type": "stream",
     "text": [
      " 75%|███████▌  | 15/20 [02:21<00:47,  9.45s/it]\n",
      " 55%|█████▌    | 11/20 [01:09<00:26,  2.93s/it]"
     ]
    },
    {
     "name": "stdout",
     "output_type": "stream",
     "text": [
      "warning: toggling to jac False; due to increase or convergence in LSE at iteration 18.\n"
     ]
    },
    {
     "name": "stderr",
     "output_type": "stream",
     "text": [
      " 10%|█         | 2/20 [00:00<00:05,  3.15it/s]"
     ]
    },
    {
     "name": "stdout",
     "output_type": "stream",
     "text": [
      "warning: toggling to jac False; due to increase or convergence in LSE at iteration 2.\n",
      "warning: toggling to jac False; due to increase or convergence in LSE at iteration 11.\n"
     ]
    },
    {
     "name": "stderr",
     "output_type": "stream",
     "text": [
      " 55%|█████▌    | 11/20 [01:05<00:29,  3.28s/it]"
     ]
    },
    {
     "name": "stdout",
     "output_type": "stream",
     "text": [
      "warning: toggling to jac False; due to increase or convergence in LSE at iteration 5.\n",
      "warning: toggling to jac False; due to increase or convergence in LSE at iteration 13.\n",
      "warning: toggling to jac False; due to increase or convergence in LSE at iteration 11.\n"
     ]
    },
    {
     "name": "stderr",
     "output_type": "stream",
     "text": [
      " 35%|███▌      | 7/20 [01:04<01:41,  7.82s/it]]"
     ]
    },
    {
     "name": "stdout",
     "output_type": "stream",
     "text": [
      "warning: toggling to jac False; due to increase or convergence in LSE at iteration 16.\n"
     ]
    },
    {
     "name": "stderr",
     "output_type": "stream",
     "text": [
      " 30%|███       | 6/20 [00:40<01:21,  5.82s/it]]"
     ]
    },
    {
     "name": "stdout",
     "output_type": "stream",
     "text": [
      "warning: toggling to jac False; due to increase or convergence in LSE at iteration 12.\n",
      "L-BFGS and Nelder-Mead both failed to improve LSE, exiting early due to convergence\n",
      "warning: toggling to jac False; due to increase or convergence in LSE at iteration 6.\n"
     ]
    },
    {
     "name": "stderr",
     "output_type": "stream",
     "text": [
      " 60%|██████    | 12/20 [01:09<00:46,  5.81s/it]\n",
      " 10%|█         | 2/20 [00:00<00:04,  3.72it/s]"
     ]
    },
    {
     "name": "stdout",
     "output_type": "stream",
     "text": [
      "warning: toggling to jac False; due to increase or convergence in LSE at iteration 2.\n"
     ]
    },
    {
     "name": "stderr",
     "output_type": "stream",
     "text": [
      " 30%|███       | 6/20 [00:43<01:41,  7.24s/it]]\n"
     ]
    },
    {
     "name": "stdout",
     "output_type": "stream",
     "text": [
      "L-BFGS and Nelder-Mead both failed to improve LSE, exiting early due to convergence\n"
     ]
    },
    {
     "name": "stderr",
     "output_type": "stream",
     "text": [
      " 80%|████████  | 16/20 [02:24<00:36,  9.05s/it]\n",
      " 60%|██████    | 12/20 [01:21<00:46,  5.86s/it]"
     ]
    },
    {
     "name": "stdout",
     "output_type": "stream",
     "text": [
      "warning: toggling to jac False; due to increase or convergence in LSE at iteration 10.\n",
      "L-BFGS and Nelder-Mead both failed to improve LSE, exiting early due to convergence\n",
      "warning: toggling to jac False; due to increase or convergence in LSE at iteration 2.\n"
     ]
    },
    {
     "name": "stderr",
     "output_type": "stream",
     "text": [
      " 10%|█         | 2/20 [00:00<00:06,  2.96it/s]"
     ]
    },
    {
     "name": "stdout",
     "output_type": "stream",
     "text": [
      "warning: toggling to jac False; due to increase or convergence in LSE at iteration 12.\n",
      "warning: toggling to jac False; due to increase or convergence in LSE at iteration 2.\n"
     ]
    },
    {
     "name": "stderr",
     "output_type": "stream",
     "text": [
      " 70%|███████   | 14/20 [01:50<01:05, 10.90s/it]"
     ]
    },
    {
     "name": "stdout",
     "output_type": "stream",
     "text": [
      "warning: toggling to jac False; due to increase or convergence in LSE at iteration 14.\n"
     ]
    },
    {
     "name": "stderr",
     "output_type": "stream",
     "text": [
      " 60%|██████    | 12/20 [01:23<00:55,  6.98s/it]\n",
      "  0%|          | 0/20 [00:00<?, ?it/s]"
     ]
    },
    {
     "name": "stdout",
     "output_type": "stream",
     "text": [
      "L-BFGS and Nelder-Mead both failed to improve LSE, exiting early due to convergence\n"
     ]
    },
    {
     "name": "stderr",
     "output_type": "stream",
     "text": [
      " 55%|█████▌    | 11/20 [01:13<00:33,  3.68s/it]"
     ]
    },
    {
     "name": "stdout",
     "output_type": "stream",
     "text": [
      "warning: toggling to jac False; due to increase or convergence in LSE at iteration 2.\n",
      "warning: toggling to jac False; due to increase or convergence in LSE at iteration 17.\n"
     ]
    },
    {
     "name": "stderr",
     "output_type": "stream",
     "text": [
      " 40%|████      | 8/20 [01:03<01:27,  7.29s/it]"
     ]
    },
    {
     "name": "stdout",
     "output_type": "stream",
     "text": [
      "warning: toggling to jac False; due to increase or convergence in LSE at iteration 11.\n"
     ]
    },
    {
     "name": "stderr",
     "output_type": "stream",
     "text": [
      " 55%|█████▌    | 11/20 [01:14<01:00,  6.77s/it]\n",
      "  0%|          | 0/20 [00:00<?, ?it/s]"
     ]
    },
    {
     "name": "stdout",
     "output_type": "stream",
     "text": [
      "L-BFGS and Nelder-Mead both failed to improve LSE, exiting early due to convergence\n"
     ]
    },
    {
     "name": "stderr",
     "output_type": "stream",
     "text": [
      "  5%|▌         | 1/20 [00:00<00:06,  3.01it/s]"
     ]
    },
    {
     "name": "stdout",
     "output_type": "stream",
     "text": [
      "L-BFGS and Nelder-Mead both failed to improve LSE, exiting early due to convergence\n"
     ]
    },
    {
     "name": "stderr",
     "output_type": "stream",
     "text": [
      " 70%|███████   | 14/20 [01:53<00:48,  8.14s/it]\n",
      " 40%|████      | 8/20 [01:16<01:50,  9.20s/it]"
     ]
    },
    {
     "name": "stdout",
     "output_type": "stream",
     "text": [
      "warning: toggling to jac False; due to increase or convergence in LSE at iteration 2.\n"
     ]
    },
    {
     "name": "stderr",
     "output_type": "stream",
     "text": [
      " 10%|█         | 2/20 [00:00<00:05,  3.42it/s]]"
     ]
    },
    {
     "name": "stdout",
     "output_type": "stream",
     "text": [
      "warning: toggling to jac False; due to increase or convergence in LSE at iteration 2.\n",
      "warning: toggling to jac False; due to increase or convergence in LSE at iteration 10.\n"
     ]
    },
    {
     "name": "stderr",
     "output_type": "stream",
     "text": [
      " 85%|████████▌ | 17/20 [01:58<00:20,  6.95s/it]\n",
      "  0%|          | 0/20 [00:00<?, ?it/s]"
     ]
    },
    {
     "name": "stdout",
     "output_type": "stream",
     "text": [
      "L-BFGS and Nelder-Mead both failed to improve LSE, exiting early due to convergence\n"
     ]
    },
    {
     "name": "stderr",
     "output_type": "stream",
     "text": [
      " 10%|█         | 2/20 [00:00<00:04,  3.66it/s]"
     ]
    },
    {
     "name": "stdout",
     "output_type": "stream",
     "text": [
      "warning: toggling to jac False; due to increase or convergence in LSE at iteration 19.\n",
      "warning: toggling to jac False; due to increase or convergence in LSE at iteration 2.\n"
     ]
    },
    {
     "name": "stderr",
     "output_type": "stream",
     "text": [
      " 55%|█████▌    | 11/20 [01:19<00:33,  3.73s/it]"
     ]
    },
    {
     "name": "stdout",
     "output_type": "stream",
     "text": [
      "warning: toggling to jac False; due to increase or convergence in LSE at iteration 11.\n",
      "L-BFGS and Nelder-Mead both failed to improve LSE, exiting early due to convergence\n"
     ]
    },
    {
     "name": "stderr",
     "output_type": "stream",
     "text": [
      " 95%|█████████▌| 19/20 [01:39<00:05,  5.22s/it]\n",
      " 60%|██████    | 12/20 [01:22<00:26,  3.28s/it]"
     ]
    },
    {
     "name": "stdout",
     "output_type": "stream",
     "text": [
      "warning: toggling to jac False; due to increase or convergence in LSE at iteration 2.\n"
     ]
    },
    {
     "name": "stderr",
     "output_type": "stream",
     "text": [
      " 15%|█▌        | 3/20 [00:44<05:42, 20.15s/it]"
     ]
    },
    {
     "name": "stdout",
     "output_type": "stream",
     "text": [
      "warning: toggling to jac False; due to increase or convergence in LSE at iteration 12.\n"
     ]
    },
    {
     "name": "stderr",
     "output_type": "stream",
     "text": [
      " 60%|██████    | 12/20 [01:24<00:56,  7.03s/it]\n",
      "  0%|          | 0/20 [00:00<?, ?it/s]"
     ]
    },
    {
     "name": "stdout",
     "output_type": "stream",
     "text": [
      "L-BFGS and Nelder-Mead both failed to improve LSE, exiting early due to convergence\n"
     ]
    },
    {
     "name": "stderr",
     "output_type": "stream",
     "text": [
      " 10%|█         | 2/20 [00:00<00:05,  3.36it/s]"
     ]
    },
    {
     "name": "stdout",
     "output_type": "stream",
     "text": [
      "warning: toggling to jac False; due to increase or convergence in LSE at iteration 2.\n",
      "warning: toggling to jac False; due to increase or convergence in LSE at iteration 6.\n"
     ]
    },
    {
     "name": "stderr",
     "output_type": "stream",
     "text": [
      " 20%|██        | 4/20 [00:45<03:23, 12.71s/it]"
     ]
    },
    {
     "name": "stdout",
     "output_type": "stream",
     "text": [
      "warning: toggling to jac False; due to increase or convergence in LSE at iteration 6.\n"
     ]
    },
    {
     "name": "stderr",
     "output_type": "stream",
     "text": [
      " 30%|███       | 6/20 [00:46<01:20,  5.76s/it]]"
     ]
    },
    {
     "name": "stdout",
     "output_type": "stream",
     "text": [
      "warning: toggling to jac False; due to increase or convergence in LSE at iteration 6.\n"
     ]
    },
    {
     "name": "stderr",
     "output_type": "stream",
     "text": [
      " 60%|██████    | 12/20 [01:19<00:39,  4.99s/it]"
     ]
    },
    {
     "name": "stdout",
     "output_type": "stream",
     "text": [
      "warning: toggling to jac False; due to increase or convergence in LSE at iteration 12.\n"
     ]
    },
    {
     "name": "stderr",
     "output_type": "stream",
     "text": [
      " 25%|██▌       | 5/20 [00:47<02:07,  8.53s/it]"
     ]
    },
    {
     "name": "stdout",
     "output_type": "stream",
     "text": [
      "warning: toggling to jac False; due to increase or convergence in LSE at iteration 5.\n"
     ]
    },
    {
     "name": "stderr",
     "output_type": "stream",
     "text": [
      " 25%|██▌       | 5/20 [00:34<01:33,  6.27s/it]"
     ]
    },
    {
     "name": "stdout",
     "output_type": "stream",
     "text": [
      "L-BFGS and Nelder-Mead both failed to improve LSE, exiting early due to convergence\n"
     ]
    },
    {
     "name": "stderr",
     "output_type": "stream",
     "text": [
      " 60%|██████    | 12/20 [01:31<01:00,  7.62s/it]\n",
      " 10%|█         | 2/20 [00:00<00:04,  3.68it/s]"
     ]
    },
    {
     "name": "stdout",
     "output_type": "stream",
     "text": [
      "warning: toggling to jac False; due to increase or convergence in LSE at iteration 6.\n",
      "warning: toggling to jac False; due to increase or convergence in LSE at iteration 2.\n",
      "warning: toggling to jac False; due to increase or convergence in LSE at iteration 6.\n"
     ]
    },
    {
     "name": "stderr",
     "output_type": "stream",
     "text": [
      " 20%|██        | 4/20 [00:43<03:15, 12.20s/it]"
     ]
    },
    {
     "name": "stdout",
     "output_type": "stream",
     "text": [
      "warning: toggling to jac False; due to increase or convergence in LSE at iteration 7.\n"
     ]
    },
    {
     "name": "stderr",
     "output_type": "stream",
     "text": [
      " 15%|█▌        | 3/20 [00:42<05:28, 19.33s/it]"
     ]
    },
    {
     "name": "stdout",
     "output_type": "stream",
     "text": [
      "warning: toggling to jac False; due to increase or convergence in LSE at iteration 6.\n"
     ]
    },
    {
     "name": "stderr",
     "output_type": "stream",
     "text": [
      " 35%|███▌      | 7/20 [01:10<02:01,  9.32s/it]"
     ]
    },
    {
     "name": "stdout",
     "output_type": "stream",
     "text": [
      "warning: toggling to jac False; due to increase or convergence in LSE at iteration 7.\n"
     ]
    },
    {
     "name": "stderr",
     "output_type": "stream",
     "text": [
      " 25%|██▌       | 5/20 [00:46<02:06,  8.43s/it]]"
     ]
    },
    {
     "name": "stdout",
     "output_type": "stream",
     "text": [
      "warning: toggling to jac False; due to increase or convergence in LSE at iteration 10.\n"
     ]
    },
    {
     "name": "stderr",
     "output_type": "stream",
     "text": [
      " 30%|███       | 6/20 [00:47<01:22,  5.92s/it]]"
     ]
    },
    {
     "name": "stdout",
     "output_type": "stream",
     "text": [
      "warning: toggling to jac False; due to increase or convergence in LSE at iteration 6.\n"
     ]
    },
    {
     "name": "stderr",
     "output_type": "stream",
     "text": [
      " 20%|██        | 4/20 [00:38<02:49, 10.62s/it]]"
     ]
    },
    {
     "name": "stdout",
     "output_type": "stream",
     "text": [
      "warning: toggling to jac False; due to increase or convergence in LSE at iteration 7.\n"
     ]
    },
    {
     "name": "stderr",
     "output_type": "stream",
     "text": [
      " 45%|████▌     | 9/20 [01:23<01:23,  7.57s/it]"
     ]
    },
    {
     "name": "stdout",
     "output_type": "stream",
     "text": [
      "warning: toggling to jac False; due to increase or convergence in LSE at iteration 11.\n"
     ]
    },
    {
     "name": "stderr",
     "output_type": "stream",
     "text": [
      " 55%|█████▌    | 11/20 [01:22<01:07,  7.49s/it]\n",
      "  0%|          | 0/20 [00:00<?, ?it/s]"
     ]
    },
    {
     "name": "stdout",
     "output_type": "stream",
     "text": [
      "L-BFGS and Nelder-Mead both failed to improve LSE, exiting early due to convergence\n",
      "warning: toggling to jac False; due to increase or convergence in LSE at iteration 12.\n"
     ]
    },
    {
     "name": "stderr",
     "output_type": "stream",
     "text": [
      " 20%|██        | 4/20 [00:47<03:29, 13.11s/it]]"
     ]
    },
    {
     "name": "stdout",
     "output_type": "stream",
     "text": [
      "warning: toggling to jac False; due to increase or convergence in LSE at iteration 2.\n"
     ]
    },
    {
     "name": "stderr",
     "output_type": "stream",
     "text": [
      " 65%|██████▌   | 13/20 [01:23<00:20,  2.91s/it]"
     ]
    },
    {
     "name": "stdout",
     "output_type": "stream",
     "text": [
      "warning: toggling to jac False; due to increase or convergence in LSE at iteration 6.\n"
     ]
    },
    {
     "name": "stderr",
     "output_type": "stream",
     "text": [
      " 45%|████▌     | 9/20 [00:58<00:56,  5.18s/it]"
     ]
    },
    {
     "name": "stdout",
     "output_type": "stream",
     "text": [
      "warning: toggling to jac False; due to increase or convergence in LSE at iteration 7.\n"
     ]
    },
    {
     "name": "stderr",
     "output_type": "stream",
     "text": [
      " 60%|██████    | 12/20 [01:28<00:28,  3.56s/it]"
     ]
    },
    {
     "name": "stdout",
     "output_type": "stream",
     "text": [
      "warning: toggling to jac False; due to increase or convergence in LSE at iteration 13.\n"
     ]
    },
    {
     "name": "stderr",
     "output_type": "stream",
     "text": [
      " 50%|█████     | 10/20 [00:59<00:39,  3.93s/it]"
     ]
    },
    {
     "name": "stdout",
     "output_type": "stream",
     "text": [
      "warning: toggling to jac False; due to increase or convergence in LSE at iteration 12.\n",
      "L-BFGS and Nelder-Mead both failed to improve LSE, exiting early due to convergence\n"
     ]
    },
    {
     "name": "stderr",
     "output_type": "stream",
     "text": [
      " 65%|██████▌   | 13/20 [01:25<00:46,  6.58s/it]\n",
      "  0%|          | 0/20 [00:00<?, ?it/s]"
     ]
    },
    {
     "name": "stdout",
     "output_type": "stream",
     "text": [
      "warning: toggling to jac False; due to increase or convergence in LSE at iteration 6.\n"
     ]
    },
    {
     "name": "stderr",
     "output_type": "stream",
     "text": [
      " 10%|█         | 2/20 [00:00<00:05,  3.37it/s]]"
     ]
    },
    {
     "name": "stdout",
     "output_type": "stream",
     "text": [
      "warning: toggling to jac False; due to increase or convergence in LSE at iteration 2.\n",
      "warning: toggling to jac False; due to increase or convergence in LSE at iteration 11.\n",
      "warning: toggling to jac False; due to increase or convergence in LSE at iteration 13.\n"
     ]
    },
    {
     "name": "stderr",
     "output_type": "stream",
     "text": [
      " 60%|██████    | 12/20 [01:04<00:27,  3.43s/it]"
     ]
    },
    {
     "name": "stdout",
     "output_type": "stream",
     "text": [
      "warning: toggling to jac False; due to increase or convergence in LSE at iteration 12.\n",
      "L-BFGS and Nelder-Mead both failed to improve LSE, exiting early due to convergence\n"
     ]
    },
    {
     "name": "stderr",
     "output_type": "stream",
     "text": [
      " 60%|██████    | 12/20 [01:06<00:44,  5.53s/it]\n",
      " 10%|█         | 2/20 [00:00<00:04,  3.62it/s]"
     ]
    },
    {
     "name": "stdout",
     "output_type": "stream",
     "text": [
      "warning: toggling to jac False; due to increase or convergence in LSE at iteration 2.\n"
     ]
    },
    {
     "name": "stderr",
     "output_type": "stream",
     "text": [
      " 45%|████▌     | 9/20 [00:59<01:02,  5.71s/it]"
     ]
    },
    {
     "name": "stdout",
     "output_type": "stream",
     "text": [
      "L-BFGS and Nelder-Mead both failed to improve LSE, exiting early due to convergence\n"
     ]
    },
    {
     "name": "stderr",
     "output_type": "stream",
     "text": [
      " 60%|██████    | 12/20 [01:38<01:05,  8.17s/it]\n",
      " 10%|█         | 2/20 [00:00<00:05,  3.13it/s]]"
     ]
    },
    {
     "name": "stdout",
     "output_type": "stream",
     "text": [
      "warning: toggling to jac False; due to increase or convergence in LSE at iteration 2.\n"
     ]
    },
    {
     "name": "stderr",
     "output_type": "stream",
     "text": [
      " 35%|███▌      | 7/20 [00:57<01:46,  8.21s/it]]"
     ]
    },
    {
     "name": "stdout",
     "output_type": "stream",
     "text": [
      "warning: toggling to jac False; due to increase or convergence in LSE at iteration 11.\n"
     ]
    },
    {
     "name": "stderr",
     "output_type": "stream",
     "text": [
      " 50%|█████     | 10/20 [01:22<00:56,  5.60s/it]"
     ]
    },
    {
     "name": "stdout",
     "output_type": "stream",
     "text": [
      "warning: toggling to jac False; due to increase or convergence in LSE at iteration 14.\n"
     ]
    },
    {
     "name": "stderr",
     "output_type": "stream",
     "text": [
      " 15%|█▌        | 3/20 [00:40<05:11, 18.30s/it]]"
     ]
    },
    {
     "name": "stdout",
     "output_type": "stream",
     "text": [
      "warning: toggling to jac False; due to increase or convergence in LSE at iteration 11.\n",
      "warning: toggling to jac False; due to increase or convergence in LSE at iteration 11.\n"
     ]
    },
    {
     "name": "stderr",
     "output_type": "stream",
     "text": [
      " 60%|██████    | 12/20 [01:09<00:36,  4.55s/it]"
     ]
    },
    {
     "name": "stdout",
     "output_type": "stream",
     "text": [
      "warning: toggling to jac False; due to increase or convergence in LSE at iteration 11.\n",
      "warning: toggling to jac False; due to increase or convergence in LSE at iteration 12.\n"
     ]
    },
    {
     "name": "stderr",
     "output_type": "stream",
     "text": [
      " 35%|███▌      | 7/20 [01:08<02:16, 10.52s/it]"
     ]
    },
    {
     "name": "stdout",
     "output_type": "stream",
     "text": [
      "warning: toggling to jac False; due to increase or convergence in LSE at iteration 12.\n",
      "warning: toggling to jac False; due to increase or convergence in LSE at iteration 12.\n",
      "warning: toggling to jac False; due to increase or convergence in LSE at iteration 7.\n"
     ]
    },
    {
     "name": "stderr",
     "output_type": "stream",
     "text": [
      " 60%|██████    | 12/20 [01:28<00:59,  7.40s/it]\n",
      "  0%|          | 0/20 [00:00<?, ?it/s]"
     ]
    },
    {
     "name": "stdout",
     "output_type": "stream",
     "text": [
      "L-BFGS and Nelder-Mead both failed to improve LSE, exiting early due to convergence\n"
     ]
    },
    {
     "name": "stderr",
     "output_type": "stream",
     "text": [
      " 55%|█████▌    | 11/20 [01:17<01:03,  7.03s/it]\n",
      "  0%|          | 0/20 [00:00<?, ?it/s]"
     ]
    },
    {
     "name": "stdout",
     "output_type": "stream",
     "text": [
      "L-BFGS and Nelder-Mead both failed to improve LSE, exiting early due to convergence\n",
      "warning: toggling to jac False; due to increase or convergence in LSE at iteration 2.\n"
     ]
    },
    {
     "name": "stderr",
     "output_type": "stream",
     "text": [
      " 45%|████▌     | 9/20 [01:04<01:15,  6.84s/it]"
     ]
    },
    {
     "name": "stdout",
     "output_type": "stream",
     "text": [
      "warning: toggling to jac False; due to increase or convergence in LSE at iteration 2.\n"
     ]
    },
    {
     "name": "stderr",
     "output_type": "stream",
     "text": [
      " 50%|█████     | 10/20 [01:13<00:47,  4.75s/it]"
     ]
    },
    {
     "name": "stdout",
     "output_type": "stream",
     "text": [
      "warning: toggling to jac False; due to increase or convergence in LSE at iteration 11.\n",
      "warning: toggling to jac False; due to increase or convergence in LSE at iteration 12.\n"
     ]
    },
    {
     "name": "stderr",
     "output_type": "stream",
     "text": [
      " 40%|████      | 8/20 [01:19<02:34, 12.85s/it]]"
     ]
    },
    {
     "name": "stdout",
     "output_type": "stream",
     "text": [
      "warning: toggling to jac False; due to increase or convergence in LSE at iteration 11.\n",
      "L-BFGS and Nelder-Mead both failed to improve LSE, exiting early due to convergence\n"
     ]
    },
    {
     "name": "stderr",
     "output_type": "stream",
     "text": [
      " 60%|██████    | 12/20 [01:22<00:55,  6.88s/it]\n",
      " 10%|█         | 2/20 [00:00<00:06,  2.91it/s]"
     ]
    },
    {
     "name": "stdout",
     "output_type": "stream",
     "text": [
      "warning: toggling to jac False; due to increase or convergence in LSE at iteration 2.\n"
     ]
    },
    {
     "name": "stderr",
     "output_type": "stream",
     "text": [
      " 55%|█████▌    | 11/20 [01:23<00:45,  5.07s/it]"
     ]
    },
    {
     "name": "stdout",
     "output_type": "stream",
     "text": [
      "warning: toggling to jac False; due to increase or convergence in LSE at iteration 12.\n"
     ]
    },
    {
     "name": "stderr",
     "output_type": "stream",
     "text": [
      " 35%|███▌      | 7/20 [01:22<03:25, 15.80s/it]"
     ]
    },
    {
     "name": "stdout",
     "output_type": "stream",
     "text": [
      "warning: toggling to jac False; due to increase or convergence in LSE at iteration 11.\n"
     ]
    },
    {
     "name": "stderr",
     "output_type": "stream",
     "text": [
      " 60%|██████    | 12/20 [01:14<00:40,  5.10s/it]"
     ]
    },
    {
     "name": "stdout",
     "output_type": "stream",
     "text": [
      "L-BFGS and Nelder-Mead both failed to improve LSE, exiting early due to convergence\n"
     ]
    },
    {
     "name": "stderr",
     "output_type": "stream",
     "text": [
      " 60%|██████    | 12/20 [01:21<00:54,  6.77s/it]\n",
      " 65%|██████▌   | 13/20 [01:15<00:27,  3.93s/it]"
     ]
    },
    {
     "name": "stdout",
     "output_type": "stream",
     "text": [
      "warning: toggling to jac False; due to increase or convergence in LSE at iteration 2.\n",
      "warning: toggling to jac False; due to increase or convergence in LSE at iteration 12.\n",
      "warning: toggling to jac False; due to increase or convergence in LSE at iteration 13.\n"
     ]
    },
    {
     "name": "stderr",
     "output_type": "stream",
     "text": [
      " 65%|██████▌   | 13/20 [01:25<00:56,  8.06s/it]"
     ]
    },
    {
     "name": "stdout",
     "output_type": "stream",
     "text": [
      "L-BFGS and Nelder-Mead both failed to improve LSE, exiting early due to convergence\n"
     ]
    },
    {
     "name": "stderr",
     "output_type": "stream",
     "text": [
      " 60%|██████    | 12/20 [01:28<00:59,  7.39s/it]\n",
      " 70%|███████   | 14/20 [01:26<00:35,  5.90s/it]"
     ]
    },
    {
     "name": "stdout",
     "output_type": "stream",
     "text": [
      "warning: toggling to jac False; due to increase or convergence in LSE at iteration 10.\n"
     ]
    },
    {
     "name": "stderr",
     "output_type": "stream",
     "text": [
      " 10%|█         | 2/20 [00:00<00:04,  3.68it/s]"
     ]
    },
    {
     "name": "stdout",
     "output_type": "stream",
     "text": [
      "warning: toggling to jac False; due to increase or convergence in LSE at iteration 2.\n",
      "warning: toggling to jac False; due to increase or convergence in LSE at iteration 14.\n"
     ]
    },
    {
     "name": "stderr",
     "output_type": "stream",
     "text": [
      " 25%|██▌       | 5/20 [00:43<02:00,  8.02s/it]]"
     ]
    },
    {
     "name": "stdout",
     "output_type": "stream",
     "text": [
      "warning: toggling to jac False; due to increase or convergence in LSE at iteration 11.\n"
     ]
    },
    {
     "name": "stderr",
     "output_type": "stream",
     "text": [
      " 55%|█████▌    | 11/20 [01:32<01:15,  8.44s/it]\n",
      "  0%|          | 0/20 [00:00<?, ?it/s]"
     ]
    },
    {
     "name": "stdout",
     "output_type": "stream",
     "text": [
      "L-BFGS and Nelder-Mead both failed to improve LSE, exiting early due to convergence\n",
      "warning: toggling to jac False; due to increase or convergence in LSE at iteration 7.\n"
     ]
    },
    {
     "name": "stderr",
     "output_type": "stream",
     "text": [
      " 45%|████▌     | 9/20 [01:06<01:16,  6.92s/it]"
     ]
    },
    {
     "name": "stdout",
     "output_type": "stream",
     "text": [
      "warning: toggling to jac False; due to increase or convergence in LSE at iteration 2.\n"
     ]
    },
    {
     "name": "stderr",
     "output_type": "stream",
     "text": [
      " 40%|████      | 8/20 [00:45<00:35,  3.00s/it]]"
     ]
    },
    {
     "name": "stdout",
     "output_type": "stream",
     "text": [
      "warning: toggling to jac False; due to increase or convergence in LSE at iteration 15.\n"
     ]
    },
    {
     "name": "stderr",
     "output_type": "stream",
     "text": [
      " 55%|█████▌    | 11/20 [01:08<00:34,  3.85s/it]"
     ]
    },
    {
     "name": "stdout",
     "output_type": "stream",
     "text": [
      "warning: toggling to jac False; due to increase or convergence in LSE at iteration 8.\n"
     ]
    },
    {
     "name": "stderr",
     "output_type": "stream",
     "text": [
      " 20%|██        | 4/20 [00:26<02:00,  7.50s/it]]"
     ]
    },
    {
     "name": "stdout",
     "output_type": "stream",
     "text": [
      "L-BFGS and Nelder-Mead both failed to improve LSE, exiting early due to convergence\n"
     ]
    },
    {
     "name": "stderr",
     "output_type": "stream",
     "text": [
      " 75%|███████▌  | 15/20 [02:05<00:41,  8.38s/it]\n",
      "  0%|          | 0/20 [00:00<?, ?it/s]"
     ]
    },
    {
     "name": "stdout",
     "output_type": "stream",
     "text": [
      "warning: toggling to jac False; due to increase or convergence in LSE at iteration 12.\n"
     ]
    },
    {
     "name": "stderr",
     "output_type": "stream",
     "text": [
      " 10%|█         | 2/20 [00:00<00:05,  3.01it/s]]"
     ]
    },
    {
     "name": "stdout",
     "output_type": "stream",
     "text": [
      "warning: toggling to jac False; due to increase or convergence in LSE at iteration 2.\n"
     ]
    },
    {
     "name": "stderr",
     "output_type": "stream",
     "text": [
      " 30%|███       | 6/20 [00:28<00:51,  3.66s/it]]"
     ]
    },
    {
     "name": "stdout",
     "output_type": "stream",
     "text": [
      "warning: toggling to jac False; due to increase or convergence in LSE at iteration 16.\n"
     ]
    },
    {
     "name": "stderr",
     "output_type": "stream",
     "text": [
      " 15%|█▌        | 3/20 [00:43<05:36, 19.81s/it]]"
     ]
    },
    {
     "name": "stdout",
     "output_type": "stream",
     "text": [
      "warning: toggling to jac False; due to increase or convergence in LSE at iteration 7.\n",
      "warning: toggling to jac False; due to increase or convergence in LSE at iteration 13.\n"
     ]
    },
    {
     "name": "stderr",
     "output_type": "stream",
     "text": [
      " 20%|██        | 4/20 [00:44<03:17, 12.37s/it]"
     ]
    },
    {
     "name": "stdout",
     "output_type": "stream",
     "text": [
      "L-BFGS and Nelder-Mead both failed to improve LSE, exiting early due to convergence\n"
     ]
    },
    {
     "name": "stderr",
     "output_type": "stream",
     "text": [
      " 65%|██████▌   | 13/20 [01:16<00:41,  5.89s/it]\n",
      " 65%|██████▌   | 13/20 [01:38<01:25, 12.27s/it]"
     ]
    },
    {
     "name": "stdout",
     "output_type": "stream",
     "text": [
      "warning: toggling to jac False; due to increase or convergence in LSE at iteration 2.\n"
     ]
    },
    {
     "name": "stderr",
     "output_type": "stream",
     "text": [
      " 15%|█▌        | 3/20 [00:44<05:40, 20.05s/it]"
     ]
    },
    {
     "name": "stdout",
     "output_type": "stream",
     "text": [
      "warning: toggling to jac False; due to increase or convergence in LSE at iteration 13.\n"
     ]
    },
    {
     "name": "stderr",
     "output_type": "stream",
     "text": [
      " 20%|██        | 4/20 [00:45<03:20, 12.54s/it]"
     ]
    },
    {
     "name": "stdout",
     "output_type": "stream",
     "text": [
      "warning: toggling to jac False; due to increase or convergence in LSE at iteration 6.\n"
     ]
    },
    {
     "name": "stderr",
     "output_type": "stream",
     "text": [
      " 70%|███████   | 14/20 [01:39<01:00, 10.11s/it]"
     ]
    },
    {
     "name": "stdout",
     "output_type": "stream",
     "text": [
      "warning: toggling to jac False; due to increase or convergence in LSE at iteration 6.\n",
      "warning: toggling to jac False; due to increase or convergence in LSE at iteration 14.\n"
     ]
    },
    {
     "name": "stderr",
     "output_type": "stream",
     "text": [
      " 40%|████      | 8/20 [00:58<01:04,  5.41s/it]]"
     ]
    },
    {
     "name": "stdout",
     "output_type": "stream",
     "text": [
      "L-BFGS and Nelder-Mead both failed to improve LSE, exiting early due to convergence\n"
     ]
    },
    {
     "name": "stderr",
     "output_type": "stream",
     "text": [
      " 65%|██████▌   | 13/20 [01:52<01:00,  8.62s/it]\n",
      " 25%|██▌       | 5/20 [00:46<02:06,  8.45s/it]]"
     ]
    },
    {
     "name": "stdout",
     "output_type": "stream",
     "text": [
      "warning: toggling to jac False; due to increase or convergence in LSE at iteration 2.\n"
     ]
    },
    {
     "name": "stderr",
     "output_type": "stream",
     "text": [
      " 30%|███       | 6/20 [00:47<01:24,  6.06s/it]]"
     ]
    },
    {
     "name": "stdout",
     "output_type": "stream",
     "text": [
      "warning: toggling to jac False; due to increase or convergence in LSE at iteration 12.\n"
     ]
    },
    {
     "name": "stderr",
     "output_type": "stream",
     "text": [
      " 35%|███▌      | 7/20 [00:48<00:55,  4.30s/it]]"
     ]
    },
    {
     "name": "stdout",
     "output_type": "stream",
     "text": [
      "warning: toggling to jac False; due to increase or convergence in LSE at iteration 7.\n"
     ]
    },
    {
     "name": "stderr",
     "output_type": "stream",
     "text": [
      " 65%|██████▌   | 13/20 [01:04<00:12,  1.79s/it]"
     ]
    },
    {
     "name": "stdout",
     "output_type": "stream",
     "text": [
      "warning: toggling to jac False; due to increase or convergence in LSE at iteration 17.\n",
      "warning: toggling to jac False; due to increase or convergence in LSE at iteration 6.\n"
     ]
    },
    {
     "name": "stderr",
     "output_type": "stream",
     "text": [
      " 55%|█████▌    | 11/20 [00:51<00:30,  3.44s/it]"
     ]
    },
    {
     "name": "stdout",
     "output_type": "stream",
     "text": [
      "warning: toggling to jac False; due to increase or convergence in LSE at iteration 13.\n",
      "warning: toggling to jac False; due to increase or convergence in LSE at iteration 13.\n"
     ]
    },
    {
     "name": "stderr",
     "output_type": "stream",
     "text": [
      " 85%|████████▌ | 17/20 [02:05<00:22,  7.35s/it]\n",
      "  0%|          | 0/20 [00:00<?, ?it/s].03s/it]"
     ]
    },
    {
     "name": "stdout",
     "output_type": "stream",
     "text": [
      "L-BFGS and Nelder-Mead both failed to improve LSE, exiting early due to convergence\n",
      "warning: toggling to jac False; due to increase or convergence in LSE at iteration 12.\n"
     ]
    },
    {
     "name": "stderr",
     "output_type": "stream",
     "text": [
      " 10%|█         | 2/20 [00:00<00:05,  3.57it/s]"
     ]
    },
    {
     "name": "stdout",
     "output_type": "stream",
     "text": [
      "warning: toggling to jac False; due to increase or convergence in LSE at iteration 6.\n",
      "warning: toggling to jac False; due to increase or convergence in LSE at iteration 2.\n",
      "L-BFGS and Nelder-Mead both failed to improve LSE, exiting early due to convergence\n"
     ]
    },
    {
     "name": "stderr",
     "output_type": "stream",
     "text": [
      " 60%|██████    | 12/20 [01:18<00:52,  6.56s/it]\n",
      " 10%|█         | 2/20 [00:00<00:05,  3.59it/s]]"
     ]
    },
    {
     "name": "stdout",
     "output_type": "stream",
     "text": [
      "warning: toggling to jac False; due to increase or convergence in LSE at iteration 2.\n",
      "warning: toggling to jac False; due to increase or convergence in LSE at iteration 10.\n"
     ]
    },
    {
     "name": "stderr",
     "output_type": "stream",
     "text": [
      " 20%|██        | 4/20 [00:40<03:00, 11.29s/it]]"
     ]
    },
    {
     "name": "stdout",
     "output_type": "stream",
     "text": [
      "warning: toggling to jac False; due to increase or convergence in LSE at iteration 12.\n"
     ]
    },
    {
     "name": "stderr",
     "output_type": "stream",
     "text": [
      " 40%|████      | 8/20 [00:50<00:53,  4.47s/it]"
     ]
    },
    {
     "name": "stdout",
     "output_type": "stream",
     "text": [
      "warning: toggling to jac False; due to increase or convergence in LSE at iteration 6.\n"
     ]
    },
    {
     "name": "stderr",
     "output_type": "stream",
     "text": [
      " 60%|██████    | 12/20 [01:24<00:56,  7.06s/it]\n",
      "  0%|          | 0/20 [00:00<?, ?it/s]"
     ]
    },
    {
     "name": "stdout",
     "output_type": "stream",
     "text": [
      "L-BFGS and Nelder-Mead both failed to improve LSE, exiting early due to convergence\n"
     ]
    },
    {
     "name": "stderr",
     "output_type": "stream",
     "text": [
      " 10%|█         | 2/20 [00:00<00:05,  3.31it/s]"
     ]
    },
    {
     "name": "stdout",
     "output_type": "stream",
     "text": [
      "warning: toggling to jac False; due to increase or convergence in LSE at iteration 2.\n",
      "warning: toggling to jac False; due to increase or convergence in LSE at iteration 11.\n",
      "warning: toggling to jac False; due to increase or convergence in LSE at iteration 8.\n"
     ]
    },
    {
     "name": "stderr",
     "output_type": "stream",
     "text": [
      " 20%|██        | 4/20 [00:40<02:58, 11.16s/it]]"
     ]
    },
    {
     "name": "stdout",
     "output_type": "stream",
     "text": [
      "warning: toggling to jac False; due to increase or convergence in LSE at iteration 16.\n",
      "warning: toggling to jac False; due to increase or convergence in LSE at iteration 9.\n"
     ]
    },
    {
     "name": "stderr",
     "output_type": "stream",
     "text": [
      " 75%|███████▌  | 15/20 [02:16<01:30, 18.13s/it]"
     ]
    },
    {
     "name": "stdout",
     "output_type": "stream",
     "text": [
      "warning: toggling to jac False; due to increase or convergence in LSE at iteration 13.\n",
      "warning: toggling to jac False; due to increase or convergence in LSE at iteration 15.\n"
     ]
    },
    {
     "name": "stderr",
     "output_type": "stream",
     "text": [
      " 35%|███▌      | 7/20 [00:43<00:51,  3.97s/it]]"
     ]
    },
    {
     "name": "stdout",
     "output_type": "stream",
     "text": [
      "warning: toggling to jac False; due to increase or convergence in LSE at iteration 17.\n",
      "warning: toggling to jac False; due to increase or convergence in LSE at iteration 7.\n"
     ]
    },
    {
     "name": "stderr",
     "output_type": "stream",
     "text": [
      " 50%|█████     | 10/20 [01:18<01:02,  6.22s/it]"
     ]
    },
    {
     "name": "stdout",
     "output_type": "stream",
     "text": [
      "warning: toggling to jac False; due to increase or convergence in LSE at iteration 14.\n"
     ]
    },
    {
     "name": "stderr",
     "output_type": "stream",
     "text": [
      " 75%|███████▌  | 15/20 [01:32<00:34,  6.95s/it]"
     ]
    },
    {
     "name": "stdout",
     "output_type": "stream",
     "text": [
      "warning: toggling to jac False; due to increase or convergence in LSE at iteration 12.\n",
      "warning: toggling to jac False; due to increase or convergence in LSE at iteration 13.\n"
     ]
    },
    {
     "name": "stderr",
     "output_type": "stream",
     "text": [
      " 55%|█████▌    | 11/20 [01:19<00:41,  4.62s/it]"
     ]
    },
    {
     "name": "stdout",
     "output_type": "stream",
     "text": [
      "warning: toggling to jac False; due to increase or convergence in LSE at iteration 16.\n",
      "L-BFGS and Nelder-Mead both failed to improve LSE, exiting early due to convergence\n"
     ]
    },
    {
     "name": "stderr",
     "output_type": "stream",
     "text": [
      " 70%|███████   | 14/20 [01:13<00:31,  5.28s/it]\n",
      " 30%|███       | 6/20 [00:27<00:48,  3.45s/it]"
     ]
    },
    {
     "name": "stdout",
     "output_type": "stream",
     "text": [
      "warning: toggling to jac False; due to increase or convergence in LSE at iteration 15.\n"
     ]
    },
    {
     "name": "stderr",
     "output_type": "stream",
     "text": [
      " 60%|██████    | 12/20 [01:20<00:28,  3.54s/it]"
     ]
    },
    {
     "name": "stdout",
     "output_type": "stream",
     "text": [
      "warning: toggling to jac False; due to increase or convergence in LSE at iteration 2.\n"
     ]
    },
    {
     "name": "stderr",
     "output_type": "stream",
     "text": [
      " 35%|███▌      | 7/20 [00:27<00:33,  2.56s/it]"
     ]
    },
    {
     "name": "stdout",
     "output_type": "stream",
     "text": [
      "warning: toggling to jac False; due to increase or convergence in LSE at iteration 12.\n"
     ]
    },
    {
     "name": "stderr",
     "output_type": "stream",
     "text": [
      " 60%|██████    | 12/20 [01:23<00:55,  6.96s/it]\n",
      "  0%|          | 0/20 [00:00<?, ?it/s]"
     ]
    },
    {
     "name": "stdout",
     "output_type": "stream",
     "text": [
      "L-BFGS and Nelder-Mead both failed to improve LSE, exiting early due to convergence\n"
     ]
    },
    {
     "name": "stderr",
     "output_type": "stream",
     "text": [
      " 10%|█         | 2/20 [00:00<00:04,  3.64it/s]"
     ]
    },
    {
     "name": "stdout",
     "output_type": "stream",
     "text": [
      "warning: toggling to jac False; due to increase or convergence in LSE at iteration 2.\n",
      "warning: toggling to jac False; due to increase or convergence in LSE at iteration 9.\n"
     ]
    },
    {
     "name": "stderr",
     "output_type": "stream",
     "text": [
      " 25%|██▌       | 5/20 [00:39<01:46,  7.13s/it]]"
     ]
    },
    {
     "name": "stdout",
     "output_type": "stream",
     "text": [
      "warning: toggling to jac False; due to increase or convergence in LSE at iteration 13.\n"
     ]
    },
    {
     "name": "stderr",
     "output_type": "stream",
     "text": [
      " 35%|███▌      | 7/20 [00:41<00:48,  3.75s/it]]"
     ]
    },
    {
     "name": "stdout",
     "output_type": "stream",
     "text": [
      "warning: toggling to jac False; due to increase or convergence in LSE at iteration 7.\n",
      "warning: toggling to jac False; due to increase or convergence in LSE at iteration 14.\n"
     ]
    },
    {
     "name": "stderr",
     "output_type": "stream",
     "text": [
      " 90%|█████████ | 18/20 [01:39<00:13,  6.76s/it]"
     ]
    },
    {
     "name": "stdout",
     "output_type": "stream",
     "text": [
      "warning: toggling to jac False; due to increase or convergence in LSE at iteration 18.\n",
      "L-BFGS and Nelder-Mead both failed to improve LSE, exiting early due to convergence\n"
     ]
    },
    {
     "name": "stderr",
     "output_type": "stream",
     "text": [
      " 90%|█████████ | 18/20 [01:41<00:11,  5.63s/it]\n",
      " 10%|█         | 2/20 [00:00<00:05,  3.15it/s]"
     ]
    },
    {
     "name": "stdout",
     "output_type": "stream",
     "text": [
      "warning: toggling to jac False; due to increase or convergence in LSE at iteration 2.\n"
     ]
    },
    {
     "name": "stderr",
     "output_type": "stream",
     "text": [
      " 85%|████████▌ | 17/20 [02:35<00:41, 13.88s/it]"
     ]
    },
    {
     "name": "stdout",
     "output_type": "stream",
     "text": [
      "warning: toggling to jac False; due to increase or convergence in LSE at iteration 17.\n",
      "L-BFGS and Nelder-Mead both failed to improve LSE, exiting early due to convergence\n"
     ]
    },
    {
     "name": "stderr",
     "output_type": "stream",
     "text": [
      " 85%|████████▌ | 17/20 [02:37<00:27,  9.26s/it]\n",
      " 10%|█         | 2/20 [00:00<00:05,  3.52it/s]"
     ]
    },
    {
     "name": "stdout",
     "output_type": "stream",
     "text": [
      "warning: toggling to jac False; due to increase or convergence in LSE at iteration 2.\n"
     ]
    },
    {
     "name": "stderr",
     "output_type": "stream",
     "text": [
      " 45%|████▌     | 9/20 [01:22<01:23,  7.57s/it]]"
     ]
    },
    {
     "name": "stdout",
     "output_type": "stream",
     "text": [
      "warning: toggling to jac False; due to increase or convergence in LSE at iteration 16.\n"
     ]
    },
    {
     "name": "stderr",
     "output_type": "stream",
     "text": [
      " 15%|█▌        | 3/20 [00:42<05:28, 19.31s/it]]"
     ]
    },
    {
     "name": "stdout",
     "output_type": "stream",
     "text": [
      "warning: toggling to jac False; due to increase or convergence in LSE at iteration 10.\n"
     ]
    },
    {
     "name": "stderr",
     "output_type": "stream",
     "text": [
      " 20%|██        | 4/20 [00:44<03:16, 12.29s/it]]"
     ]
    },
    {
     "name": "stdout",
     "output_type": "stream",
     "text": [
      "L-BFGS and Nelder-Mead both failed to improve LSE, exiting early due to convergence\n"
     ]
    },
    {
     "name": "stderr",
     "output_type": "stream",
     "text": [
      " 80%|████████  | 16/20 [01:52<00:28,  7.06s/it]\n",
      " 10%|█         | 2/20 [00:00<00:04,  3.97it/s]]"
     ]
    },
    {
     "name": "stdout",
     "output_type": "stream",
     "text": [
      "warning: toggling to jac False; due to increase or convergence in LSE at iteration 2.\n"
     ]
    },
    {
     "name": "stderr",
     "output_type": "stream",
     "text": [
      " 70%|███████   | 14/20 [01:31<00:56,  9.35s/it]"
     ]
    },
    {
     "name": "stdout",
     "output_type": "stream",
     "text": [
      "warning: toggling to jac False; due to increase or convergence in LSE at iteration 7.\n"
     ]
    },
    {
     "name": "stderr",
     "output_type": "stream",
     "text": [
      " 45%|████▌     | 9/20 [01:11<01:28,  8.09s/it]]"
     ]
    },
    {
     "name": "stdout",
     "output_type": "stream",
     "text": [
      "warning: toggling to jac False; due to increase or convergence in LSE at iteration 14.\n",
      "warning: toggling to jac False; due to increase or convergence in LSE at iteration 13.\n"
     ]
    },
    {
     "name": "stderr",
     "output_type": "stream",
     "text": [
      " 75%|███████▌  | 15/20 [01:44<00:58, 11.76s/it]"
     ]
    },
    {
     "name": "stdout",
     "output_type": "stream",
     "text": [
      "warning: toggling to jac False; due to increase or convergence in LSE at iteration 14.\n"
     ]
    },
    {
     "name": "stderr",
     "output_type": "stream",
     "text": [
      " 20%|██        | 4/20 [00:39<02:57, 11.07s/it]]"
     ]
    },
    {
     "name": "stdout",
     "output_type": "stream",
     "text": [
      "warning: toggling to jac False; due to increase or convergence in LSE at iteration 15.\n"
     ]
    },
    {
     "name": "stderr",
     "output_type": "stream",
     "text": [
      " 60%|██████    | 12/20 [01:26<00:42,  5.33s/it]"
     ]
    },
    {
     "name": "stdout",
     "output_type": "stream",
     "text": [
      "warning: toggling to jac False; due to increase or convergence in LSE at iteration 12.\n",
      "L-BFGS and Nelder-Mead both failed to improve LSE, exiting early due to convergence\n"
     ]
    },
    {
     "name": "stderr",
     "output_type": "stream",
     "text": [
      " 65%|██████▌   | 13/20 [01:20<00:43,  6.19s/it]\n",
      "  5%|▌         | 1/20 [00:00<00:06,  2.76it/s]"
     ]
    },
    {
     "name": "stdout",
     "output_type": "stream",
     "text": [
      "warning: toggling to jac False; due to increase or convergence in LSE at iteration 12.\n"
     ]
    },
    {
     "name": "stderr",
     "output_type": "stream",
     "text": [
      " 60%|██████    | 12/20 [01:33<00:40,  5.02s/it]"
     ]
    },
    {
     "name": "stdout",
     "output_type": "stream",
     "text": [
      "warning: toggling to jac False; due to increase or convergence in LSE at iteration 2.\n"
     ]
    },
    {
     "name": "stderr",
     "output_type": "stream",
     "text": [
      " 65%|██████▌   | 13/20 [01:34<00:27,  3.88s/it]"
     ]
    },
    {
     "name": "stdout",
     "output_type": "stream",
     "text": [
      "warning: toggling to jac False; due to increase or convergence in LSE at iteration 7.\n",
      "warning: toggling to jac False; due to increase or convergence in LSE at iteration 13.\n"
     ]
    },
    {
     "name": "stderr",
     "output_type": "stream",
     "text": [
      " 45%|████▌     | 9/20 [00:31<00:20,  1.87s/it]"
     ]
    },
    {
     "name": "stdout",
     "output_type": "stream",
     "text": [
      "L-BFGS and Nelder-Mead both failed to improve LSE, exiting early due to convergence\n",
      "L-BFGS and Nelder-Mead both failed to improve LSE, exiting early due to convergence\n",
      "warning: toggling to jac False; due to increase or convergence in LSE at iteration 9.\n"
     ]
    },
    {
     "name": "stderr",
     "output_type": "stream",
     "text": [
      " 75%|███████▌  | 15/20 [01:52<00:37,  7.49s/it]\n",
      " 65%|██████▌   | 13/20 [01:37<00:52,  7.49s/it]\n",
      " 10%|█         | 2/20 [00:00<00:05,  3.19it/s]"
     ]
    },
    {
     "name": "stdout",
     "output_type": "stream",
     "text": [
      "warning: toggling to jac False; due to increase or convergence in LSE at iteration 2.\n",
      "warning: toggling to jac False; due to increase or convergence in LSE at iteration 2.\n"
     ]
    },
    {
     "name": "stderr",
     "output_type": "stream",
     "text": [
      " 75%|███████▌  | 15/20 [00:59<00:23,  4.66s/it]"
     ]
    },
    {
     "name": "stdout",
     "output_type": "stream",
     "text": [
      "warning: toggling to jac False; due to increase or convergence in LSE at iteration 15.\n"
     ]
    },
    {
     "name": "stderr",
     "output_type": "stream",
     "text": [
      " 15%|█▌        | 3/20 [00:02<00:20,  1.19s/it]"
     ]
    },
    {
     "name": "stdout",
     "output_type": "stream",
     "text": [
      "L-BFGS and Nelder-Mead both failed to improve LSE, exiting early due to convergence\n"
     ]
    },
    {
     "name": "stderr",
     "output_type": "stream",
     "text": [
      " 75%|███████▌  | 15/20 [01:01<00:20,  4.13s/it]\n",
      " 10%|█         | 2/20 [00:00<00:05,  3.11it/s]"
     ]
    },
    {
     "name": "stdout",
     "output_type": "stream",
     "text": [
      "warning: toggling to jac False; due to increase or convergence in LSE at iteration 2.\n"
     ]
    },
    {
     "name": "stderr",
     "output_type": "stream",
     "text": [
      " 70%|███████   | 14/20 [01:38<00:31,  5.25s/it]"
     ]
    },
    {
     "name": "stdout",
     "output_type": "stream",
     "text": [
      "warning: toggling to jac False; due to increase or convergence in LSE at iteration 14.\n"
     ]
    },
    {
     "name": "stderr",
     "output_type": "stream",
     "text": [
      " 70%|███████   | 14/20 [01:40<00:43,  7.20s/it]\n"
     ]
    },
    {
     "name": "stdout",
     "output_type": "stream",
     "text": [
      "L-BFGS and Nelder-Mead both failed to improve LSE, exiting early due to convergence\n"
     ]
    },
    {
     "name": "stderr",
     "output_type": "stream",
     "text": [
      " 10%|█         | 2/20 [00:00<00:05,  3.47it/s]"
     ]
    },
    {
     "name": "stdout",
     "output_type": "stream",
     "text": [
      "warning: toggling to jac False; due to increase or convergence in LSE at iteration 2.\n"
     ]
    },
    {
     "name": "stderr",
     "output_type": "stream",
     "text": [
      " 55%|█████▌    | 11/20 [00:11<00:09,  1.10s/it]"
     ]
    },
    {
     "name": "stdout",
     "output_type": "stream",
     "text": [
      "warning: toggling to jac False; due to increase or convergence in LSE at iteration 15.\n"
     ]
    },
    {
     "name": "stderr",
     "output_type": "stream",
     "text": [
      " 50%|█████     | 10/20 [01:10<00:51,  5.16s/it]"
     ]
    },
    {
     "name": "stdout",
     "output_type": "stream",
     "text": [
      "warning: toggling to jac False; due to increase or convergence in LSE at iteration 13.\n"
     ]
    },
    {
     "name": "stderr",
     "output_type": "stream",
     "text": [
      " 70%|███████   | 14/20 [01:34<00:36,  6.05s/it]"
     ]
    },
    {
     "name": "stdout",
     "output_type": "stream",
     "text": [
      "warning: toggling to jac False; due to increase or convergence in LSE at iteration 12.\n",
      "warning: toggling to jac False; due to increase or convergence in LSE at iteration 11.\n"
     ]
    },
    {
     "name": "stderr",
     "output_type": "stream",
     "text": [
      " 60%|██████    | 12/20 [01:12<00:24,  3.05s/it]"
     ]
    },
    {
     "name": "stdout",
     "output_type": "stream",
     "text": [
      "warning: toggling to jac False; due to increase or convergence in LSE at iteration 7.\n",
      "warning: toggling to jac False; due to increase or convergence in LSE at iteration 10.\n"
     ]
    },
    {
     "name": "stderr",
     "output_type": "stream",
     "text": [
      " 20%|██        | 4/20 [00:37<02:47, 10.47s/it]"
     ]
    },
    {
     "name": "stdout",
     "output_type": "stream",
     "text": [
      "warning: toggling to jac False; due to increase or convergence in LSE at iteration 12.\n"
     ]
    },
    {
     "name": "stderr",
     "output_type": "stream",
     "text": [
      " 25%|██▌       | 5/20 [00:38<01:46,  7.12s/it]]"
     ]
    },
    {
     "name": "stdout",
     "output_type": "stream",
     "text": [
      "warning: toggling to jac False; due to increase or convergence in LSE at iteration 16.\n"
     ]
    },
    {
     "name": "stderr",
     "output_type": "stream",
     "text": [
      " 40%|████      | 8/20 [00:37<00:30,  2.56s/it]"
     ]
    },
    {
     "name": "stdout",
     "output_type": "stream",
     "text": [
      "warning: toggling to jac False; due to increase or convergence in LSE at iteration 7.\n"
     ]
    },
    {
     "name": "stderr",
     "output_type": "stream",
     "text": [
      " 45%|████▌     | 9/20 [00:38<00:21,  1.98s/it]]"
     ]
    },
    {
     "name": "stdout",
     "output_type": "stream",
     "text": [
      "warning: toggling to jac False; due to increase or convergence in LSE at iteration 9.\n"
     ]
    },
    {
     "name": "stderr",
     "output_type": "stream",
     "text": [
      " 75%|███████▌  | 15/20 [01:19<00:11,  2.28s/it]"
     ]
    },
    {
     "name": "stdout",
     "output_type": "stream",
     "text": [
      "warning: toggling to jac False; due to increase or convergence in LSE at iteration 15.\n"
     ]
    },
    {
     "name": "stderr",
     "output_type": "stream",
     "text": [
      " 75%|███████▌  | 15/20 [00:27<00:17,  3.50s/it]"
     ]
    },
    {
     "name": "stdout",
     "output_type": "stream",
     "text": [
      "warning: toggling to jac False; due to increase or convergence in LSE at iteration 13.\n",
      "warning: toggling to jac False; due to increase or convergence in LSE at iteration 15.\n",
      "L-BFGS and Nelder-Mead both failed to improve LSE, exiting early due to convergence\n"
     ]
    },
    {
     "name": "stderr",
     "output_type": "stream",
     "text": [
      " 65%|██████▌   | 13/20 [01:35<00:51,  7.34s/it]\n",
      " 20%|██        | 4/20 [00:42<03:08, 11.77s/it]"
     ]
    },
    {
     "name": "stdout",
     "output_type": "stream",
     "text": [
      "warning: toggling to jac False; due to increase or convergence in LSE at iteration 2.\n"
     ]
    },
    {
     "name": "stderr",
     "output_type": "stream",
     "text": [
      " 35%|███▌      | 7/20 [00:45<00:53,  4.13s/it]]"
     ]
    },
    {
     "name": "stdout",
     "output_type": "stream",
     "text": [
      "warning: toggling to jac False; due to increase or convergence in LSE at iteration 12.\n"
     ]
    },
    {
     "name": "stderr",
     "output_type": "stream",
     "text": [
      " 65%|██████▌   | 13/20 [01:05<00:56,  8.09s/it]"
     ]
    },
    {
     "name": "stdout",
     "output_type": "stream",
     "text": [
      "warning: toggling to jac False; due to increase or convergence in LSE at iteration 16.\n",
      "warning: toggling to jac False; due to increase or convergence in LSE at iteration 7.\n"
     ]
    },
    {
     "name": "stderr",
     "output_type": "stream",
     "text": [
      " 70%|███████   | 14/20 [01:06<00:35,  5.94s/it]"
     ]
    },
    {
     "name": "stdout",
     "output_type": "stream",
     "text": [
      "warning: toggling to jac False; due to increase or convergence in LSE at iteration 14.\n"
     ]
    },
    {
     "name": "stderr",
     "output_type": "stream",
     "text": [
      " 20%|██        | 4/20 [00:42<03:08, 11.77s/it]]"
     ]
    },
    {
     "name": "stdout",
     "output_type": "stream",
     "text": [
      "L-BFGS and Nelder-Mead both failed to improve LSE, exiting early due to convergence\n"
     ]
    },
    {
     "name": "stderr",
     "output_type": "stream",
     "text": [
      " 60%|██████    | 12/20 [01:24<00:56,  7.06s/it]\n",
      " 10%|█         | 2/20 [00:00<00:05,  3.18it/s]]"
     ]
    },
    {
     "name": "stdout",
     "output_type": "stream",
     "text": [
      "warning: toggling to jac False; due to increase or convergence in LSE at iteration 18.\n",
      "warning: toggling to jac False; due to increase or convergence in LSE at iteration 2.\n"
     ]
    },
    {
     "name": "stderr",
     "output_type": "stream",
     "text": [
      " 15%|█▌        | 3/20 [00:03<00:21,  1.28s/it]]"
     ]
    },
    {
     "name": "stdout",
     "output_type": "stream",
     "text": [
      "warning: toggling to jac False; due to increase or convergence in LSE at iteration 15.\n"
     ]
    },
    {
     "name": "stderr",
     "output_type": "stream",
     "text": [
      " 70%|███████   | 14/20 [01:09<00:11,  1.88s/it]"
     ]
    },
    {
     "name": "stdout",
     "output_type": "stream",
     "text": [
      "L-BFGS and Nelder-Mead both failed to improve LSE, exiting early due to convergence\n"
     ]
    },
    {
     "name": "stderr",
     "output_type": "stream",
     "text": [
      " 75%|███████▌  | 15/20 [01:13<00:24,  4.93s/it]\n",
      "  5%|▌         | 1/20 [00:00<00:05,  3.21it/s]]"
     ]
    },
    {
     "name": "stdout",
     "output_type": "stream",
     "text": [
      "warning: toggling to jac False; due to increase or convergence in LSE at iteration 14.\n"
     ]
    },
    {
     "name": "stderr",
     "output_type": "stream",
     "text": [
      " 20%|██        | 4/20 [00:43<03:12, 12.03s/it]"
     ]
    },
    {
     "name": "stdout",
     "output_type": "stream",
     "text": [
      "warning: toggling to jac False; due to increase or convergence in LSE at iteration 2.\n"
     ]
    },
    {
     "name": "stderr",
     "output_type": "stream",
     "text": [
      " 25%|██▌       | 5/20 [00:33<01:33,  6.25s/it]"
     ]
    },
    {
     "name": "stdout",
     "output_type": "stream",
     "text": [
      "warning: toggling to jac False; due to increase or convergence in LSE at iteration 13.\n",
      "warning: toggling to jac False; due to increase or convergence in LSE at iteration 8.\n"
     ]
    },
    {
     "name": "stderr",
     "output_type": "stream",
     "text": [
      " 65%|██████▌   | 13/20 [01:03<00:34,  4.89s/it]\n",
      "  0%|          | 0/20 [00:00<?, ?it/s]"
     ]
    },
    {
     "name": "stdout",
     "output_type": "stream",
     "text": [
      "L-BFGS and Nelder-Mead both failed to improve LSE, exiting early due to convergence\n"
     ]
    },
    {
     "name": "stderr",
     "output_type": "stream",
     "text": [
      "  5%|▌         | 1/20 [00:00<00:05,  3.43it/s]"
     ]
    },
    {
     "name": "stdout",
     "output_type": "stream",
     "text": [
      "warning: toggling to jac False; due to increase or convergence in LSE at iteration 7.\n"
     ]
    },
    {
     "name": "stderr",
     "output_type": "stream",
     "text": [
      " 95%|█████████▌| 19/20 [02:06<00:06,  6.95s/it]"
     ]
    },
    {
     "name": "stdout",
     "output_type": "stream",
     "text": [
      "warning: toggling to jac False; due to increase or convergence in LSE at iteration 2.\n"
     ]
    },
    {
     "name": "stderr",
     "output_type": "stream",
     "text": [
      " 75%|███████▌  | 15/20 [02:27<00:49,  9.86s/it]\n",
      "  0%|          | 0/20 [00:00<?, ?it/s]"
     ]
    },
    {
     "name": "stdout",
     "output_type": "stream",
     "text": [
      "L-BFGS and Nelder-Mead both failed to improve LSE, exiting early due to convergence\n",
      "warning: toggling to jac False; due to increase or convergence in LSE at iteration 19.\n",
      "warning: toggling to jac False; due to increase or convergence in LSE at iteration 9.\n"
     ]
    },
    {
     "name": "stderr",
     "output_type": "stream",
     "text": [
      " 10%|█         | 2/20 [00:00<00:06,  2.93it/s]]"
     ]
    },
    {
     "name": "stdout",
     "output_type": "stream",
     "text": [
      "warning: toggling to jac False; due to increase or convergence in LSE at iteration 8.\n"
     ]
    },
    {
     "name": "stderr",
     "output_type": "stream",
     "text": [
      " 85%|████████▌ | 17/20 [01:16<00:05,  1.86s/it]"
     ]
    },
    {
     "name": "stdout",
     "output_type": "stream",
     "text": [
      "warning: toggling to jac False; due to increase or convergence in LSE at iteration 2.\n",
      "warning: toggling to jac False; due to increase or convergence in LSE at iteration 11.\n"
     ]
    },
    {
     "name": "stderr",
     "output_type": "stream",
     "text": [
      " 60%|██████    | 12/20 [00:11<00:07,  1.06it/s]"
     ]
    },
    {
     "name": "stdout",
     "output_type": "stream",
     "text": [
      "warning: toggling to jac False; due to increase or convergence in LSE at iteration 18.\n"
     ]
    },
    {
     "name": "stderr",
     "output_type": "stream",
     "text": [
      "100%|██████████| 20/20 [02:10<00:00,  6.54s/it]\n",
      " 10%|█         | 2/20 [00:00<00:04,  3.73it/s]]"
     ]
    },
    {
     "name": "stdout",
     "output_type": "stream",
     "text": [
      "warning: toggling to jac False; due to increase or convergence in LSE at iteration 2.\n"
     ]
    },
    {
     "name": "stderr",
     "output_type": "stream",
     "text": [
      " 80%|████████  | 16/20 [00:14<00:03,  1.19it/s]"
     ]
    },
    {
     "name": "stdout",
     "output_type": "stream",
     "text": [
      "warning: toggling to jac False; due to increase or convergence in LSE at iteration 16.\n"
     ]
    },
    {
     "name": "stderr",
     "output_type": "stream",
     "text": [
      " 25%|██▌       | 5/20 [00:14<00:42,  2.86s/it]]"
     ]
    },
    {
     "name": "stdout",
     "output_type": "stream",
     "text": [
      "warning: toggling to jac False; due to increase or convergence in LSE at iteration 17.\n"
     ]
    },
    {
     "name": "stderr",
     "output_type": "stream",
     "text": [
      " 45%|████▌     | 9/20 [00:18<00:14,  1.30s/it]]"
     ]
    },
    {
     "name": "stdout",
     "output_type": "stream",
     "text": [
      "L-BFGS and Nelder-Mead both failed to improve LSE, exiting early due to convergence\n"
     ]
    },
    {
     "name": "stderr",
     "output_type": "stream",
     "text": [
      " 85%|████████▌ | 17/20 [01:00<00:10,  3.56s/it]\n",
      " 65%|██████▌   | 13/20 [01:01<00:13,  1.91s/it]"
     ]
    },
    {
     "name": "stdout",
     "output_type": "stream",
     "text": [
      "warning: toggling to jac False; due to increase or convergence in LSE at iteration 2.\n"
     ]
    },
    {
     "name": "stderr",
     "output_type": "stream",
     "text": [
      " 50%|█████     | 10/20 [01:14<00:59,  5.93s/it]"
     ]
    },
    {
     "name": "stdout",
     "output_type": "stream",
     "text": [
      "warning: toggling to jac False; due to increase or convergence in LSE at iteration 13.\n"
     ]
    },
    {
     "name": "stderr",
     "output_type": "stream",
     "text": [
      " 55%|█████▌    | 11/20 [01:15<00:39,  4.39s/it]"
     ]
    },
    {
     "name": "stdout",
     "output_type": "stream",
     "text": [
      "warning: toggling to jac False; due to increase or convergence in LSE at iteration 11.\n",
      "warning: toggling to jac False; due to increase or convergence in LSE at iteration 19.\n"
     ]
    },
    {
     "name": "stderr",
     "output_type": "stream",
     "text": [
      " 55%|█████▌    | 11/20 [01:10<00:44,  5.00s/it]"
     ]
    },
    {
     "name": "stdout",
     "output_type": "stream",
     "text": [
      "warning: toggling to jac False; due to increase or convergence in LSE at iteration 17.\n"
     ]
    },
    {
     "name": "stderr",
     "output_type": "stream",
     "text": [
      " 15%|█▌        | 3/20 [00:37<04:48, 16.99s/it]]"
     ]
    },
    {
     "name": "stdout",
     "output_type": "stream",
     "text": [
      "warning: toggling to jac False; due to increase or convergence in LSE at iteration 13.\n",
      "warning: toggling to jac False; due to increase or convergence in LSE at iteration 13.\n"
     ]
    },
    {
     "name": "stderr",
     "output_type": "stream",
     "text": [
      " 20%|██        | 4/20 [00:38<02:49, 10.60s/it]]"
     ]
    },
    {
     "name": "stdout",
     "output_type": "stream",
     "text": [
      "warning: toggling to jac False; due to increase or convergence in LSE at iteration 13.\n",
      "warning: toggling to jac False; due to increase or convergence in LSE at iteration 15.\n"
     ]
    },
    {
     "name": "stderr",
     "output_type": "stream",
     "text": [
      "100%|██████████| 20/20 [01:36<00:00,  4.81s/it]\n",
      "  0%|          | 0/20 [00:00<?, ?it/s].81s/it]"
     ]
    },
    {
     "name": "stdout",
     "output_type": "stream",
     "text": [
      "warning: toggling to jac False; due to increase or convergence in LSE at iteration 12.\n"
     ]
    },
    {
     "name": "stderr",
     "output_type": "stream",
     "text": [
      " 10%|█         | 2/20 [00:00<00:05,  3.09it/s]"
     ]
    },
    {
     "name": "stdout",
     "output_type": "stream",
     "text": [
      "warning: toggling to jac False; due to increase or convergence in LSE at iteration 2.\n"
     ]
    },
    {
     "name": "stderr",
     "output_type": "stream",
     "text": [
      " 65%|██████▌   | 13/20 [01:30<00:48,  6.98s/it]\n",
      "  0%|          | 0/20 [00:00<?, ?it/s]"
     ]
    },
    {
     "name": "stdout",
     "output_type": "stream",
     "text": [
      "L-BFGS and Nelder-Mead both failed to improve LSE, exiting early due to convergence\n"
     ]
    },
    {
     "name": "stderr",
     "output_type": "stream",
     "text": [
      " 25%|██▌       | 5/20 [00:22<01:04,  4.31s/it]"
     ]
    },
    {
     "name": "stdout",
     "output_type": "stream",
     "text": [
      "L-BFGS and Nelder-Mead both failed to improve LSE, exiting early due to convergence\n"
     ]
    },
    {
     "name": "stderr",
     "output_type": "stream",
     "text": [
      " 60%|██████    | 12/20 [01:14<00:49,  6.22s/it]\n",
      " 30%|███       | 6/20 [00:41<01:13,  5.22s/it]"
     ]
    },
    {
     "name": "stdout",
     "output_type": "stream",
     "text": [
      "warning: toggling to jac False; due to increase or convergence in LSE at iteration 2.\n"
     ]
    },
    {
     "name": "stderr",
     "output_type": "stream",
     "text": [
      " 10%|█         | 2/20 [00:00<00:06,  2.90it/s]]"
     ]
    },
    {
     "name": "stdout",
     "output_type": "stream",
     "text": [
      "warning: toggling to jac False; due to increase or convergence in LSE at iteration 2.\n"
     ]
    },
    {
     "name": "stderr",
     "output_type": "stream",
     "text": [
      " 40%|████      | 8/20 [00:26<00:26,  2.18s/it]]"
     ]
    },
    {
     "name": "stdout",
     "output_type": "stream",
     "text": [
      "warning: toggling to jac False; due to increase or convergence in LSE at iteration 8.\n"
     ]
    },
    {
     "name": "stderr",
     "output_type": "stream",
     "text": [
      " 30%|███       | 6/20 [00:06<00:15,  1.12s/it]]"
     ]
    },
    {
     "name": "stdout",
     "output_type": "stream",
     "text": [
      "warning: toggling to jac False; due to increase or convergence in LSE at iteration 8.\n"
     ]
    },
    {
     "name": "stderr",
     "output_type": "stream",
     "text": [
      " 35%|███▌      | 7/20 [00:07<00:15,  1.16s/it]"
     ]
    },
    {
     "name": "stdout",
     "output_type": "stream",
     "text": [
      "warning: toggling to jac False; due to increase or convergence in LSE at iteration 14.\n"
     ]
    },
    {
     "name": "stderr",
     "output_type": "stream",
     "text": [
      " 90%|█████████ | 18/20 [01:18<00:05,  2.64s/it]"
     ]
    },
    {
     "name": "stdout",
     "output_type": "stream",
     "text": [
      "warning: toggling to jac False; due to increase or convergence in LSE at iteration 15.\n"
     ]
    },
    {
     "name": "stderr",
     "output_type": "stream",
     "text": [
      " 50%|█████     | 10/20 [00:10<00:10,  1.03s/it]"
     ]
    },
    {
     "name": "stdout",
     "output_type": "stream",
     "text": [
      "L-BFGS and Nelder-Mead both failed to improve LSE, exiting early due to convergence\n",
      "warning: toggling to jac False; due to increase or convergence in LSE at iteration 18.\n"
     ]
    },
    {
     "name": "stderr",
     "output_type": "stream",
     "text": [
      " 75%|███████▌  | 15/20 [01:15<00:25,  5.05s/it]\n",
      " 10%|█         | 2/20 [00:00<00:05,  3.07it/s]]"
     ]
    },
    {
     "name": "stdout",
     "output_type": "stream",
     "text": [
      "warning: toggling to jac False; due to increase or convergence in LSE at iteration 2.\n"
     ]
    },
    {
     "name": "stderr",
     "output_type": "stream",
     "text": [
      " 65%|██████▌   | 13/20 [00:13<00:06,  1.09it/s]"
     ]
    },
    {
     "name": "stdout",
     "output_type": "stream",
     "text": [
      "warning: toggling to jac False; due to increase or convergence in LSE at iteration 15.\n"
     ]
    },
    {
     "name": "stderr",
     "output_type": "stream",
     "text": [
      "100%|██████████| 20/20 [02:19<00:00,  6.97s/it]\n",
      " 20%|██        | 4/20 [00:37<02:47, 10.46s/it]]"
     ]
    },
    {
     "name": "stdout",
     "output_type": "stream",
     "text": [
      "warning: toggling to jac False; due to increase or convergence in LSE at iteration 2.\n"
     ]
    },
    {
     "name": "stderr",
     "output_type": "stream",
     "text": [
      " 25%|██▌       | 5/20 [00:04<00:15,  1.03s/it]]"
     ]
    },
    {
     "name": "stdout",
     "output_type": "stream",
     "text": [
      "warning: toggling to jac False; due to increase or convergence in LSE at iteration 18.\n"
     ]
    },
    {
     "name": "stderr",
     "output_type": "stream",
     "text": [
      " 20%|██        | 4/20 [00:33<02:28,  9.29s/it]"
     ]
    },
    {
     "name": "stdout",
     "output_type": "stream",
     "text": [
      "warning: toggling to jac False; due to increase or convergence in LSE at iteration 16.\n"
     ]
    },
    {
     "name": "stderr",
     "output_type": "stream",
     "text": [
      " 45%|████▌     | 9/20 [00:38<00:22,  2.03s/it]]"
     ]
    },
    {
     "name": "stdout",
     "output_type": "stream",
     "text": [
      "warning: toggling to jac False; due to increase or convergence in LSE at iteration 16.\n",
      "warning: toggling to jac False; due to increase or convergence in LSE at iteration 8.\n"
     ]
    },
    {
     "name": "stderr",
     "output_type": "stream",
     "text": [
      " 50%|█████     | 10/20 [00:10<00:09,  1.01it/s]"
     ]
    },
    {
     "name": "stdout",
     "output_type": "stream",
     "text": [
      "warning: toggling to jac False; due to increase or convergence in LSE at iteration 9.\n"
     ]
    },
    {
     "name": "stderr",
     "output_type": "stream",
     "text": [
      " 50%|█████     | 10/20 [01:04<01:01,  6.12s/it]"
     ]
    },
    {
     "name": "stdout",
     "output_type": "stream",
     "text": [
      "warning: toggling to jac False; due to increase or convergence in LSE at iteration 17.\n"
     ]
    },
    {
     "name": "stderr",
     "output_type": "stream",
     "text": [
      " 75%|███████▌  | 15/20 [00:14<00:04,  1.03it/s]"
     ]
    },
    {
     "name": "stdout",
     "output_type": "stream",
     "text": [
      "warning: toggling to jac False; due to increase or convergence in LSE at iteration 19.\n"
     ]
    },
    {
     "name": "stderr",
     "output_type": "stream",
     "text": [
      " 15%|█▌        | 3/20 [00:13<01:41,  5.95s/it]]"
     ]
    },
    {
     "name": "stdout",
     "output_type": "stream",
     "text": [
      "warning: toggling to jac False; due to increase or convergence in LSE at iteration 16.\n",
      "warning: toggling to jac False; due to increase or convergence in LSE at iteration 12.\n",
      "warning: toggling to jac False; due to increase or convergence in LSE at iteration 11.\n"
     ]
    },
    {
     "name": "stderr",
     "output_type": "stream",
     "text": [
      " 30%|███       | 6/20 [00:15<00:29,  2.11s/it]]"
     ]
    },
    {
     "name": "stdout",
     "output_type": "stream",
     "text": [
      "L-BFGS and Nelder-Mead both failed to improve LSE, exiting early due to convergence\n"
     ]
    },
    {
     "name": "stderr",
     "output_type": "stream",
     "text": [
      " 95%|█████████▌| 19/20 [01:00<00:03,  3.17s/it]\n",
      " 15%|█▌        | 3/20 [00:38<04:59, 17.60s/it]]"
     ]
    },
    {
     "name": "stdout",
     "output_type": "stream",
     "text": [
      "warning: toggling to jac False; due to increase or convergence in LSE at iteration 18.\n",
      "warning: toggling to jac False; due to increase or convergence in LSE at iteration 2.\n"
     ]
    },
    {
     "name": "stderr",
     "output_type": "stream",
     "text": [
      " 30%|███       | 6/20 [00:30<00:53,  3.82s/it]"
     ]
    },
    {
     "name": "stdout",
     "output_type": "stream",
     "text": [
      "warning: toggling to jac False; due to increase or convergence in LSE at iteration 14.\n"
     ]
    },
    {
     "name": "stderr",
     "output_type": "stream",
     "text": [
      " 40%|████      | 8/20 [00:31<00:26,  2.21s/it]]"
     ]
    },
    {
     "name": "stdout",
     "output_type": "stream",
     "text": [
      "warning: toggling to jac False; due to increase or convergence in LSE at iteration 9.\n"
     ]
    },
    {
     "name": "stderr",
     "output_type": "stream",
     "text": [
      " 45%|████▌     | 9/20 [00:32<00:19,  1.74s/it]"
     ]
    },
    {
     "name": "stdout",
     "output_type": "stream",
     "text": [
      "warning: toggling to jac False; due to increase or convergence in LSE at iteration 16.\n",
      "warning: toggling to jac False; due to increase or convergence in LSE at iteration 19.\n",
      "warning: toggling to jac False; due to increase or convergence in LSE at iteration 9.\n"
     ]
    },
    {
     "name": "stderr",
     "output_type": "stream",
     "text": [
      " 80%|████████  | 16/20 [01:33<00:23,  5.85s/it]\n",
      "  0%|          | 0/20 [00:00<?, ?it/s]"
     ]
    },
    {
     "name": "stdout",
     "output_type": "stream",
     "text": [
      "L-BFGS and Nelder-Mead both failed to improve LSE, exiting early due to convergence\n"
     ]
    },
    {
     "name": "stderr",
     "output_type": "stream",
     "text": [
      "  5%|▌         | 1/20 [00:00<00:06,  3.11it/s]"
     ]
    },
    {
     "name": "stdout",
     "output_type": "stream",
     "text": [
      "warning: toggling to jac False; due to increase or convergence in LSE at iteration 13.\n"
     ]
    },
    {
     "name": "stderr",
     "output_type": "stream",
     "text": [
      " 35%|███▌      | 7/20 [00:43<00:51,  3.95s/it]"
     ]
    },
    {
     "name": "stdout",
     "output_type": "stream",
     "text": [
      "warning: toggling to jac False; due to increase or convergence in LSE at iteration 2.\n"
     ]
    },
    {
     "name": "stderr",
     "output_type": "stream",
     "text": [
      " 40%|████      | 8/20 [00:44<00:35,  2.96s/it]"
     ]
    },
    {
     "name": "stdout",
     "output_type": "stream",
     "text": [
      "warning: toggling to jac False; due to increase or convergence in LSE at iteration 8.\n"
     ]
    },
    {
     "name": "stderr",
     "output_type": "stream",
     "text": [
      " 65%|██████▌   | 13/20 [01:16<00:41,  5.91s/it]\n",
      "  0%|          | 0/20 [00:00<?, ?it/s]"
     ]
    },
    {
     "name": "stdout",
     "output_type": "stream",
     "text": [
      "L-BFGS and Nelder-Mead both failed to improve LSE, exiting early due to convergence\n"
     ]
    },
    {
     "name": "stderr",
     "output_type": "stream",
     "text": [
      " 40%|████      | 8/20 [00:37<00:31,  2.60s/it]]"
     ]
    },
    {
     "name": "stdout",
     "output_type": "stream",
     "text": [
      "warning: toggling to jac False; due to increase or convergence in LSE at iteration 2.\n",
      "warning: toggling to jac False; due to increase or convergence in LSE at iteration 8.\n",
      "warning: toggling to jac False; due to increase or convergence in LSE at iteration 17.\n"
     ]
    },
    {
     "name": "stderr",
     "output_type": "stream",
     "text": [
      " 90%|█████████ | 18/20 [00:41<00:12,  6.14s/it]"
     ]
    },
    {
     "name": "stdout",
     "output_type": "stream",
     "text": [
      "warning: toggling to jac False; due to increase or convergence in LSE at iteration 18.\n",
      "warning: toggling to jac False; due to increase or convergence in LSE at iteration 15.\n"
     ]
    },
    {
     "name": "stderr",
     "output_type": "stream",
     "text": [
      " 90%|█████████ | 18/20 [00:46<00:05,  2.57s/it]\n",
      "  0%|          | 0/20 [00:00<?, ?it/s]"
     ]
    },
    {
     "name": "stdout",
     "output_type": "stream",
     "text": [
      "L-BFGS and Nelder-Mead both failed to improve LSE, exiting early due to convergence\n"
     ]
    },
    {
     "name": "stderr",
     "output_type": "stream",
     "text": [
      " 90%|█████████ | 18/20 [02:07<00:19,  9.89s/it]"
     ]
    },
    {
     "name": "stdout",
     "output_type": "stream",
     "text": [
      "warning: toggling to jac False; due to increase or convergence in LSE at iteration 2.\n",
      "warning: toggling to jac False; due to increase or convergence in LSE at iteration 19.\n"
     ]
    },
    {
     "name": "stderr",
     "output_type": "stream",
     "text": [
      " 65%|██████▌   | 13/20 [00:47<00:15,  2.22s/it]"
     ]
    },
    {
     "name": "stdout",
     "output_type": "stream",
     "text": [
      "warning: toggling to jac False; due to increase or convergence in LSE at iteration 12.\n"
     ]
    },
    {
     "name": "stderr",
     "output_type": "stream",
     "text": [
      "100%|██████████| 20/20 [02:09<00:00,  6.48s/it]\n",
      " 95%|█████████▌| 19/20 [01:57<00:06,  6.20s/it]\n",
      "  0%|          | 0/20 [00:00<?, ?it/s]"
     ]
    },
    {
     "name": "stdout",
     "output_type": "stream",
     "text": [
      "L-BFGS and Nelder-Mead both failed to improve LSE, exiting early due to convergence\n",
      "warning: toggling to jac False; due to increase or convergence in LSE at iteration 13.\n"
     ]
    },
    {
     "name": "stderr",
     "output_type": "stream",
     "text": [
      " 10%|█         | 2/20 [00:00<00:05,  3.38it/s]]"
     ]
    },
    {
     "name": "stdout",
     "output_type": "stream",
     "text": [
      "warning: toggling to jac False; due to increase or convergence in LSE at iteration 2.\n"
     ]
    },
    {
     "name": "stderr",
     "output_type": "stream",
     "text": [
      " 15%|█▌        | 3/20 [00:12<01:36,  5.66s/it]"
     ]
    },
    {
     "name": "stdout",
     "output_type": "stream",
     "text": [
      "warning: toggling to jac False; due to increase or convergence in LSE at iteration 2.\n"
     ]
    },
    {
     "name": "stderr",
     "output_type": "stream",
     "text": [
      " 60%|██████    | 12/20 [01:13<00:34,  4.29s/it]"
     ]
    },
    {
     "name": "stdout",
     "output_type": "stream",
     "text": [
      "warning: toggling to jac False; due to increase or convergence in LSE at iteration 13.\n"
     ]
    },
    {
     "name": "stderr",
     "output_type": "stream",
     "text": [
      " 20%|██        | 4/20 [00:13<01:01,  3.86s/it]]"
     ]
    },
    {
     "name": "stdout",
     "output_type": "stream",
     "text": [
      "L-BFGS and Nelder-Mead both failed to improve LSE, exiting early due to convergence\n",
      "warning: toggling to jac False; due to increase or convergence in LSE at iteration 12.\n"
     ]
    },
    {
     "name": "stderr",
     "output_type": "stream",
     "text": [
      " 65%|██████▌   | 13/20 [01:09<00:37,  5.33s/it]\n",
      " 80%|████████  | 16/20 [01:18<00:34,  8.57s/it]"
     ]
    },
    {
     "name": "stdout",
     "output_type": "stream",
     "text": [
      "warning: toggling to jac False; due to increase or convergence in LSE at iteration 2.\n"
     ]
    },
    {
     "name": "stderr",
     "output_type": "stream",
     "text": [
      " 20%|██        | 4/20 [00:03<00:17,  1.10s/it]"
     ]
    },
    {
     "name": "stdout",
     "output_type": "stream",
     "text": [
      "warning: toggling to jac False; due to increase or convergence in LSE at iteration 16.\n"
     ]
    },
    {
     "name": "stderr",
     "output_type": "stream",
     "text": [
      " 25%|██▌       | 5/20 [00:04<00:14,  1.01it/s]]"
     ]
    },
    {
     "name": "stdout",
     "output_type": "stream",
     "text": [
      "warning: toggling to jac False; due to increase or convergence in LSE at iteration 12.\n"
     ]
    },
    {
     "name": "stderr",
     "output_type": "stream",
     "text": [
      " 45%|████▌     | 9/20 [00:18<00:13,  1.23s/it]]"
     ]
    },
    {
     "name": "stdout",
     "output_type": "stream",
     "text": [
      "warning: toggling to jac False; due to increase or convergence in LSE at iteration 13.\n"
     ]
    },
    {
     "name": "stderr",
     "output_type": "stream",
     "text": [
      " 25%|██▌       | 5/20 [00:04<00:15,  1.04s/it]"
     ]
    },
    {
     "name": "stdout",
     "output_type": "stream",
     "text": [
      "L-BFGS and Nelder-Mead both failed to improve LSE, exiting early due to convergence\n"
     ]
    },
    {
     "name": "stderr",
     "output_type": "stream",
     "text": [
      " 80%|████████  | 16/20 [01:22<00:20,  5.18s/it]\n",
      " 65%|██████▌   | 13/20 [01:20<00:43,  6.16s/it]\n",
      "  0%|          | 0/20 [00:00<?, ?it/s]6.03s/it]"
     ]
    },
    {
     "name": "stdout",
     "output_type": "stream",
     "text": [
      "L-BFGS and Nelder-Mead both failed to improve LSE, exiting early due to convergence\n",
      "warning: toggling to jac False; due to increase or convergence in LSE at iteration 2.\n"
     ]
    },
    {
     "name": "stderr",
     "output_type": "stream",
     "text": [
      "100%|██████████| 20/20 [00:46<00:00,  2.34s/it]\n",
      " 10%|█         | 2/20 [00:00<00:04,  3.65it/s]]"
     ]
    },
    {
     "name": "stdout",
     "output_type": "stream",
     "text": [
      "warning: toggling to jac False; due to increase or convergence in LSE at iteration 2.\n",
      "warning: toggling to jac False; due to increase or convergence in LSE at iteration 14.\n"
     ]
    },
    {
     "name": "stderr",
     "output_type": "stream",
     "text": [
      " 55%|█████▌    | 11/20 [01:06<00:41,  4.56s/it]"
     ]
    },
    {
     "name": "stdout",
     "output_type": "stream",
     "text": [
      "warning: toggling to jac False; due to increase or convergence in LSE at iteration 2.\n",
      "warning: toggling to jac False; due to increase or convergence in LSE at iteration 11.\n"
     ]
    },
    {
     "name": "stderr",
     "output_type": "stream",
     "text": [
      " 70%|███████   | 14/20 [00:57<00:12,  2.06s/it]"
     ]
    },
    {
     "name": "stdout",
     "output_type": "stream",
     "text": [
      "L-BFGS and Nelder-Mead both failed to improve LSE, exiting early due to convergence\n"
     ]
    },
    {
     "name": "stderr",
     "output_type": "stream",
     "text": [
      " 70%|███████   | 14/20 [00:58<00:25,  4.17s/it]\n",
      "  5%|▌         | 1/20 [00:00<00:05,  3.26it/s]]"
     ]
    },
    {
     "name": "stdout",
     "output_type": "stream",
     "text": [
      "warning: toggling to jac False; due to increase or convergence in LSE at iteration 13.\n"
     ]
    },
    {
     "name": "stderr",
     "output_type": "stream",
     "text": [
      " 20%|██        | 4/20 [00:03<00:16,  1.01s/it]]"
     ]
    },
    {
     "name": "stdout",
     "output_type": "stream",
     "text": [
      "warning: toggling to jac False; due to increase or convergence in LSE at iteration 2.\n",
      "warning: toggling to jac False; due to increase or convergence in LSE at iteration 14.\n"
     ]
    },
    {
     "name": "stderr",
     "output_type": "stream",
     "text": [
      " 65%|██████▌   | 13/20 [00:47<00:25,  3.63s/it]\n",
      " 25%|██▌       | 5/20 [00:04<00:13,  1.14it/s]]"
     ]
    },
    {
     "name": "stdout",
     "output_type": "stream",
     "text": [
      "L-BFGS and Nelder-Mead both failed to improve LSE, exiting early due to convergence\n"
     ]
    },
    {
     "name": "stderr",
     "output_type": "stream",
     "text": [
      " 50%|█████     | 10/20 [00:10<00:11,  1.17s/it]"
     ]
    },
    {
     "name": "stdout",
     "output_type": "stream",
     "text": [
      "warning: toggling to jac False; due to increase or convergence in LSE at iteration 2.\n"
     ]
    },
    {
     "name": "stderr",
     "output_type": "stream",
     "text": [
      " 55%|█████▌    | 11/20 [00:11<00:09,  1.04s/it]"
     ]
    },
    {
     "name": "stdout",
     "output_type": "stream",
     "text": [
      "warning: toggling to jac False; due to increase or convergence in LSE at iteration 15.\n",
      "warning: toggling to jac False; due to increase or convergence in LSE at iteration 8.\n"
     ]
    },
    {
     "name": "stderr",
     "output_type": "stream",
     "text": [
      " 15%|█▌        | 3/20 [00:14<01:48,  6.39s/it]]"
     ]
    },
    {
     "name": "stdout",
     "output_type": "stream",
     "text": [
      "warning: toggling to jac False; due to increase or convergence in LSE at iteration 14.\n"
     ]
    },
    {
     "name": "stderr",
     "output_type": "stream",
     "text": [
      " 40%|████      | 8/20 [00:07<00:12,  1.02s/it]]"
     ]
    },
    {
     "name": "stdout",
     "output_type": "stream",
     "text": [
      "warning: toggling to jac False; due to increase or convergence in LSE at iteration 16.\n"
     ]
    },
    {
     "name": "stderr",
     "output_type": "stream",
     "text": [
      " 40%|████      | 8/20 [00:06<00:09,  1.20it/s]]"
     ]
    },
    {
     "name": "stdout",
     "output_type": "stream",
     "text": [
      "warning: toggling to jac False; due to increase or convergence in LSE at iteration 12.\n"
     ]
    },
    {
     "name": "stderr",
     "output_type": "stream",
     "text": [
      " 70%|███████   | 14/20 [00:13<00:06,  1.02s/it]"
     ]
    },
    {
     "name": "stdout",
     "output_type": "stream",
     "text": [
      "warning: toggling to jac False; due to increase or convergence in LSE at iteration 9.\n"
     ]
    },
    {
     "name": "stderr",
     "output_type": "stream",
     "text": [
      "100%|██████████| 20/20 [00:19<00:00,  1.03it/s]\n",
      "  5%|▌         | 1/20 [00:00<00:04,  4.51it/s]]"
     ]
    },
    {
     "name": "stdout",
     "output_type": "stream",
     "text": [
      "warning: toggling to jac False; due to increase or convergence in LSE at iteration 15.\n",
      "warning: toggling to jac False; due to increase or convergence in LSE at iteration 16.\n"
     ]
    },
    {
     "name": "stderr",
     "output_type": "stream",
     "text": [
      " 10%|█         | 2/20 [00:00<00:04,  3.64it/s]]"
     ]
    },
    {
     "name": "stdout",
     "output_type": "stream",
     "text": [
      "warning: toggling to jac False; due to increase or convergence in LSE at iteration 8.\n"
     ]
    },
    {
     "name": "stderr",
     "output_type": "stream",
     "text": [
      " 80%|████████  | 16/20 [00:14<00:03,  1.17it/s]"
     ]
    },
    {
     "name": "stdout",
     "output_type": "stream",
     "text": [
      "warning: toggling to jac False; due to increase or convergence in LSE at iteration 2.\n"
     ]
    },
    {
     "name": "stderr",
     "output_type": "stream",
     "text": [
      "100%|██████████| 20/20 [00:17<00:00,  1.12it/s]\n",
      " 70%|███████   | 14/20 [00:13<00:06,  1.02s/it]"
     ]
    },
    {
     "name": "stdout",
     "output_type": "stream",
     "text": [
      "warning: toggling to jac False; due to increase or convergence in LSE at iteration 17.\n"
     ]
    },
    {
     "name": "stderr",
     "output_type": "stream",
     "text": [
      "100%|██████████| 20/20 [00:19<00:00,  1.04it/s]\n",
      "  5%|▌         | 1/20 [00:00<00:05,  3.52it/s]]"
     ]
    },
    {
     "name": "stdout",
     "output_type": "stream",
     "text": [
      "warning: toggling to jac False; due to increase or convergence in LSE at iteration 16.\n",
      "warning: toggling to jac False; due to increase or convergence in LSE at iteration 2.\n"
     ]
    },
    {
     "name": "stderr",
     "output_type": "stream",
     "text": [
      " 95%|█████████▌| 19/20 [00:18<00:00,  1.10it/s]"
     ]
    },
    {
     "name": "stdout",
     "output_type": "stream",
     "text": [
      "warning: toggling to jac False; due to increase or convergence in LSE at iteration 2.\n"
     ]
    },
    {
     "name": "stderr",
     "output_type": "stream",
     "text": [
      "100%|██████████| 20/20 [00:17<00:00,  1.13it/s]\n",
      "100%|██████████| 20/20 [00:19<00:00,  1.01it/s]\n",
      "  5%|▌         | 1/20 [00:00<00:05,  3.22it/s]]"
     ]
    },
    {
     "name": "stdout",
     "output_type": "stream",
     "text": [
      "warning: toggling to jac False; due to increase or convergence in LSE at iteration 2.\n"
     ]
    },
    {
     "name": "stderr",
     "output_type": "stream",
     "text": [
      " 30%|███       | 6/20 [00:06<00:15,  1.13s/it]]"
     ]
    },
    {
     "name": "stdout",
     "output_type": "stream",
     "text": [
      "warning: toggling to jac False; due to increase or convergence in LSE at iteration 2.\n"
     ]
    },
    {
     "name": "stderr",
     "output_type": "stream",
     "text": [
      " 20%|██        | 4/20 [00:04<00:21,  1.34s/it]]"
     ]
    },
    {
     "name": "stdout",
     "output_type": "stream",
     "text": [
      "warning: toggling to jac False; due to increase or convergence in LSE at iteration 13.\n"
     ]
    },
    {
     "name": "stderr",
     "output_type": "stream",
     "text": [
      "100%|██████████| 20/20 [00:18<00:00,  1.06it/s]\n",
      " 25%|██▌       | 5/20 [00:05<00:18,  1.21s/it]"
     ]
    },
    {
     "name": "stdout",
     "output_type": "stream",
     "text": [
      "warning: toggling to jac False; due to increase or convergence in LSE at iteration 2.\n"
     ]
    },
    {
     "name": "stderr",
     "output_type": "stream",
     "text": [
      " 25%|██▌       | 5/20 [00:05<00:17,  1.17s/it]]"
     ]
    },
    {
     "name": "stdout",
     "output_type": "stream",
     "text": [
      "warning: toggling to jac False; due to increase or convergence in LSE at iteration 13.\n"
     ]
    },
    {
     "name": "stderr",
     "output_type": "stream",
     "text": [
      " 65%|██████▌   | 13/20 [01:43<00:55,  7.98s/it]\n",
      "  0%|          | 0/20 [00:00<?, ?it/s]"
     ]
    },
    {
     "name": "stdout",
     "output_type": "stream",
     "text": [
      "L-BFGS and Nelder-Mead both failed to improve LSE, exiting early due to convergence\n"
     ]
    },
    {
     "name": "stderr",
     "output_type": "stream",
     "text": [
      " 35%|███▌      | 7/20 [00:07<00:14,  1.10s/it]]"
     ]
    },
    {
     "name": "stdout",
     "output_type": "stream",
     "text": [
      "warning: toggling to jac False; due to increase or convergence in LSE at iteration 2.\n"
     ]
    },
    {
     "name": "stderr",
     "output_type": "stream",
     "text": [
      " 75%|███████▌  | 15/20 [00:14<00:03,  1.28it/s]"
     ]
    },
    {
     "name": "stdout",
     "output_type": "stream",
     "text": [
      "warning: toggling to jac False; due to increase or convergence in LSE at iteration 18.\n"
     ]
    },
    {
     "name": "stderr",
     "output_type": "stream",
     "text": [
      " 80%|████████  | 16/20 [00:14<00:03,  1.23it/s]"
     ]
    },
    {
     "name": "stdout",
     "output_type": "stream",
     "text": [
      "warning: toggling to jac False; due to increase or convergence in LSE at iteration 17.\n"
     ]
    },
    {
     "name": "stderr",
     "output_type": "stream",
     "text": [
      " 60%|██████    | 12/20 [00:11<00:06,  1.15it/s]"
     ]
    },
    {
     "name": "stdout",
     "output_type": "stream",
     "text": [
      "warning: toggling to jac False; due to increase or convergence in LSE at iteration 19.\n"
     ]
    },
    {
     "name": "stderr",
     "output_type": "stream",
     "text": [
      "100%|██████████| 20/20 [00:18<00:00,  1.09it/s]\n",
      "  5%|▌         | 1/20 [00:00<00:05,  3.36it/s]]"
     ]
    },
    {
     "name": "stdout",
     "output_type": "stream",
     "text": [
      "warning: toggling to jac False; due to increase or convergence in LSE at iteration 8.\n"
     ]
    },
    {
     "name": "stderr",
     "output_type": "stream",
     "text": [
      " 65%|██████▌   | 13/20 [00:13<00:06,  1.16it/s]"
     ]
    },
    {
     "name": "stdout",
     "output_type": "stream",
     "text": [
      "warning: toggling to jac False; due to increase or convergence in LSE at iteration 2.\n"
     ]
    },
    {
     "name": "stderr",
     "output_type": "stream",
     "text": [
      " 70%|███████   | 14/20 [01:02<00:34,  5.72s/it]"
     ]
    },
    {
     "name": "stdout",
     "output_type": "stream",
     "text": [
      "warning: toggling to jac False; due to increase or convergence in LSE at iteration 18.\n"
     ]
    },
    {
     "name": "stderr",
     "output_type": "stream",
     "text": [
      "100%|██████████| 20/20 [00:19<00:00,  1.05it/s]\n",
      " 10%|█         | 2/20 [00:00<00:04,  4.14it/s]]"
     ]
    },
    {
     "name": "stdout",
     "output_type": "stream",
     "text": [
      "warning: toggling to jac False; due to increase or convergence in LSE at iteration 18.\n",
      "warning: toggling to jac False; due to increase or convergence in LSE at iteration 2.\n"
     ]
    },
    {
     "name": "stderr",
     "output_type": "stream",
     "text": [
      "100%|██████████| 20/20 [00:19<00:00,  1.04it/s]\n",
      " 80%|████████  | 16/20 [00:14<00:03,  1.07it/s]"
     ]
    },
    {
     "name": "stdout",
     "output_type": "stream",
     "text": [
      "warning: toggling to jac False; due to increase or convergence in LSE at iteration 15.\n"
     ]
    },
    {
     "name": "stderr",
     "output_type": "stream",
     "text": [
      "100%|██████████| 20/20 [00:18<00:00,  1.06it/s]\n",
      "100%|██████████| 20/20 [00:18<00:00,  1.08it/s]\n",
      " 65%|██████▌   | 13/20 [00:13<00:06,  1.15it/s]"
     ]
    },
    {
     "name": "stdout",
     "output_type": "stream",
     "text": [
      "warning: toggling to jac False; due to increase or convergence in LSE at iteration 2.\n"
     ]
    },
    {
     "name": "stderr",
     "output_type": "stream",
     "text": [
      " 40%|████      | 8/20 [00:07<00:09,  1.24it/s]]"
     ]
    },
    {
     "name": "stdout",
     "output_type": "stream",
     "text": [
      "warning: toggling to jac False; due to increase or convergence in LSE at iteration 2.\n",
      "warning: toggling to jac False; due to increase or convergence in LSE at iteration 18.\n",
      "warning: toggling to jac False; due to increase or convergence in LSE at iteration 2.\n"
     ]
    },
    {
     "name": "stderr",
     "output_type": "stream",
     "text": [
      "100%|██████████| 20/20 [00:18<00:00,  1.08it/s]\n",
      " 15%|█▌        | 3/20 [00:03<00:27,  1.61s/it]]"
     ]
    },
    {
     "name": "stdout",
     "output_type": "stream",
     "text": [
      "warning: toggling to jac False; due to increase or convergence in LSE at iteration 12.\n"
     ]
    },
    {
     "name": "stderr",
     "output_type": "stream",
     "text": [
      " 85%|████████▌ | 17/20 [00:16<00:02,  1.17it/s]"
     ]
    },
    {
     "name": "stdout",
     "output_type": "stream",
     "text": [
      "warning: toggling to jac False; due to increase or convergence in LSE at iteration 2.\n"
     ]
    },
    {
     "name": "stderr",
     "output_type": "stream",
     "text": [
      " 90%|█████████ | 18/20 [00:18<00:01,  1.09it/s]"
     ]
    },
    {
     "name": "stdout",
     "output_type": "stream",
     "text": [
      "L-BFGS and Nelder-Mead both failed to improve LSE, exiting early due to convergence\n"
     ]
    },
    {
     "name": "stderr",
     "output_type": "stream",
     "text": [
      " 60%|██████    | 12/20 [00:51<00:34,  4.29s/it]\n",
      " 10%|█         | 2/20 [00:00<00:05,  3.38it/s]]"
     ]
    },
    {
     "name": "stdout",
     "output_type": "stream",
     "text": [
      "warning: toggling to jac False; due to increase or convergence in LSE at iteration 12.\n",
      "warning: toggling to jac False; due to increase or convergence in LSE at iteration 19.\n"
     ]
    },
    {
     "name": "stderr",
     "output_type": "stream",
     "text": [
      " 30%|███       | 6/20 [00:05<00:13,  1.05it/s]]"
     ]
    },
    {
     "name": "stdout",
     "output_type": "stream",
     "text": [
      "warning: toggling to jac False; due to increase or convergence in LSE at iteration 2.\n",
      "warning: toggling to jac False; due to increase or convergence in LSE at iteration 19.\n",
      "warning: toggling to jac False; due to increase or convergence in LSE at iteration 13.\n"
     ]
    },
    {
     "name": "stderr",
     "output_type": "stream",
     "text": [
      "100%|██████████| 20/20 [00:19<00:00,  1.01it/s]\n",
      " 95%|█████████▌| 19/20 [01:04<00:03,  3.41s/it]\n",
      " 95%|█████████▌| 19/20 [00:53<00:02,  2.82s/it]\n",
      "  0%|          | 0/20 [00:00<?, ?it/s]"
     ]
    },
    {
     "name": "stdout",
     "output_type": "stream",
     "text": [
      "L-BFGS and Nelder-Mead both failed to improve LSE, exiting early due to convergence\n",
      "L-BFGS and Nelder-Mead both failed to improve LSE, exiting early due to convergence\n"
     ]
    },
    {
     "name": "stderr",
     "output_type": "stream",
     "text": [
      " 10%|█         | 2/20 [00:00<00:05,  3.39it/s]]"
     ]
    },
    {
     "name": "stdout",
     "output_type": "stream",
     "text": [
      "warning: toggling to jac False; due to increase or convergence in LSE at iteration 2.\n",
      "warning: toggling to jac False; due to increase or convergence in LSE at iteration 2.\n",
      "warning: toggling to jac False; due to increase or convergence in LSE at iteration 2.\n"
     ]
    },
    {
     "name": "stderr",
     "output_type": "stream",
     "text": [
      "100%|██████████| 20/20 [00:16<00:00,  1.19it/s]\n",
      "  5%|▌         | 1/20 [00:00<00:05,  3.43it/s]]"
     ]
    },
    {
     "name": "stdout",
     "output_type": "stream",
     "text": [
      "L-BFGS and Nelder-Mead both failed to improve LSE, exiting early due to convergence\n"
     ]
    },
    {
     "name": "stderr",
     "output_type": "stream",
     "text": [
      " 75%|███████▌  | 15/20 [01:16<00:25,  5.09s/it]\n",
      " 65%|██████▌   | 13/20 [00:11<00:05,  1.27it/s]"
     ]
    },
    {
     "name": "stdout",
     "output_type": "stream",
     "text": [
      "warning: toggling to jac False; due to increase or convergence in LSE at iteration 2.\n",
      "warning: toggling to jac False; due to increase or convergence in LSE at iteration 13.\n"
     ]
    },
    {
     "name": "stderr",
     "output_type": "stream",
     "text": [
      " 25%|██▌       | 5/20 [00:04<00:14,  1.00it/s]]"
     ]
    },
    {
     "name": "stdout",
     "output_type": "stream",
     "text": [
      "warning: toggling to jac False; due to increase or convergence in LSE at iteration 2.\n"
     ]
    },
    {
     "name": "stderr",
     "output_type": "stream",
     "text": [
      " 75%|███████▌  | 15/20 [00:15<00:04,  1.15it/s]"
     ]
    },
    {
     "name": "stdout",
     "output_type": "stream",
     "text": [
      "L-BFGS and Nelder-Mead both failed to improve LSE, exiting early due to convergence\n"
     ]
    },
    {
     "name": "stderr",
     "output_type": "stream",
     "text": [
      " 65%|██████▌   | 13/20 [01:15<00:40,  5.83s/it]\n",
      " 90%|█████████ | 18/20 [00:17<00:01,  1.05it/s]"
     ]
    },
    {
     "name": "stdout",
     "output_type": "stream",
     "text": [
      "warning: toggling to jac False; due to increase or convergence in LSE at iteration 2.\n"
     ]
    },
    {
     "name": "stderr",
     "output_type": "stream",
     "text": [
      "100%|██████████| 20/20 [00:16<00:00,  1.20it/s]\n",
      "100%|██████████| 20/20 [00:18<00:00,  1.07it/s]\n",
      "  5%|▌         | 1/20 [00:00<00:04,  4.50it/s]]"
     ]
    },
    {
     "name": "stdout",
     "output_type": "stream",
     "text": [
      "warning: toggling to jac False; due to increase or convergence in LSE at iteration 2.\n"
     ]
    },
    {
     "name": "stderr",
     "output_type": "stream",
     "text": [
      " 95%|█████████▌| 19/20 [00:18<00:00,  1.14it/s]"
     ]
    },
    {
     "name": "stdout",
     "output_type": "stream",
     "text": [
      "warning: toggling to jac False; due to increase or convergence in LSE at iteration 2.\n"
     ]
    },
    {
     "name": "stderr",
     "output_type": "stream",
     "text": [
      " 20%|██        | 4/20 [00:04<00:20,  1.27s/it]]"
     ]
    },
    {
     "name": "stdout",
     "output_type": "stream",
     "text": [
      "warning: toggling to jac False; due to increase or convergence in LSE at iteration 19.\n"
     ]
    },
    {
     "name": "stderr",
     "output_type": "stream",
     "text": [
      "100%|██████████| 20/20 [00:19<00:00,  1.03it/s]\n",
      "100%|██████████| 20/20 [00:20<00:00,  1.01s/it]\n",
      " 15%|█▌        | 3/20 [00:03<00:27,  1.61s/it]]"
     ]
    },
    {
     "name": "stdout",
     "output_type": "stream",
     "text": [
      "warning: toggling to jac False; due to increase or convergence in LSE at iteration 2.\n",
      "warning: toggling to jac False; due to increase or convergence in LSE at iteration 2.\n"
     ]
    },
    {
     "name": "stderr",
     "output_type": "stream",
     "text": [
      "100%|██████████| 20/20 [00:17<00:00,  1.16it/s]\n",
      " 95%|█████████▌| 19/20 [02:06<00:06,  6.65s/it]\n",
      "  0%|          | 0/20 [00:00<?, ?it/s]"
     ]
    },
    {
     "name": "stdout",
     "output_type": "stream",
     "text": [
      "L-BFGS and Nelder-Mead both failed to improve LSE, exiting early due to convergence\n"
     ]
    },
    {
     "name": "stderr",
     "output_type": "stream",
     "text": [
      " 30%|███       | 6/20 [00:06<00:16,  1.15s/it]]"
     ]
    },
    {
     "name": "stdout",
     "output_type": "stream",
     "text": [
      "warning: toggling to jac False; due to increase or convergence in LSE at iteration 2.\n"
     ]
    },
    {
     "name": "stderr",
     "output_type": "stream",
     "text": [
      "100%|██████████| 20/20 [00:20<00:00,  1.03s/it]\n",
      "  0%|          | 0/20 [00:00<?, ?it/s].10it/s]"
     ]
    },
    {
     "name": "stdout",
     "output_type": "stream",
     "text": [
      "warning: toggling to jac False; due to increase or convergence in LSE at iteration 2.\n"
     ]
    },
    {
     "name": "stderr",
     "output_type": "stream",
     "text": [
      " 50%|█████     | 10/20 [00:09<00:08,  1.13it/s]"
     ]
    },
    {
     "name": "stdout",
     "output_type": "stream",
     "text": [
      "warning: toggling to jac False; due to increase or convergence in LSE at iteration 2.\n"
     ]
    },
    {
     "name": "stderr",
     "output_type": "stream",
     "text": [
      "100%|██████████| 20/20 [00:17<00:00,  1.11it/s]\n",
      " 10%|█         | 2/20 [00:00<00:04,  3.63it/s]]"
     ]
    },
    {
     "name": "stdout",
     "output_type": "stream",
     "text": [
      "warning: toggling to jac False; due to increase or convergence in LSE at iteration 2.\n"
     ]
    },
    {
     "name": "stderr",
     "output_type": "stream",
     "text": [
      "100%|██████████| 20/20 [00:19<00:00,  1.04it/s]\n",
      "100%|██████████| 20/20 [00:19<00:00,  1.01it/s]\n",
      "  5%|▌         | 1/20 [00:00<00:04,  3.80it/s]]"
     ]
    },
    {
     "name": "stdout",
     "output_type": "stream",
     "text": [
      "warning: toggling to jac False; due to increase or convergence in LSE at iteration 2.\n"
     ]
    },
    {
     "name": "stderr",
     "output_type": "stream",
     "text": [
      " 20%|██        | 4/20 [00:05<00:23,  1.50s/it]]"
     ]
    },
    {
     "name": "stdout",
     "output_type": "stream",
     "text": [
      "warning: toggling to jac False; due to increase or convergence in LSE at iteration 2.\n"
     ]
    },
    {
     "name": "stderr",
     "output_type": "stream",
     "text": [
      "100%|██████████| 20/20 [00:18<00:00,  1.08it/s]\n",
      " 70%|███████   | 14/20 [00:12<00:04,  1.28it/s]"
     ]
    },
    {
     "name": "stdout",
     "output_type": "stream",
     "text": [
      "warning: toggling to jac False; due to increase or convergence in LSE at iteration 2.\n"
     ]
    },
    {
     "name": "stderr",
     "output_type": "stream",
     "text": [
      "100%|██████████| 20/20 [02:04<00:00,  6.23s/it]\n",
      "100%|██████████| 20/20 [00:19<00:00,  1.02it/s]\n",
      " 25%|██▌       | 5/20 [00:06<00:22,  1.47s/it]]"
     ]
    },
    {
     "name": "stdout",
     "output_type": "stream",
     "text": [
      "warning: toggling to jac False; due to increase or convergence in LSE at iteration 2.\n",
      "warning: toggling to jac False; due to increase or convergence in LSE at iteration 2.\n"
     ]
    },
    {
     "name": "stderr",
     "output_type": "stream",
     "text": [
      "100%|██████████| 20/20 [00:18<00:00,  1.11it/s]\n",
      " 35%|███▌      | 7/20 [00:07<00:12,  1.01it/s]]"
     ]
    },
    {
     "name": "stdout",
     "output_type": "stream",
     "text": [
      "warning: toggling to jac False; due to increase or convergence in LSE at iteration 2.\n"
     ]
    },
    {
     "name": "stderr",
     "output_type": "stream",
     "text": [
      "100%|██████████| 20/20 [00:17<00:00,  1.12it/s]\n",
      " 45%|████▌     | 9/20 [00:09<00:11,  1.06s/it]]"
     ]
    },
    {
     "name": "stdout",
     "output_type": "stream",
     "text": [
      "warning: toggling to jac False; due to increase or convergence in LSE at iteration 2.\n"
     ]
    },
    {
     "name": "stderr",
     "output_type": "stream",
     "text": [
      "100%|██████████| 20/20 [00:18<00:00,  1.06it/s]\n",
      " 70%|███████   | 14/20 [00:13<00:05,  1.00it/s]"
     ]
    },
    {
     "name": "stdout",
     "output_type": "stream",
     "text": [
      "warning: toggling to jac False; due to increase or convergence in LSE at iteration 2.\n"
     ]
    },
    {
     "name": "stderr",
     "output_type": "stream",
     "text": [
      "100%|██████████| 20/20 [00:18<00:00,  1.10it/s]\n",
      " 95%|█████████▌| 19/20 [00:19<00:00,  1.08it/s]"
     ]
    },
    {
     "name": "stdout",
     "output_type": "stream",
     "text": [
      "warning: toggling to jac False; due to increase or convergence in LSE at iteration 2.\n"
     ]
    },
    {
     "name": "stderr",
     "output_type": "stream",
     "text": [
      "100%|██████████| 20/20 [00:20<00:00,  1.00s/it]\n",
      " 75%|███████▌  | 15/20 [00:14<00:04,  1.14it/s]"
     ]
    },
    {
     "name": "stdout",
     "output_type": "stream",
     "text": [
      "warning: toggling to jac False; due to increase or convergence in LSE at iteration 15.\n",
      "warning: toggling to jac False; due to increase or convergence in LSE at iteration 2.\n"
     ]
    },
    {
     "name": "stderr",
     "output_type": "stream",
     "text": [
      "100%|██████████| 20/20 [00:18<00:00,  1.08it/s]\n",
      "100%|██████████| 20/20 [00:18<00:00,  1.05it/s]\n",
      " 80%|████████  | 16/20 [01:31<00:25,  6.46s/it]"
     ]
    },
    {
     "name": "stdout",
     "output_type": "stream",
     "text": [
      "warning: toggling to jac False; due to increase or convergence in LSE at iteration 2.\n"
     ]
    },
    {
     "name": "stderr",
     "output_type": "stream",
     "text": [
      "100%|██████████| 20/20 [00:18<00:00,  1.10it/s]\n",
      " 65%|██████▌   | 13/20 [00:12<00:06,  1.13it/s]"
     ]
    },
    {
     "name": "stdout",
     "output_type": "stream",
     "text": [
      "warning: toggling to jac False; due to increase or convergence in LSE at iteration 2.\n",
      "warning: toggling to jac False; due to increase or convergence in LSE at iteration 16.\n"
     ]
    },
    {
     "name": "stderr",
     "output_type": "stream",
     "text": [
      " 45%|████▌     | 9/20 [00:14<00:11,  1.09s/it]]"
     ]
    },
    {
     "name": "stdout",
     "output_type": "stream",
     "text": [
      "warning: toggling to jac False; due to increase or convergence in LSE at iteration 2.\n"
     ]
    },
    {
     "name": "stderr",
     "output_type": "stream",
     "text": [
      " 80%|████████  | 16/20 [01:33<00:23,  5.84s/it]\n",
      " 20%|██        | 4/20 [00:11<00:49,  3.12s/it]]"
     ]
    },
    {
     "name": "stdout",
     "output_type": "stream",
     "text": [
      "L-BFGS and Nelder-Mead both failed to improve LSE, exiting early due to convergence\n"
     ]
    },
    {
     "name": "stderr",
     "output_type": "stream",
     "text": [
      " 15%|█▌        | 3/20 [00:02<00:19,  1.13s/it]]"
     ]
    },
    {
     "name": "stdout",
     "output_type": "stream",
     "text": [
      "warning: toggling to jac False; due to increase or convergence in LSE at iteration 2.\n"
     ]
    },
    {
     "name": "stderr",
     "output_type": "stream",
     "text": [
      "100%|██████████| 20/20 [00:19<00:00,  1.05it/s]\n",
      "100%|██████████| 20/20 [00:20<00:00,  1.03s/it]\n",
      "100%|██████████| 20/20 [00:18<00:00,  1.07it/s]\n",
      " 30%|███       | 6/20 [00:13<00:26,  1.88s/it]]"
     ]
    },
    {
     "name": "stdout",
     "output_type": "stream",
     "text": [
      "warning: toggling to jac False; due to increase or convergence in LSE at iteration 2.\n"
     ]
    },
    {
     "name": "stderr",
     "output_type": "stream",
     "text": [
      " 25%|██▌       | 5/20 [00:04<00:14,  1.03it/s]]"
     ]
    },
    {
     "name": "stdout",
     "output_type": "stream",
     "text": [
      "warning: toggling to jac False; due to increase or convergence in LSE at iteration 2.\n",
      "warning: toggling to jac False; due to increase or convergence in LSE at iteration 2.\n"
     ]
    },
    {
     "name": "stderr",
     "output_type": "stream",
     "text": [
      "100%|██████████| 20/20 [00:19<00:00,  1.00it/s]\n",
      " 50%|█████     | 10/20 [00:09<00:09,  1.03it/s]"
     ]
    },
    {
     "name": "stdout",
     "output_type": "stream",
     "text": [
      "warning: toggling to jac False; due to increase or convergence in LSE at iteration 2.\n"
     ]
    },
    {
     "name": "stderr",
     "output_type": "stream",
     "text": [
      "100%|██████████| 20/20 [00:17<00:00,  1.11it/s]\n",
      "100%|██████████| 20/20 [00:24<00:00,  1.20s/it]\n",
      "100%|██████████| 20/20 [00:22<00:00,  1.13s/it]\n",
      " 75%|███████▌  | 15/20 [00:20<00:04,  1.08it/s]"
     ]
    },
    {
     "name": "stdout",
     "output_type": "stream",
     "text": [
      "warning: toggling to jac False; due to increase or convergence in LSE at iteration 2.\n",
      "warning: toggling to jac False; due to increase or convergence in LSE at iteration 2.\n"
     ]
    },
    {
     "name": "stderr",
     "output_type": "stream",
     "text": [
      " 65%|██████▌   | 13/20 [00:12<00:06,  1.03it/s]"
     ]
    },
    {
     "name": "stdout",
     "output_type": "stream",
     "text": [
      "warning: toggling to jac False; due to increase or convergence in LSE at iteration 2.\n"
     ]
    },
    {
     "name": "stderr",
     "output_type": "stream",
     "text": [
      "100%|██████████| 20/20 [00:18<00:00,  1.09it/s]\n",
      " 95%|█████████▌| 19/20 [00:24<00:00,  1.12it/s]"
     ]
    },
    {
     "name": "stdout",
     "output_type": "stream",
     "text": [
      "warning: toggling to jac False; due to increase or convergence in LSE at iteration 2.\n"
     ]
    },
    {
     "name": "stderr",
     "output_type": "stream",
     "text": [
      "100%|██████████| 20/20 [00:25<00:00,  1.27s/it]\n",
      "100%|██████████| 20/20 [00:18<00:00,  1.07it/s]\n",
      " 85%|████████▌ | 17/20 [00:15<00:02,  1.16it/s]"
     ]
    },
    {
     "name": "stdout",
     "output_type": "stream",
     "text": [
      "warning: toggling to jac False; due to increase or convergence in LSE at iteration 2.\n",
      "warning: toggling to jac False; due to increase or convergence in LSE at iteration 2.\n"
     ]
    },
    {
     "name": "stderr",
     "output_type": "stream",
     "text": [
      "100%|██████████| 20/20 [00:22<00:00,  1.15s/it]\n",
      " 10%|█         | 2/20 [00:00<00:05,  3.43it/s]]"
     ]
    },
    {
     "name": "stdout",
     "output_type": "stream",
     "text": [
      "warning: toggling to jac False; due to increase or convergence in LSE at iteration 2.\n"
     ]
    },
    {
     "name": "stderr",
     "output_type": "stream",
     "text": [
      "100%|██████████| 20/20 [00:18<00:00,  1.09it/s]\n",
      " 10%|█         | 2/20 [00:00<00:05,  3.59it/s]]"
     ]
    },
    {
     "name": "stdout",
     "output_type": "stream",
     "text": [
      "warning: toggling to jac False; due to increase or convergence in LSE at iteration 2.\n"
     ]
    },
    {
     "name": "stderr",
     "output_type": "stream",
     "text": [
      "100%|██████████| 20/20 [00:18<00:00,  1.07it/s]\n",
      " 10%|█         | 2/20 [00:00<00:04,  4.32it/s]]"
     ]
    },
    {
     "name": "stdout",
     "output_type": "stream",
     "text": [
      "warning: toggling to jac False; due to increase or convergence in LSE at iteration 2.\n"
     ]
    },
    {
     "name": "stderr",
     "output_type": "stream",
     "text": [
      "100%|██████████| 20/20 [00:22<00:00,  1.13s/it]\n",
      " 15%|█▌        | 3/20 [00:06<00:51,  3.03s/it]]"
     ]
    },
    {
     "name": "stdout",
     "output_type": "stream",
     "text": [
      "warning: toggling to jac False; due to increase or convergence in LSE at iteration 2.\n"
     ]
    },
    {
     "name": "stderr",
     "output_type": "stream",
     "text": [
      "100%|██████████| 20/20 [00:22<00:00,  1.11s/it]\n",
      "100%|██████████| 20/20 [00:26<00:00,  1.33s/it]\n",
      " 10%|█         | 2/20 [00:00<00:04,  3.73it/s]]"
     ]
    },
    {
     "name": "stdout",
     "output_type": "stream",
     "text": [
      "warning: toggling to jac False; due to increase or convergence in LSE at iteration 2.\n",
      "warning: toggling to jac False; due to increase or convergence in LSE at iteration 2.\n"
     ]
    },
    {
     "name": "stderr",
     "output_type": "stream",
     "text": [
      "100%|██████████| 20/20 [00:27<00:00,  1.35s/it]\n",
      " 20%|██        | 4/20 [00:20<01:33,  5.83s/it]]"
     ]
    },
    {
     "name": "stdout",
     "output_type": "stream",
     "text": [
      "warning: toggling to jac False; due to increase or convergence in LSE at iteration 2.\n"
     ]
    },
    {
     "name": "stderr",
     "output_type": "stream",
     "text": [
      "100%|██████████| 20/20 [00:26<00:00,  1.32s/it]\n",
      "100%|██████████| 20/20 [00:26<00:00,  1.33s/it]\n",
      " 60%|██████    | 12/20 [00:27<00:09,  1.13s/it]"
     ]
    },
    {
     "name": "stdout",
     "output_type": "stream",
     "text": [
      "warning: toggling to jac False; due to increase or convergence in LSE at iteration 2.\n"
     ]
    },
    {
     "name": "stderr",
     "output_type": "stream",
     "text": [
      " 95%|█████████▌| 19/20 [00:22<00:01,  1.02s/it]"
     ]
    },
    {
     "name": "stdout",
     "output_type": "stream",
     "text": [
      "warning: toggling to jac False; due to increase or convergence in LSE at iteration 2.\n"
     ]
    },
    {
     "name": "stderr",
     "output_type": "stream",
     "text": [
      "100%|██████████| 20/20 [00:24<00:00,  1.23s/it]\n",
      "100%|██████████| 20/20 [00:22<00:00,  1.15s/it]\n",
      " 75%|███████▌  | 15/20 [00:17<00:04,  1.06it/s]"
     ]
    },
    {
     "name": "stdout",
     "output_type": "stream",
     "text": [
      "warning: toggling to jac False; due to increase or convergence in LSE at iteration 2.\n"
     ]
    },
    {
     "name": "stderr",
     "output_type": "stream",
     "text": [
      " 75%|███████▌  | 15/20 [00:19<00:04,  1.12it/s]"
     ]
    },
    {
     "name": "stdout",
     "output_type": "stream",
     "text": [
      "warning: toggling to jac False; due to increase or convergence in LSE at iteration 2.\n"
     ]
    },
    {
     "name": "stderr",
     "output_type": "stream",
     "text": [
      "100%|██████████| 20/20 [00:23<00:00,  1.18s/it]\n",
      "100%|██████████| 20/20 [00:23<00:00,  1.19s/it]\n",
      "  0%|          | 0/20 [00:00<?, ?it/s]"
     ]
    },
    {
     "name": "stdout",
     "output_type": "stream",
     "text": [
      "warning: toggling to jac False; due to increase or convergence in LSE at iteration 2.\n"
     ]
    },
    {
     "name": "stderr",
     "output_type": "stream",
     "text": [
      " 10%|█         | 2/20 [00:00<00:05,  3.08it/s]]"
     ]
    },
    {
     "name": "stdout",
     "output_type": "stream",
     "text": [
      "warning: toggling to jac False; due to increase or convergence in LSE at iteration 2.\n"
     ]
    },
    {
     "name": "stderr",
     "output_type": "stream",
     "text": [
      "100%|██████████| 20/20 [00:38<00:00,  1.94s/it]\n",
      "100%|██████████| 20/20 [00:24<00:00,  1.22s/it]\n",
      " 85%|████████▌ | 17/20 [00:32<00:02,  1.04it/s]"
     ]
    },
    {
     "name": "stdout",
     "output_type": "stream",
     "text": [
      "warning: toggling to jac False; due to increase or convergence in LSE at iteration 2.\n"
     ]
    },
    {
     "name": "stderr",
     "output_type": "stream",
     "text": [
      " 70%|███████   | 14/20 [00:18<00:06,  1.02s/it]"
     ]
    },
    {
     "name": "stdout",
     "output_type": "stream",
     "text": [
      "warning: toggling to jac False; due to increase or convergence in LSE at iteration 2.\n"
     ]
    },
    {
     "name": "stderr",
     "output_type": "stream",
     "text": [
      "100%|██████████| 20/20 [00:23<00:00,  1.18s/it]\n",
      "100%|██████████| 20/20 [00:36<00:00,  1.83s/it]\n",
      " 15%|█▌        | 3/20 [00:14<01:49,  6.46s/it]]"
     ]
    },
    {
     "name": "stdout",
     "output_type": "stream",
     "text": [
      "warning: toggling to jac False; due to increase or convergence in LSE at iteration 2.\n"
     ]
    },
    {
     "name": "stderr",
     "output_type": "stream",
     "text": [
      "100%|██████████| 20/20 [00:23<00:00,  1.16s/it]\n",
      "100%|██████████| 20/20 [00:34<00:00,  1.75s/it]\n",
      "  5%|▌         | 1/20 [00:00<00:05,  3.30it/s]"
     ]
    },
    {
     "name": "stdout",
     "output_type": "stream",
     "text": [
      "warning: toggling to jac False; due to increase or convergence in LSE at iteration 2.\n"
     ]
    },
    {
     "name": "stderr",
     "output_type": "stream",
     "text": [
      " 25%|██▌       | 5/20 [00:15<00:44,  2.97s/it]]"
     ]
    },
    {
     "name": "stdout",
     "output_type": "stream",
     "text": [
      "warning: toggling to jac False; due to increase or convergence in LSE at iteration 2.\n",
      "warning: toggling to jac False; due to increase or convergence in LSE at iteration 2.\n"
     ]
    },
    {
     "name": "stderr",
     "output_type": "stream",
     "text": [
      "100%|██████████| 20/20 [00:21<00:00,  1.08s/it]\n",
      " 10%|█         | 2/20 [00:00<00:05,  3.20it/s]]"
     ]
    },
    {
     "name": "stdout",
     "output_type": "stream",
     "text": [
      "warning: toggling to jac False; due to increase or convergence in LSE at iteration 2.\n"
     ]
    },
    {
     "name": "stderr",
     "output_type": "stream",
     "text": [
      "100%|██████████| 20/20 [00:23<00:00,  1.20s/it]\n",
      " 45%|████▌     | 9/20 [00:19<00:14,  1.35s/it]"
     ]
    },
    {
     "name": "stdout",
     "output_type": "stream",
     "text": [
      "warning: toggling to jac False; due to increase or convergence in LSE at iteration 2.\n"
     ]
    },
    {
     "name": "stderr",
     "output_type": "stream",
     "text": [
      "100%|██████████| 20/20 [00:30<00:00,  1.53s/it]\n",
      " 55%|█████▌    | 11/20 [00:20<00:09,  1.07s/it]"
     ]
    },
    {
     "name": "stdout",
     "output_type": "stream",
     "text": [
      "warning: toggling to jac False; due to increase or convergence in LSE at iteration 2.\n"
     ]
    },
    {
     "name": "stderr",
     "output_type": "stream",
     "text": [
      "100%|██████████| 20/20 [00:26<00:00,  1.34s/it]\n",
      "100%|██████████| 20/20 [00:26<00:00,  1.34s/it]\n",
      "100%|██████████| 20/20 [00:21<00:00,  1.09s/it]\n",
      " 95%|█████████▌| 19/20 [00:26<00:00,  1.06it/s]"
     ]
    },
    {
     "name": "stdout",
     "output_type": "stream",
     "text": [
      "warning: toggling to jac False; due to increase or convergence in LSE at iteration 2.\n",
      "warning: toggling to jac False; due to increase or convergence in LSE at iteration 2.\n",
      "warning: toggling to jac False; due to increase or convergence in LSE at iteration 2.\n"
     ]
    },
    {
     "name": "stderr",
     "output_type": "stream",
     "text": [
      "100%|██████████| 20/20 [00:26<00:00,  1.34s/it]\n",
      " 55%|█████▌    | 11/20 [00:22<00:11,  1.28s/it]"
     ]
    },
    {
     "name": "stdout",
     "output_type": "stream",
     "text": [
      "warning: toggling to jac False; due to increase or convergence in LSE at iteration 2.\n"
     ]
    },
    {
     "name": "stderr",
     "output_type": "stream",
     "text": [
      "100%|██████████| 20/20 [00:28<00:00,  1.43s/it]\n",
      "100%|██████████| 20/20 [00:27<00:00,  1.37s/it]\n",
      " 80%|████████  | 16/20 [00:23<00:04,  1.11s/it]"
     ]
    },
    {
     "name": "stdout",
     "output_type": "stream",
     "text": [
      "warning: toggling to jac False; due to increase or convergence in LSE at iteration 2.\n"
     ]
    },
    {
     "name": "stderr",
     "output_type": "stream",
     "text": [
      " 80%|████████  | 16/20 [00:19<00:03,  1.06it/s]"
     ]
    },
    {
     "name": "stdout",
     "output_type": "stream",
     "text": [
      "warning: toggling to jac False; due to increase or convergence in LSE at iteration 2.\n"
     ]
    },
    {
     "name": "stderr",
     "output_type": "stream",
     "text": [
      "100%|██████████| 20/20 [00:24<00:00,  1.20s/it]\n",
      " 90%|█████████ | 18/20 [00:26<00:02,  1.12s/it]"
     ]
    },
    {
     "name": "stdout",
     "output_type": "stream",
     "text": [
      "warning: toggling to jac False; due to increase or convergence in LSE at iteration 2.\n"
     ]
    },
    {
     "name": "stderr",
     "output_type": "stream",
     "text": [
      "100%|██████████| 20/20 [00:24<00:00,  1.24s/it]\n",
      "100%|██████████| 20/20 [00:30<00:00,  1.50s/it]\n",
      " 75%|███████▌  | 15/20 [00:26<00:05,  1.12s/it]"
     ]
    },
    {
     "name": "stdout",
     "output_type": "stream",
     "text": [
      "warning: toggling to jac False; due to increase or convergence in LSE at iteration 2.\n"
     ]
    },
    {
     "name": "stderr",
     "output_type": "stream",
     "text": [
      " 85%|████████▌ | 17/20 [00:24<00:02,  1.14it/s]"
     ]
    },
    {
     "name": "stdout",
     "output_type": "stream",
     "text": [
      "warning: toggling to jac False; due to increase or convergence in LSE at iteration 2.\n"
     ]
    },
    {
     "name": "stderr",
     "output_type": "stream",
     "text": [
      "100%|██████████| 20/20 [00:28<00:00,  1.42s/it]\n",
      "100%|██████████| 20/20 [00:23<00:00,  1.17s/it]\n",
      " 95%|█████████▌| 19/20 [00:26<00:00,  1.21it/s]"
     ]
    },
    {
     "name": "stdout",
     "output_type": "stream",
     "text": [
      "warning: toggling to jac False; due to increase or convergence in LSE at iteration 2.\n",
      "warning: toggling to jac False; due to increase or convergence in LSE at iteration 2.\n"
     ]
    },
    {
     "name": "stderr",
     "output_type": "stream",
     "text": [
      "100%|██████████| 20/20 [00:27<00:00,  1.37s/it]\n",
      "100%|██████████| 20/20 [00:32<00:00,  1.63s/it]\n",
      " 10%|█         | 2/20 [00:00<00:04,  3.83it/s]]"
     ]
    },
    {
     "name": "stdout",
     "output_type": "stream",
     "text": [
      "warning: toggling to jac False; due to increase or convergence in LSE at iteration 2.\n",
      "warning: toggling to jac False; due to increase or convergence in LSE at iteration 2.\n"
     ]
    },
    {
     "name": "stderr",
     "output_type": "stream",
     "text": [
      "100%|██████████| 20/20 [00:31<00:00,  1.59s/it]\n",
      " 30%|███       | 6/20 [00:12<00:25,  1.79s/it]]"
     ]
    },
    {
     "name": "stdout",
     "output_type": "stream",
     "text": [
      "warning: toggling to jac False; due to increase or convergence in LSE at iteration 2.\n"
     ]
    },
    {
     "name": "stderr",
     "output_type": "stream",
     "text": [
      " 70%|███████   | 14/20 [00:16<00:05,  1.08it/s]"
     ]
    }
   ],
   "source": [
    "# there are 504 obs and ~150 patients\n",
    "# X = {\n",
    "#     \"X_obs\": X_obs,       # (n_obs, n_biomarkers)\n",
    "#     \"dt\": dt,             # (n_obs,)\n",
    "#     \"ids\": ids,           # (n_obs,)\n",
    "#     \"cog\": cog,           # (n_obs, n_cog_features)\n",
    "#     \"K\": K,               # (n_biomarkers, n_biomarkers)\n",
    "#     \"initial_beta\": initial_beta  # (n_patients,)\n",
    "# }\n",
    "from sklearn.metrics import make_scorer\n",
    "\n",
    "# Define this in a code cell before GridSearchCV\n",
    "def unsupervised_em_scorer(estimator, X, y=None):\n",
    "    try:\n",
    "        score = estimator.score(X)\n",
    "        print(f\"[GridSearchCV] score = {score:.4f}\")\n",
    "        return score\n",
    "    except Exception as e:\n",
    "        print(f\"[GridSearchCV ERROR]: {e}\")\n",
    "        return float(\"-inf\")\n",
    "\n",
    "unsupervised_scorer = make_scorer(unsupervised_em_scorer, greater_is_better=True)\n",
    "\n",
    "\n",
    "\n",
    "model = EM(K=K)\n",
    "param_grid = {\n",
    "    \"lambda_f\": [0.01, 0.1, 0.3, 0.5, 0.7, 1.0],\n",
    "    \"lambda_cog\": [0.01, 0.1, 0.3, 0.5, 0.7, 1.0],\n",
    "    \"lambda_scalar\": [0.01, 0.1, 0.3, 0.5, 0.7, 1.0],\n",
    "    \"jac_toggle\": [True],\n",
    "    \"max_iter\": [20],\n",
    "}\n",
    "groups = [p[\"id\"] for p in X]\n",
    "\n",
    "gkf = GroupKFold(n_splits=3)\n",
    "grid = GridSearchCV(model, param_grid, cv=gkf, scoring = None, n_jobs=15)#scoring=unsupervised_scorer)\n",
    "grid.fit(X=X, y=None, groups=groups);\n",
    "\n",
    "print(\"Best score:\", grid.best_score_)\n",
    "print(\"Best params:\", grid.best_params_)\n"
   ]
  },
  {
   "cell_type": "code",
   "execution_count": null,
   "metadata": {},
   "outputs": [
    {
     "data": {
      "image/png": "[encoded data removed]",
      "text/plain": [
       "<Figure size 1500x600 with 1 Axes>"
      ]
     },
     "metadata": {},
     "output_type": "display_data"
    },
    {
     "name": "stdout",
     "output_type": "stream",
     "text": [
      "initial theta:\n",
      "f:  [0.021 0.015 0.066 0.068 0.093 0.075 0.093 0.095 0.087 0.001]\n",
      "s:  [1.299 2.487 0.166 0.503 2.96  2.982 2.482 2.546 1.264 2.035]\n",
      "s_k:  0.9870000000000001\n",
      "final theta:\n",
      "f:  [0.03  0.01  0.034 0.102 0.012 0.011 0.036 0.035 0.027 0.   ]\n",
      "s:  [0.761 2.458 0.779 0.408 1.587 2.009 1.316 1.542 0.994 1.04 ]\n",
      "s_k:  0.1498418125352666\n",
      "\n",
      "BETA SUMMARY:\n",
      "beta initial:  [27.34  14.169 26.668 28.183 25.236 23.508 10.071 23.979 23.418 24.042]\n",
      "beta final:  [11.726 12.    10.89  10.72  12.    12.    12.    11.134 12.    11.263]\n"
     ]
    }
   ],
   "source": [
    "t_span = np.linspace(0, t_max, int(t_max/step))\n",
    "\n",
    "best_model = grid.best_estimator_\n",
    "\n",
    "theta_history = best_model.theta_history\n",
    "beta_history = best_model.beta_history\n",
    "lse_history = best_model.lse_history\n",
    "\n",
    "initial_theta = theta_history[:,0]\n",
    "initial_x0 = np.zeros(n_biomarkers)\n",
    "initial_f = initial_theta[0:n_biomarkers]\n",
    "initial_s = initial_theta[n_biomarkers:2*n_biomarkers]\n",
    "initial_scalar_K = initial_theta[-1]\n",
    "#initial_model = solve_system(initial_x0, initial_f, K, t_span, initial_scalar_K)\n",
    "\n",
    "# final params\n",
    "final_theta = theta_history[:,-1]\n",
    "final_x0 = np.zeros(n_biomarkers)\n",
    "final_f = final_theta[0:n_biomarkers]\n",
    "final_s = final_theta[n_biomarkers:2*n_biomarkers]\n",
    "final_scalar_K = final_theta[-1]\n",
    "final_model = solve_system(final_x0, final_f, K, t_span, final_scalar_K)\n",
    "\n",
    "plt.figure(figsize=(15,6))\n",
    "colors = plt.cm.rainbow(np.linspace(0, 1, n_biomarkers))\n",
    "for b in range(n_biomarkers):\n",
    "    plt.plot(t_span, final_model[b], color = colors[b])\n",
    "plt.show()\n",
    "\n",
    "print(\"initial theta:\")\n",
    "print(\"f: \", np.round(initial_theta[:n_biomarkers], 3)[0:10])\n",
    "print(\"s: \", np.round(initial_theta[n_biomarkers:2*n_biomarkers], 3)[0:10])\n",
    "print(\"s_k: \", initial_theta[-1])\n",
    "\n",
    "print(\"final theta:\")\n",
    "print(\"f: \", np.round(final_theta[:n_biomarkers], 3)[0:10])\n",
    "print(\"s: \", np.round(final_theta[n_biomarkers:2*n_biomarkers], 3)[0:10])\n",
    "print(\"s_k: \", final_theta[-1])\n",
    "\n",
    "## Beta comparison:\n",
    "print(\"\\nBETA SUMMARY:\")\n",
    "print(\"beta initial: \", np.round(beta_history[0:10, 0], 3))\n",
    "print(\"beta final: \", np.round(beta_history[0:10, -1], 3))\n",
    "\n",
    "print(\"Best score:\", grid.best_score_)\n",
    "print(\"Best params:\", grid.best_params_)"
   ]
  },
  {
   "cell_type": "code",
   "execution_count": null,
   "metadata": {},
   "outputs": [
    {
     "data": {
      "image/png": "[encoded data removed]",
      "text/plain": [
       "<Figure size 1000x400 with 1 Axes>"
      ]
     },
     "metadata": {},
     "output_type": "display_data"
    },
    {
     "name": "stdout",
     "output_type": "stream",
     "text": [
      "248.7633728713369\n"
     ]
    }
   ],
   "source": [
    "plot_lse(lse_history)\n",
    "print(lse_history[-1])\n",
    "# plt.figure()\n",
    "# plt.plot(lse_history[1:-1])\n",
    "# plt.yscale('log')\n",
    "# plt.show()"
   ]
  },
  {
   "cell_type": "code",
   "execution_count": null,
   "metadata": {},
   "outputs": [
    {
     "name": "stdout",
     "output_type": "stream",
     "text": [
      "Unique PIDs: [3102 3105 3107 3108 3111 3113 3116 3118 3119 3120 3122 3123 3124 3125\n",
      " 3126 3127 3128 3130 3131 3132 3134 3150 3154 3166 3173 3174 3175 3176\n",
      " 3178 3179 3181 3182 3184 3185 3190 3305 3307 3308 3309 3314 3321 3323\n",
      " 3325 3327 3328 3352 3354 3359 3360 3364 3365 3366 3367 3371 3372 3373\n",
      " 3374 3375 3377 3378 3380 3383 3385 3386 3387 3392 3500 3552 3556 3557\n",
      " 3558 3559 3564 3567 3574 3575 3577 3584 3585 3586 3587 3588 3591 3592\n",
      " 3593 3752 3757 3758 3760 3762 3763 3770 3771 3775 3776 3777 3778 3780\n",
      " 3781 3787 3789 3800 3802 3808 3814 3815 3818 3819 3822 3823 3824 3825\n",
      " 3826 3828 3829 3830 3831 3832 3834 3835 3838 3863 3866 3868 3869 3870\n",
      " 4001 4005 4011 4012 4013 4019 4020 4021 4022 4024 4025 4026 4027 4029\n",
      " 4030 4034 4035 4037 4038 4136]\n",
      "Counts: [2 4 4 4 2 3 3 4 2 4 2 3 4 4 3 2 3 3 3 4 3 3 4 3 3 4 4 2 4 4 3 3 3 3 4 2 4\n",
      " 4 4 2 3 3 4 4 4 4 4 4 4 4 4 3 4 4 4 4 3 3 4 3 4 2 2 3 4 4 2 4 4 4 3 4 2 4\n",
      " 3 4 3 2 4 4 3 4 3 3 4 3 4 3 4 3 4 3 2 4 4 4 4 4 3 3 4 4 4 4 4 4 3 4 4 4 4\n",
      " 4 4 3 4 4 4 4 4 4 4 2 2 2 4 2 4 4 3 4 3 4 4 4 4 4 3 4 4 4 4 4 4 3 2 2]\n",
      "Modal PID: 3105\n",
      "146\n",
      "146\n",
      "[[0.274 0.242 0.216 0.207 0.448 0.344 0.522 0.48  0.206 0.086]\n",
      " [0.297 0.246 0.238 0.196 0.438 0.367 0.509 0.468 0.251 0.11 ]\n",
      " [0.284 0.208 0.214 0.157 0.477 0.386 0.505 0.432 0.245 0.098]\n",
      " [0.384 0.281 0.171 0.171 0.518 0.434 0.526 0.487 0.342 0.247]]\n"
     ]
    },
    {
     "data": {
      "image/png": "[encoded data removed]",
      "text/plain": [
       "<Figure size 1200x500 with 1 Axes>"
      ]
     },
     "metadata": {},
     "output_type": "display_data"
    }
   ],
   "source": [
    "from sklearn.linear_model import LinearRegression\n",
    "\n",
    "def plot_trajectories_with_patient_regression(X, dt, ids, beta, t_span, model, patient_id, biomarker_labels=None):\n",
    "\n",
    "    n_biomarkers = model.shape[0]\n",
    "    patient_mask = (ids == patient_id)\n",
    "    \n",
    "    X_i = X[patient_mask, :]\n",
    "    print(X_i)\n",
    "    dt_i = dt[patient_mask]\n",
    "    beta_i = beta[np.unique(ids).tolist().index(patient_id)]\n",
    "    t_ij = dt_i + beta_i \n",
    "    fig, ax = plt.subplots(figsize=(12, 5))\n",
    "    \n",
    "    \n",
    "    for j in range(n_biomarkers):\n",
    "        label = biomarker_labels[j]\n",
    "        color = plt.cm.rainbow(np.linspace(0, 1, n_biomarkers))    \n",
    "\n",
    "        ax.plot(t_span, model[j], label=label, color=color[j])        \n",
    "\n",
    "    ax.set_xlabel(\"time (y)\")\n",
    "    ax.set_ylabel(\"biomarker values\")\n",
    "    ax.legend()\n",
    "    ax.grid(True)\n",
    "    plt.tight_layout()\n",
    "    plt.show()\n",
    "\n",
    "unique_pids, counts = np.unique(ids, return_counts=True)\n",
    "modal_pid = unique_pids[np.argmax(counts)]\n",
    "\n",
    "print(\"Unique PIDs:\", unique_pids)\n",
    "print(\"Counts:\", counts)\n",
    "print(\"Modal PID:\", modal_pid)\n",
    "\n",
    "print(len(np.unique(ids)))\n",
    "print(len(beta_history[:,-1]))\n",
    "s = final_theta[n_biomarkers:2*n_biomarkers]\n",
    "\n",
    "plot_trajectories_with_patient_regression(X_obs, dt, ids, beta_history[:,-1], t_span, final_model*s[:,None], ids[5], small_region_set_resid)"
   ]
  },
  {
   "cell_type": "code",
   "execution_count": null,
   "metadata": {},
   "outputs": [
    {
     "data": {
      "image/png": "[encoded data removed]",
      "text/plain": [
       "<Figure size 1000x800 with 5 Axes>"
      ]
     },
     "metadata": {},
     "output_type": "display_data"
    }
   ],
   "source": [
    "import matplotlib.pyplot as plt\n",
    "from sklearn.linear_model import LinearRegression\n",
    "import numpy as np\n",
    "import math\n",
    "import matplotlib.cm as cm\n",
    "import matplotlib.colors as colors\n",
    "\n",
    "def plot_all_patient_regression_lines_grid_nhy(X, dt, ids, beta, t_span, nhy, model=None,\n",
    "                                               biomarker_indices=None, biomarker_labels=None,\n",
    "                                               max_lines=500, t_max=40):\n",
    "    \"\"\"\n",
    "    Plot regression lines per patient for each selected biomarker on a grid of subplots.\n",
    "    Each line is color-coded by the patient's mean NHY score.\n",
    "    \"\"\"\n",
    "    if biomarker_indices is None:\n",
    "        biomarker_indices = list(range(X.shape[1]))\n",
    "\n",
    "    unique_ids = np.unique(ids)\n",
    "    pid_to_index = {pid: idx for idx, pid in enumerate(unique_ids)}\n",
    "\n",
    "    # Compute mean NHY score per patient\n",
    "    mean_nhy = {}\n",
    "    for pid in unique_ids:\n",
    "        nhy_i = nhy[ids == pid]\n",
    "        mean_nhy[pid] = np.mean(nhy_i) if len(nhy_i) > 0 else np.nan\n",
    "\n",
    "    # Colormap setup\n",
    "    cmap = cm.plasma  # or viridis, inferno, etc.\n",
    "    nhy_vals = np.array(list(mean_nhy.values()))\n",
    "    norm = colors.Normalize(vmin=np.nanmin(nhy_vals), vmax=np.nanmax(nhy_vals))\n",
    "\n",
    "    n_plots = len(biomarker_indices)\n",
    "    n_cols = math.ceil(np.sqrt(n_plots))\n",
    "    n_rows = math.ceil(n_plots / n_cols)\n",
    "\n",
    "    fig, axes = plt.subplots(n_rows, n_cols, figsize=(5 * n_cols, 4 * n_rows), squeeze=False)\n",
    "    axes = axes.flatten()\n",
    "\n",
    "    for plot_idx, j in enumerate(biomarker_indices):\n",
    "        ax = axes[plot_idx]\n",
    "        title = biomarker_labels[j] if biomarker_labels else f\"biomarker {j}\"\n",
    "        ax.set_title(f\"{title}\")\n",
    "        ax.set_xlabel(\"time (y)\")\n",
    "        ax.set_ylabel(\"biomarker value\")\n",
    "\n",
    "        line_count = 0\n",
    "        for pid in unique_ids:\n",
    "            if line_count >= max_lines:\n",
    "                break\n",
    "            mask = (ids == pid)\n",
    "            if np.sum(mask) < 2:\n",
    "                continue\n",
    "\n",
    "            X_i = X[mask, j]\n",
    "            dt_i = dt[mask]\n",
    "            beta_i = beta[pid_to_index[pid]]\n",
    "            t_ij = dt_i + beta_i\n",
    "\n",
    "            nhy_mean = mean_nhy[pid]\n",
    "            if np.isnan(nhy_mean):\n",
    "                continue\n",
    "            line_color = cmap(norm(nhy_mean))\n",
    "\n",
    "            model_i = LinearRegression().fit(t_ij.reshape(-1, 1), X_i)\n",
    "            t_fit = np.linspace(t_ij.min(), t_ij.max(), 20)\n",
    "            x_fit = model_i.predict(t_fit.reshape(-1, 1))\n",
    "\n",
    "            ax.plot(t_fit, x_fit, color=line_color, alpha=0.8, linewidth=1)\n",
    "            line_count += 1\n",
    "\n",
    "        # Plot model-predicted trajectory\n",
    "        if model is not None:\n",
    "            ax.plot(t_span, model[j], color='black', linewidth=2, label=\"Model\")\n",
    "            ax.legend()\n",
    "\n",
    "        ax.grid(True)\n",
    "        ax.set_xlim(0, t_max)\n",
    "\n",
    "    # Remove unused axes\n",
    "    for k in range(n_plots, len(axes)):\n",
    "        fig.delaxes(axes[k])\n",
    "\n",
    "    # Add colorbar for NHY scale\n",
    "    sm = cm.ScalarMappable(cmap=cmap, norm=norm)\n",
    "    sm.set_array([])\n",
    "    cbar = fig.colorbar(sm, ax=axes.tolist(), orientation='vertical', shrink=0.9)\n",
    "    cbar.set_label(\"Mean NHY Score\")\n",
    "\n",
    "    plt.show()\n",
    "\n",
    "plot_all_patient_regression_lines_grid_nhy(\n",
    "    X=X_obs,\n",
    "    dt=dt,\n",
    "    ids=ids,\n",
    "    beta=beta_history[:, -1],\n",
    "    t_span=t_span,\n",
    "    nhy=nhy,  # your NHY array\n",
    "    model=final_model * s[:, None],\n",
    "    biomarker_indices=[0, 1, 2, 4],\n",
    "    biomarker_labels=small_region_set,\n",
    "    max_lines=500,\n",
    "    t_max=t_span[-1]\n",
    ")\n"
   ]
  },
  {
   "cell_type": "code",
   "execution_count": null,
   "metadata": {},
   "outputs": [
    {
     "name": "stderr",
     "output_type": "stream",
     "text": [
      "/tmp/ipykernel_14919/4096345311.py:17: FutureWarning: \n",
      "\n",
      "Passing `palette` without assigning `hue` is deprecated and will be removed in v0.14.0. Assign the `x` variable to `hue` and set `legend=False` for the same effect.\n",
      "\n",
      "  sns.violinplot(data=df, x=\"NHY\", y=\"t_ij\", palette=\"plasma\", inner=\"box\")\n"
     ]
    },
    {
     "data": {
      "image/png": "[encoded data removed]",
      "text/plain": [
       "<Figure size 800x600 with 1 Axes>"
      ]
     },
     "metadata": {},
     "output_type": "display_data"
    }
   ],
   "source": [
    "import matplotlib.pyplot as plt\n",
    "import seaborn as sns\n",
    "import numpy as np\n",
    "import pandas as pd\n",
    "\n",
    "def plot_violin_nhy_vs_tij(dt, ids, beta, nhy):\n",
    "    unique_ids = np.unique(ids)\n",
    "    pid_to_index = {pid: idx for idx, pid in enumerate(unique_ids)}\n",
    "    t_ij = np.array([dt_i + beta[pid_to_index[pid]] for dt_i, pid in zip(dt, ids)])\n",
    "\n",
    "    df = pd.DataFrame({\n",
    "        \"t_ij\": t_ij,\n",
    "        \"NHY\": nhy\n",
    "    })\n",
    "\n",
    "    plt.figure(figsize=(8, 6))\n",
    "    sns.violinplot(data=df, x=\"NHY\", y=\"t_ij\", palette=\"plasma\", inner=\"box\")\n",
    "    plt.xlabel(\"NHY stage\")\n",
    "    plt.ylabel(\"t_ij\")\n",
    "    plt.grid(True)\n",
    "    plt.tight_layout()\n",
    "    plt.show()\n",
    "\n",
    "plot_violin_nhy_vs_tij(dt=dt, ids=ids, beta=beta_history[:, -1], nhy=nhy)\n"
   ]
  },
  {
   "cell_type": "code",
   "execution_count": null,
   "metadata": {},
   "outputs": [
    {
     "name": "stdout",
     "output_type": "stream",
     "text": [
      "2\n"
     ]
    },
    {
     "data": {
      "image/png": "[encoded data removed]",
      "text/plain": [
       "<Figure size 640x480 with 1 Axes>"
      ]
     },
     "metadata": {},
     "output_type": "display_data"
    }
   ],
   "source": [
    "plt.hist(nhy)\n",
    "print(sum(nhy==0))"
   ]
  },
  {
   "cell_type": "code",
   "execution_count": null,
   "metadata": {},
   "outputs": [
    {
     "name": "stderr",
     "output_type": "stream",
     "text": [
      "/tmp/ipykernel_14919/1995190623.py:25: FutureWarning: \n",
      "\n",
      "Passing `palette` without assigning `hue` is deprecated and will be removed in v0.14.0. Assign the `x` variable to `hue` and set `legend=False` for the same effect.\n",
      "\n",
      "  sns.violinplot(data=df, x=\"NHY\", y=\"beta\", palette=\"plasma\", inner=\"box\")\n"
     ]
    },
    {
     "data": {
      "image/png": "[encoded data removed]",
      "text/plain": [
       "<Figure size 800x600 with 1 Axes>"
      ]
     },
     "metadata": {},
     "output_type": "display_data"
    }
   ],
   "source": [
    "import matplotlib.pyplot as plt\n",
    "import seaborn as sns\n",
    "import numpy as np\n",
    "import pandas as pd\n",
    "\n",
    "def plot_violin_nhy_vs_beta(ids, dt, nhy, beta):\n",
    "    unique_ids = np.unique(ids)\n",
    "    pair = []\n",
    "\n",
    "    pid_to_beta = {pid: beta[i] for i, pid in enumerate(unique_ids)}\n",
    "\n",
    "    for pid in unique_ids:\n",
    "        mask = (ids == pid)\n",
    "        dt_i = dt[mask]\n",
    "        nhy_i = nhy[mask]\n",
    "        idx_min_dt = np.argmax(dt_i)\n",
    "        nhy_first = nhy_i[idx_min_dt]\n",
    "        beta_i = pid_to_beta[pid]\n",
    "\n",
    "        pair.append({\"NHY\": nhy_first, \"beta\": beta_i})\n",
    "\n",
    "    df = pd.DataFrame(pair)\n",
    "\n",
    "    plt.figure(figsize=(8, 6))\n",
    "    sns.violinplot(data=df, x=\"NHY\", y=\"beta\", palette=\"plasma\", inner=\"box\")\n",
    "    plt.title(\"initial NHY vs. beta\")\n",
    "    plt.xlabel(\"initial NHY\")\n",
    "    plt.ylabel(\"beta\")\n",
    "    plt.show()\n",
    "\n",
    "plot_violin_nhy_vs_beta(ids=ids, dt=dt, nhy=nhy, beta=beta_history[:, -1])\n"
   ]
  },
  {
   "cell_type": "code",
   "execution_count": null,
   "metadata": {},
   "outputs": [],
   "source": []
  }
 ],
 "metadata": {
  "kernelspec": {
   "display_name": "base",
   "language": "python",
   "name": "python3"
  },
  "language_info": {
   "codemirror_mode": {
    "name": "ipython",
    "version": 3
   },
   "file_extension": ".py",
   "mimetype": "text/x-python",
   "name": "python",
   "nbconvert_exporter": "python",
   "pygments_lexer": "ipython3",
   "version": "3.12.2"
  }
 },
 "nbformat": 4,
 "nbformat_minor": 2
}
