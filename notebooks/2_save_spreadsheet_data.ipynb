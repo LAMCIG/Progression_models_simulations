{
 "cells": [
  {
   "cell_type": "code",
   "execution_count": 2,
   "metadata": {},
   "outputs": [],
   "source": [
    "import pandas as pd"
   ]
  },
  {
   "cell_type": "code",
   "execution_count": 7,
   "metadata": {},
   "outputs": [],
   "source": [
    "# ADNI uncorrected\n",
    "\n",
    "df = pd.read_csv('/data01/bgutman/MRI_data/ADNI1/ADNI_sc_vents840-sorted.csv')\n",
    "df2 = pd.read_csv('/data01/bgutman/MRI_data/ADNI1/Anat_measures/CorticalMeasuresENIGMA_ThickAvg_CROSS_ADNI1_sc.csv')\n",
    "df2['SubjID'] = df2['SubjID'].apply(lambda x: x[:-3])\n",
    "merged = pd.merge(df[['Subject', 'dx']], df2, how='right', left_on='Subject', right_on='SubjID').dropna()\n",
    "\n",
    "merged['Dx'] = merged['dx'].apply(lambda x: int(x!='N'))\n",
    "merged.query('dx != \"MCI\"').to_csv('/data01/bgutman/parkinson_ebm/results/data/ThickAvg_ADNI1_AD_NC_sc.csv')\n",
    "merged.to_csv('/data01/bgutman/parkinson_ebm/results/data/ThickAvg_ADNI1_AD,MCI_NC_sc.csv')"
   ]
  },
  {
   "cell_type": "code",
   "execution_count": 8,
   "metadata": {},
   "outputs": [],
   "source": [
    "# Parkinson uncorrected\n",
    "\n",
    "df= pd.read_csv('/data01/bgutman/MRI_data/PPMI/EBM_data/ENIGMA-PD-regional.csv')\n",
    "cols = [c for c in df.columns if 'thick' in c]\n",
    "cols.extend(['SubjID', 'Dx', 'Sex', 'Age', 'cohort'])\n",
    "\n",
    "df[cols].dropna().to_csv('/data01/bgutman/parkinson_ebm/results/data/ENIGMA-PD-regional.csv')"
   ]
  },
  {
   "cell_type": "code",
   "execution_count": 16,
   "metadata": {},
   "outputs": [],
   "source": [
    "# Parkinson uncorrected\n",
    "\n",
    "df= pd.read_csv('/data01/bgutman/MRI_data/PPMI/EBM_data/corrected_ENIGMA-PD_Mixed_Effects_train_test_split.csv', index_col=0)\n",
    "cols = [c for c in df.columns if 'thick' in c]\n",
    "cols.extend(['SubjID', 'Dx', 'Sex', 'Age', 'cohort'])\n",
    "\n",
    "df[cols].dropna().to_csv('/data01/bgutman/parkinson_ebm/results/data/ENIGMA-PD-regional_corrected_mixed_effects.csv')"
   ]
  },
  {
   "cell_type": "code",
   "execution_count": null,
   "metadata": {},
   "outputs": [],
   "source": []
  }
 ],
 "metadata": {
  "kernelspec": {
   "display_name": "Python 3",
   "language": "python",
   "name": "python3"
  },
  "language_info": {
   "codemirror_mode": {
    "name": "ipython",
    "version": 3
   },
   "file_extension": ".py",
   "mimetype": "text/x-python",
   "name": "python",
   "nbconvert_exporter": "python",
   "pygments_lexer": "ipython3",
   "version": "3.7.3"
  }
 },
 "nbformat": 4,
 "nbformat_minor": 2
}
