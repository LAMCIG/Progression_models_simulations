{
 "cells": [
  {
   "cell_type": "code",
   "execution_count": 54,
   "metadata": {},
   "outputs": [],
   "source": [
    "import pandas as pd"
   ]
  },
  {
   "cell_type": "code",
   "execution_count": 84,
   "metadata": {},
   "outputs": [],
   "source": [
    "df = pd.read_csv('/data01/bgutman/MRI_data/ADNI1/ADNI_sc_vents840-sorted.csv')\n",
    "df2 = pd.read_csv('/data01/bgutman/MRI_data/ADNI1/Anat_measures/CorticalMeasuresENIGMA_SurfAvg_CROSS_ADNI1_sc.csv')\n",
    "df2['SubjID'] = df2['SubjID'].apply(lambda x: x[:-3])\n",
    "merged = pd.merge(df[['Subject', 'dx']], df2, how='right', left_on='Subject', right_on='SubjID').dropna()\n",
    "merged['Dx'] = merged['dx'].apply(lambda x: int(x!='N'))\n",
    "# merged.drop(['Subject', 'SubjID', 'LThickness','RThickness','LSurfArea','RSurfArea','ICV'], axis=1)"
   ]
  },
  {
   "cell_type": "code",
   "execution_count": 88,
   "metadata": {},
   "outputs": [],
   "source": [
    "# merged.query('dx != \"MCI\"').to_csv('/home/kurmukov/SurfAvg_ADNI1_AD_NC_sc.csv')"
   ]
  },
  {
   "cell_type": "code",
   "execution_count": 53,
   "metadata": {},
   "outputs": [],
   "source": [
    "# merged.to_csv('/home/kurmukov/SurfAvg_ADNI1_sc.csv')\n",
    "# pd.read_csv('/home/kurmukov/SurfAvg_ADNI1_sc.csv', index_col=0)"
   ]
  },
  {
   "cell_type": "code",
   "execution_count": 56,
   "metadata": {},
   "outputs": [],
   "source": [
    "# pd.read_csv('/home/kurmukov/SurfAvg_ADNI1_sc.csv', index_col=0).drop(['dx', 'Subject', 'SubjID', 'LThickness','RThickness','LSurfArea','RSurfArea','ICV'], axis=1)"
   ]
  },
  {
   "cell_type": "code",
   "execution_count": 82,
   "metadata": {},
   "outputs": [],
   "source": [
    "# Parkinson uncorrected\n",
    "\n",
    "df= pd.read_csv('/data01/bgutman/MRI_data/PPMI/EBM_data/ENIGMA-PD-regional.csv')\n",
    "cols = [c for c in df.columns if 'thick' in c]\n",
    "cols.extend(['SubjID', 'Dx', 'Sex', 'Age', 'cohort'])\n",
    "\n",
    "df[cols].dropna().to_csv('/home/kurmukov/ENIGMA-PD-regional.csv')"
   ]
  },
  {
   "cell_type": "code",
   "execution_count": 83,
   "metadata": {},
   "outputs": [
    {
     "data": {
      "text/plain": [
       "(1936, 68)"
      ]
     },
     "execution_count": 83,
     "metadata": {},
     "output_type": "execute_result"
    }
   ],
   "source": [
    "pd.read_csv('/home/kurmukov/ENIGMA-PD-regional.csv', index_col=0).drop(['SubjID', 'Dx', 'Sex', 'Age', 'cohort'], axis=1).values.shape"
   ]
  },
  {
   "cell_type": "code",
   "execution_count": null,
   "metadata": {},
   "outputs": [],
   "source": []
  }
 ],
 "metadata": {
  "kernelspec": {
   "display_name": "Python 3",
   "language": "python",
   "name": "python3"
  },
  "language_info": {
   "codemirror_mode": {
    "name": "ipython",
    "version": 3
   },
   "file_extension": ".py",
   "mimetype": "text/x-python",
   "name": "python",
   "nbconvert_exporter": "python",
   "pygments_lexer": "ipython3",
   "version": "3.7.3"
  }
 },
 "nbformat": 4,
 "nbformat_minor": 2
}
