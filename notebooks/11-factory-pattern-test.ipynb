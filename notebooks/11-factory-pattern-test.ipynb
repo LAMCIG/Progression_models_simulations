{
 "cells": [
  {
   "cell_type": "code",
   "execution_count": 3,
   "metadata": {},
   "outputs": [
    {
     "ename": "ImportError",
     "evalue": "cannot import name 'get_adjacency_matrix' from 'model_generator.biomarker_utils' (/home/dsemchin/Progression_models_simulations/model_generator/biomarker_utils.py)",
     "output_type": "error",
     "traceback": [
      "\u001b[0;31m---------------------------------------------------------------------------\u001b[0m",
      "\u001b[0;31mImportError\u001b[0m                               Traceback (most recent call last)",
      "Cell \u001b[0;32mIn[3], line 10\u001b[0m\n\u001b[1;32m      7\u001b[0m parent_dir \u001b[38;5;241m=\u001b[39m os\u001b[38;5;241m.\u001b[39mpath\u001b[38;5;241m.\u001b[39mabspath(os\u001b[38;5;241m.\u001b[39mpath\u001b[38;5;241m.\u001b[39mjoin(os\u001b[38;5;241m.\u001b[39mgetcwd(), os\u001b[38;5;241m.\u001b[39mpardir))\n\u001b[1;32m      8\u001b[0m sys\u001b[38;5;241m.\u001b[39mpath\u001b[38;5;241m.\u001b[39mappend(parent_dir)\n\u001b[0;32m---> 10\u001b[0m \u001b[38;5;28;01mfrom\u001b[39;00m \u001b[38;5;21;01mmodel_generator\u001b[39;00m\u001b[38;5;21;01m.\u001b[39;00m\u001b[38;5;21;01mmodel_factory\u001b[39;00m \u001b[38;5;28;01mimport\u001b[39;00m ModelFactory\n",
      "File \u001b[0;32m~/Progression_models_simulations/model_generator/__init__.py:3\u001b[0m\n\u001b[1;32m      1\u001b[0m \u001b[38;5;28;01mfrom\u001b[39;00m \u001b[38;5;21;01m.\u001b[39;00m\u001b[38;5;21;01mbase_model\u001b[39;00m \u001b[38;5;28;01mimport\u001b[39;00m BaseModel\n\u001b[1;32m      2\u001b[0m \u001b[38;5;28;01mfrom\u001b[39;00m \u001b[38;5;21;01m.\u001b[39;00m\u001b[38;5;21;01mbasic_models\u001b[39;00m \u001b[38;5;28;01mimport\u001b[39;00m SigmoidModel\n\u001b[0;32m----> 3\u001b[0m \u001b[38;5;28;01mfrom\u001b[39;00m \u001b[38;5;21;01m.\u001b[39;00m\u001b[38;5;21;01mode_models\u001b[39;00m \u001b[38;5;28;01mimport\u001b[39;00m ACPModel\n\u001b[1;32m      5\u001b[0m __all__ \u001b[38;5;241m=\u001b[39m [\u001b[38;5;124m'\u001b[39m\u001b[38;5;124mBaseModel\u001b[39m\u001b[38;5;124m'\u001b[39m, \u001b[38;5;124m'\u001b[39m\u001b[38;5;124mSigmoidModel\u001b[39m\u001b[38;5;124m'\u001b[39m, \u001b[38;5;124m'\u001b[39m\u001b[38;5;124mACPModel\u001b[39m\u001b[38;5;124m'\u001b[39m]\n",
      "File \u001b[0;32m~/Progression_models_simulations/model_generator/ode_models/__init__.py:1\u001b[0m\n\u001b[0;32m----> 1\u001b[0m \u001b[38;5;28;01mfrom\u001b[39;00m \u001b[38;5;21;01m.\u001b[39;00m\u001b[38;5;21;01macp_model\u001b[39;00m \u001b[38;5;28;01mimport\u001b[39;00m ACPModel  \n\u001b[1;32m      2\u001b[0m __all__ \u001b[38;5;241m=\u001b[39m [\u001b[38;5;124m'\u001b[39m\u001b[38;5;124mACPModel\u001b[39m\u001b[38;5;124m'\u001b[39m]\n",
      "File \u001b[0;32m~/Progression_models_simulations/model_generator/ode_models/acp_model.py:4\u001b[0m\n\u001b[1;32m      2\u001b[0m \u001b[38;5;28;01mfrom\u001b[39;00m \u001b[38;5;21;01mtyping\u001b[39;00m \u001b[38;5;28;01mimport\u001b[39;00m Dict, Any\n\u001b[1;32m      3\u001b[0m \u001b[38;5;28;01mfrom\u001b[39;00m \u001b[38;5;21;01mmodel_generator\u001b[39;00m\u001b[38;5;21;01m.\u001b[39;00m\u001b[38;5;21;01mbase_model\u001b[39;00m \u001b[38;5;28;01mimport\u001b[39;00m BaseModel\n\u001b[0;32m----> 4\u001b[0m \u001b[38;5;28;01mfrom\u001b[39;00m \u001b[38;5;21;01mmodel_generator\u001b[39;00m\u001b[38;5;21;01m.\u001b[39;00m\u001b[38;5;21;01mbiomarker_utils\u001b[39;00m \u001b[38;5;28;01mimport\u001b[39;00m get_adjacency_matrix, compute_laplacian_matrix\n\u001b[1;32m      6\u001b[0m \u001b[38;5;28;01mclass\u001b[39;00m \u001b[38;5;21;01mACPModel\u001b[39;00m(BaseModel):\n\u001b[1;32m      7\u001b[0m     \u001b[38;5;28;01mdef\u001b[39;00m \u001b[38;5;21m__init__\u001b[39m(\u001b[38;5;28mself\u001b[39m, n_stages: \u001b[38;5;28mint\u001b[39m, adjacency_matrix_type: \u001b[38;5;28mstr\u001b[39m, l1_mean: \u001b[38;5;28mfloat\u001b[39m, l2_mean: \u001b[38;5;28mfloat\u001b[39m, gamma_mean: \u001b[38;5;28mfloat\u001b[39m, eta_mean: \u001b[38;5;28mfloat\u001b[39m, k_ij_value: \u001b[38;5;28mfloat\u001b[39m, random_state: \u001b[38;5;28mint\u001b[39m \u001b[38;5;241m=\u001b[39m \u001b[38;5;241m10\u001b[39m, \u001b[38;5;241m*\u001b[39m\u001b[38;5;241m*\u001b[39mkwargs):\n",
      "\u001b[0;31mImportError\u001b[0m: cannot import name 'get_adjacency_matrix' from 'model_generator.biomarker_utils' (/home/dsemchin/Progression_models_simulations/model_generator/biomarker_utils.py)"
     ]
    }
   ],
   "source": [
    "import sys\n",
    "import os\n",
    "import numpy as np\n",
    "import matplotlib.pyplot as plt\n",
    "\n",
    "# set the path to the parent directory of 'simulation_class'\n",
    "parent_dir = os.path.abspath(os.path.join(os.getcwd(), os.pardir))\n",
    "sys.path.append(parent_dir)\n",
    "\n",
    "from model_generator.model_factory import ModelFactory\n"
   ]
  },
  {
   "cell_type": "code",
   "execution_count": 4,
   "metadata": {},
   "outputs": [
    {
     "ename": "NameError",
     "evalue": "name 'ModelFactory' is not defined",
     "output_type": "error",
     "traceback": [
      "\u001b[0;31m---------------------------------------------------------------------------\u001b[0m",
      "\u001b[0;31mNameError\u001b[0m                                 Traceback (most recent call last)",
      "Cell \u001b[0;32mIn[4], line 19\u001b[0m\n\u001b[1;32m      1\u001b[0m model_type \u001b[38;5;241m=\u001b[39m \u001b[38;5;124m'\u001b[39m\u001b[38;5;124msigmoid\u001b[39m\u001b[38;5;124m'\u001b[39m\n\u001b[1;32m      2\u001b[0m params \u001b[38;5;241m=\u001b[39m {\n\u001b[1;32m      3\u001b[0m     \u001b[38;5;124m'\u001b[39m\u001b[38;5;124mn_stages\u001b[39m\u001b[38;5;124m'\u001b[39m: \u001b[38;5;241m10\u001b[39m,\n\u001b[1;32m      4\u001b[0m     \u001b[38;5;124m'\u001b[39m\u001b[38;5;124mbiomarker_params\u001b[39m\u001b[38;5;124m'\u001b[39m: {\n\u001b[0;32m   (...)\u001b[0m\n\u001b[1;32m     16\u001b[0m     }\n\u001b[1;32m     17\u001b[0m }\n\u001b[0;32m---> 19\u001b[0m model \u001b[38;5;241m=\u001b[39m \u001b[43mModelFactory\u001b[49m\u001b[38;5;241m.\u001b[39mcreate_model(model_type, \u001b[38;5;241m*\u001b[39m\u001b[38;5;241m*\u001b[39mparams)\n\u001b[1;32m     20\u001b[0m model\u001b[38;5;241m.\u001b[39mgenerate_model()\n\u001b[1;32m     22\u001b[0m stage_values \u001b[38;5;241m=\u001b[39m model\u001b[38;5;241m.\u001b[39mget_stage_values()\n",
      "\u001b[0;31mNameError\u001b[0m: name 'ModelFactory' is not defined"
     ]
    }
   ],
   "source": [
    "model_type = 'sigmoid'\n",
    "params = {\n",
    "    'n_stages': 10,\n",
    "    'biomarker_params': {\n",
    "        0: {'s': 0.1, 'c': 1.0},\n",
    "        1: {'s': 0.5, 'c': 10.0},\n",
    "        2: {'s': 0.7, 'c': 20.0},\n",
    "        3: {'s': 0.4, 'c': 30.0},\n",
    "        4: {'s': 0.5, 'c': 40.0},\n",
    "        5: {'s': 0.8, 'c': 50.0},\n",
    "        6: {'s': 0.3, 'c': 60.0},\n",
    "        7: {'s': 0.3, 'c': 70.0},\n",
    "        8: {'s': 0.5, 'c': 80.0},\n",
    "        9: {'s': 0.3, 'c': 90.0},\n",
    "        9: {'s': 0.3, 'c': 100.0},\n",
    "    }\n",
    "}\n",
    "\n",
    "model = ModelFactory.create_model(model_type, **params)\n",
    "model.generate_model()\n",
    "\n",
    "stage_values = model.get_stage_values()\n",
    "model_values = model.get_model_values()\n",
    "\n",
    "print(stage_values.shape)\n",
    "plt.plot(model_values.T) # TODO: I effed up the dimensions\n",
    "plt.show()"
   ]
  },
  {
   "cell_type": "code",
   "execution_count": 5,
   "metadata": {},
   "outputs": [
    {
     "ename": "NameError",
     "evalue": "name 'ModelFactory' is not defined",
     "output_type": "error",
     "traceback": [
      "\u001b[0;31m---------------------------------------------------------------------------\u001b[0m",
      "\u001b[0;31mNameError\u001b[0m                                 Traceback (most recent call last)",
      "Cell \u001b[0;32mIn[5], line 14\u001b[0m\n\u001b[1;32m      2\u001b[0m params \u001b[38;5;241m=\u001b[39m {\n\u001b[1;32m      3\u001b[0m     \u001b[38;5;124m'\u001b[39m\u001b[38;5;124mn_stages\u001b[39m\u001b[38;5;124m'\u001b[39m: \u001b[38;5;241m10\u001b[39m,\n\u001b[1;32m      4\u001b[0m     \u001b[38;5;124m'\u001b[39m\u001b[38;5;124madjacency_matrix_type\u001b[39m\u001b[38;5;124m'\u001b[39m: \u001b[38;5;124m'\u001b[39m\u001b[38;5;124mTridiagonal\u001b[39m\u001b[38;5;124m'\u001b[39m,\n\u001b[0;32m   (...)\u001b[0m\n\u001b[1;32m     10\u001b[0m     \u001b[38;5;124m'\u001b[39m\u001b[38;5;124mrandom_state\u001b[39m\u001b[38;5;124m'\u001b[39m: \u001b[38;5;241m10\u001b[39m\n\u001b[1;32m     11\u001b[0m }\n\u001b[1;32m     13\u001b[0m \u001b[38;5;66;03m# Create and generate the ACP model\u001b[39;00m\n\u001b[0;32m---> 14\u001b[0m model \u001b[38;5;241m=\u001b[39m \u001b[43mModelFactory\u001b[49m\u001b[38;5;241m.\u001b[39mcreate_model(model_type, \u001b[38;5;241m*\u001b[39m\u001b[38;5;241m*\u001b[39mparams)\n\u001b[1;32m     15\u001b[0m model\u001b[38;5;241m.\u001b[39mgenerate_model()\n\u001b[1;32m     17\u001b[0m \u001b[38;5;66;03m# Get model values and plot\u001b[39;00m\n",
      "\u001b[0;31mNameError\u001b[0m: name 'ModelFactory' is not defined"
     ]
    }
   ],
   "source": [
    "model_type = 'acp'\n",
    "params = {\n",
    "    'n_stages': 10,\n",
    "    'adjacency_matrix_type': 'Tridiagonal',\n",
    "    'l1_mean': 3.0,\n",
    "    'l2_mean': 3.0,\n",
    "    'gamma_mean': 0.6,\n",
    "    'eta_mean': 0.9,\n",
    "    'k_ij_value': 0.5,\n",
    "    'random_state': 10\n",
    "}\n",
    "\n",
    "# Create and generate the ACP model\n",
    "model = ModelFactory.create_model(model_type, **params)\n",
    "model.generate_model()\n",
    "\n",
    "# Get model values and plot\n",
    "model_values = model.get_model_values()\n",
    "\n",
    "plt.plot(model_values.T)\n",
    "plt.title(\"ACP Model Progression\")\n",
    "plt.xlabel(\"Time\")\n",
    "plt.ylabel(\"Biomarker Value\")\n",
    "plt.show()"
   ]
  },
  {
   "cell_type": "code",
   "execution_count": null,
   "metadata": {},
   "outputs": [],
   "source": []
  },
  {
   "cell_type": "code",
   "execution_count": null,
   "metadata": {},
   "outputs": [],
   "source": []
  }
 ],
 "metadata": {
  "kernelspec": {
   "display_name": "base",
   "language": "python",
   "name": "python3"
  },
  "language_info": {
   "codemirror_mode": {
    "name": "ipython",
    "version": 3
   },
   "file_extension": ".py",
   "mimetype": "text/x-python",
   "name": "python",
   "nbconvert_exporter": "python",
   "pygments_lexer": "ipython3",
   "version": "3.12.2"
  }
 },
 "nbformat": 4,
 "nbformat_minor": 2
}
