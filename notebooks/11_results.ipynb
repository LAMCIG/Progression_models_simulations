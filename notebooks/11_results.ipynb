{
 "cells": [
  {
   "cell_type": "code",
   "execution_count": 14,
   "metadata": {},
   "outputs": [
    {
     "data": {
      "application/vnd.jupyter.widget-view+json": {
       "model_id": "cff46e36454842889af600b1196cc6f6",
       "version_major": 2,
       "version_minor": 0
      },
      "text/plain": [
       "Dropdown(description='Model:', options=('logistic', 'transition', 'diffusion', 'rd', 'ACP', 'rd_flipped'), val…"
      ]
     },
     "metadata": {},
     "output_type": "display_data"
    },
    {
     "data": {
      "application/vnd.jupyter.widget-view+json": {
       "model_id": "d267a43c4a484e96b3e3703fb9d0657a",
       "version_major": 2,
       "version_minor": 0
      },
      "text/plain": [
       "Dropdown(description='Sample Size:', options=(100, 250, 500, 1000), value=100)"
      ]
     },
     "metadata": {},
     "output_type": "display_data"
    },
    {
     "data": {
      "application/vnd.jupyter.widget-view+json": {
       "model_id": "1c69c8bc72144d4d938159352afab824",
       "version_major": 2,
       "version_minor": 0
      },
      "text/plain": [
       "Dropdown(description='Std:', options=(0.0, 0.1, 0.2, 0.3, 0.5, 0.7), value=0.0)"
      ]
     },
     "metadata": {},
     "output_type": "display_data"
    },
    {
     "data": {
      "application/vnd.jupyter.widget-view+json": {
       "model_id": "98b1e4b2d62748daa4d1dd8a8dbd8b00",
       "version_major": 2,
       "version_minor": 0
      },
      "text/plain": [
       "Output()"
      ]
     },
     "metadata": {},
     "output_type": "display_data"
    }
   ],
   "source": [
    "import os\n",
    "import pandas as pd\n",
    "import numpy as np\n",
    "import matplotlib.pyplot as plt\n",
    "import seaborn as sns\n",
    "import ipywidgets as widgets\n",
    "from IPython.display import display\n",
    "\n",
    "results_path = '/home/dsemchin/results/'\n",
    "models = ['logistic', 'transition', 'diffusion', 'rd', 'ACP', 'rd_flipped']\n",
    "sample_sizes = [100, 250, 500, 1000]\n",
    "std_values = [0.0, 0.1, 0.2, 0.3, 0.5, 0.7]\n",
    "\n",
    "def load_data(model, sample_size, std):\n",
    "    prior_file = os.path.join(results_path, f'{model}_n_{sample_size}_std_{std}_with_prior.csv')\n",
    "    no_prior_file = os.path.join(results_path, f'{model}_n_{sample_size}_std_{std}_no_prior.csv')\n",
    "\n",
    "    prior_data = pd.read_csv(prior_file)\n",
    "    no_prior_data = pd.read_csv(no_prior_file)\n",
    "\n",
    "    return prior_data, no_prior_data\n",
    "\n",
    "def create_kendall_spearman_boxplots(prior_data, no_prior_data):\n",
    "    fig, axes = plt.subplots(1, 2, figsize=(15, 6))\n",
    "\n",
    "    metrics_kendall = ['greedy_kendalltau', 'best_kendalltau']\n",
    "    metrics_spearman = ['greedy_spearmanr', 'best_spearmanr']\n",
    "\n",
    "    no_prior_data['Type'] = 'No Prior'\n",
    "    prior_data['Type'] = 'With Prior'\n",
    "\n",
    "    # kendall plot\n",
    "    combined_data_kendall = pd.concat([no_prior_data[metrics_kendall + ['Type']], prior_data[metrics_kendall + ['Type']]])\n",
    "    sns.boxplot(x='Type', y='value', hue='variable', \n",
    "                data=pd.melt(combined_data_kendall, id_vars='Type', value_vars=metrics_kendall), ax=axes[0])\n",
    "    axes[0].set_ylim(-1.1, 1.1)\n",
    "    axes[0].set_title('Kendall Tau Comparison')\n",
    "\n",
    "    # spearman plot\n",
    "    combined_data_spearman = pd.concat([no_prior_data[metrics_spearman + ['Type']], prior_data[metrics_spearman + ['Type']]])\n",
    "    sns.boxplot(x='Type', y='value', hue='variable', \n",
    "                data=pd.melt(combined_data_spearman, id_vars='Type', value_vars=metrics_spearman), ax=axes[1])\n",
    "    axes[1].set_ylim(-1.1, 1.1)\n",
    "    axes[1].set_title('Spearman R Comparison')\n",
    "\n",
    "    plt.tight_layout()\n",
    "    plt.show()\n",
    "\n",
    "def create_num_iters_boxplot(prior_data, no_prior_data):\n",
    "    combined_iters = pd.DataFrame({\n",
    "        'Iterations': pd.concat([no_prior_data['num_iters'], prior_data['num_iters']]),\n",
    "        'Type': ['No Prior'] * len(no_prior_data['num_iters']) + ['With Prior'] * len(prior_data['num_iters'])\n",
    "    })\n",
    "    \n",
    "    plt.figure(figsize=(5, 4))\n",
    "    sns.boxplot(x='Type', y='Iterations', data=combined_iters, showfliers=False)\n",
    "    plt.title('Number of Iterations Comparison')\n",
    "    plt.show()\n",
    "\n",
    "# AHHHHHHHHHHHHHHHHHHHHHHHHHHHHHHHHHHHHHHHHHHH\n",
    "def create_trace_plot(prior_data, no_prior_data):\n",
    "    # parse the loglike values, ensuring they are lists of floats\n",
    "    loglike_prior = [np.array(eval(log)) if isinstance(log, str) else log for log in prior_data['loglike']]\n",
    "    loglike_no_prior = [np.array(eval(log)) if isinstance(log, str) else log for log in no_prior_data['loglike']]\n",
    "\n",
    "    max_length = max(max(len(arr) for arr in loglike_prior), max(len(arr) for arr in loglike_no_prior))\n",
    "    \n",
    "    padded_prior = [np.pad(arr, (0, max_length - len(arr)), constant_values=np.nan) for arr in loglike_prior]\n",
    "    padded_no_prior = [np.pad(arr, (0, max_length - len(arr)), constant_values=np.nan) for arr in loglike_no_prior]\n",
    "    \n",
    "    avg_loglike_prior = np.nanmean(padded_prior, axis=0)\n",
    "    avg_loglike_no_prior = np.nanmean(padded_no_prior, axis=0)\n",
    "\n",
    "    plt.figure(figsize=(10, 4))\n",
    "    plt.plot(avg_loglike_no_prior, label='No Prior', color='blue')\n",
    "    plt.plot(avg_loglike_prior, label='With Prior', color='orange')\n",
    "    plt.xlabel('Steps')\n",
    "    plt.ylabel('Log-likelihood')\n",
    "    plt.title('Average Log-likelihood Over Steps')\n",
    "    plt.legend()\n",
    "    plt.show()\n",
    "\n",
    "# drop down time\n",
    "model_dropdown = widgets.Dropdown(options=models, description='Model:')\n",
    "sample_size_dropdown = widgets.Dropdown(options=sample_sizes, description='Sample Size:')\n",
    "std_dropdown = widgets.Dropdown(options=std_values, description='Std:')\n",
    "output = widgets.Output()\n",
    "\n",
    "def update_plots(change):\n",
    "    with output:\n",
    "        output.clear_output()\n",
    "        \n",
    "        # load data for selected parameters\n",
    "        model = model_dropdown.value\n",
    "        sample_size = sample_size_dropdown.value\n",
    "        std = std_dropdown.value\n",
    "        \n",
    "        prior_data, no_prior_data = load_data(model, sample_size, std)\n",
    "        \n",
    "        # generate the plots\n",
    "        create_kendall_spearman_boxplots(prior_data, no_prior_data)\n",
    "        create_num_iters_boxplot(prior_data, no_prior_data)\n",
    "        #create_trace_plot(prior_data, no_prior_data)\n",
    "\n",
    "# set up event listeners for dropdowns\n",
    "model_dropdown.observe(update_plots, names='value')\n",
    "sample_size_dropdown.observe(update_plots, names='value')\n",
    "std_dropdown.observe(update_plots, names='value')\n",
    "\n",
    "# display widgets and initial plots\n",
    "display(model_dropdown, sample_size_dropdown, std_dropdown, output)\n",
    "update_plots(None)  "
   ]
  },
  {
   "cell_type": "code",
   "execution_count": null,
   "metadata": {},
   "outputs": [],
   "source": []
  }
 ],
 "metadata": {
  "kernelspec": {
   "display_name": "base",
   "language": "python",
   "name": "python3"
  },
  "language_info": {
   "codemirror_mode": {
    "name": "ipython",
    "version": 3
   },
   "file_extension": ".py",
   "mimetype": "text/x-python",
   "name": "python",
   "nbconvert_exporter": "python",
   "pygments_lexer": "ipython3",
   "version": "3.12.2"
  }
 },
 "nbformat": 4,
 "nbformat_minor": 2
}
