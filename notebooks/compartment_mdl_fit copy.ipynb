{
 "cells": [
  {
   "cell_type": "code",
   "execution_count": null,
   "metadata": {},
   "outputs": [],
   "source": [
    "import numpy as np\n",
    "from scipy.integrate import solve_ivp\n",
    "import matplotlib.pyplot as plt\n",
    "from lmfit import minimize, Parameters, report_fit"
   ]
  },
  {
   "cell_type": "code",
   "execution_count": 5,
   "metadata": {},
   "outputs": [],
   "source": [
    "n_compartments = 3\n",
    "source_concentration = 1\n",
    "time_steps = 500\n",
    "dt = 0.1\n",
    "diffusion_rate = 0.2  # constant k_ij between all compartments\n",
    "\n",
    "# init compartments\n",
    "compartments = np.zeros(n_compartments)\n",
    "source = source_concentration  # create inf source\n",
    "concentration = []\n",
    "\n",
    "# stolen ken code\n",
    "for t in range(time_steps):\n",
    "    concentration.append(np.concatenate(([source], compartments.copy())))\n",
    "    \n",
    "    # source ---> first compartment\n",
    "    flux_source = diffusion_rate * (source - compartments[0]) * dt\n",
    "    compartments[0] += flux_source\n",
    "\n",
    "    # diffusion between compartments\n",
    "    fluxes = np.zeros(n_compartments)\n",
    "    for i in range(n_compartments - 1):\n",
    "        flux = diffusion_rate * (compartments[i] - compartments[i + 1]) * dt\n",
    "        fluxes[i] -= flux\n",
    "        fluxes[i + 1] += flux\n",
    "    compartments += fluxes\n",
    "\n",
    "concentration = np.array(concentration)\n",
    "time = np.linspace(0, time_steps * dt, time_steps) # time arr"
   ]
  },
  {
   "cell_type": "code",
   "execution_count": null,
   "metadata": {},
   "outputs": [],
   "source": [
    "def sigmoid(t, L, k, t0):\n",
    "    return L / (1 + np.exp(-k * (t - t0)))\n",
    "\n",
    "def sigmoid_objective_function(params, t_obs, y_obs): # sigmoid from data + interpolation\n",
    "    L = params['L'].value\n",
    "    k = params['k'].value\n",
    "    t0 = params['t0'].value\n",
    "\n",
    "    y_model_full = sigmoid(t_obs, L, k, t0)\n",
    "    # interpolate_model = interp1d(time, y_model_full, kind='cubic', bounds_error=False, fill_value=\"extrapolate\")\n",
    "    y_model = y_model_full #interpolate_model(t_obs)\n",
    "\n",
    "    return y_obs - y_model # compute residuals to minimize later\n",
    "\n",
    "\n",
    "def logistic_ODE(t, y, k = 1, a = 1):\n",
    "    return (k/a)*y*(a-y)\n",
    "\n",
    "a = 5\n",
    "k = 2\n",
    "r = 3\n",
    "t_eval= np.linspace(0,10,100)\n",
    "     \n",
    "y0 = [a/(1 + np.exp(k*r))]   \n",
    "sol = solve_ivp(logistic_ODE, (min(t_eval),max(t_eval)), y0 = y0, args=(k, a), t_eval=(t_eval), method='DOP853')\n",
    "\n",
    "# def logistic_ODE_objective_function(params, t_obs, y_obs, compartment_i):\n",
    "#     k = params['k'].value\n",
    "#     a = params['a'].value\n",
    "#     t0 = params['t0'].value\n",
    "\n",
    "#     y_model_full = sigmoid(time, a, k, t0)\n",
    "#     interpolate_model = interp1d(time, y_model_full, kind='cubic', bounds_error=False, fill_value=\"extrapolate\")\n",
    "#     y_model = interpolate_model(t_obs)\n",
    "\n",
    "#     return y_obs - y_model # compute residuals to minimize later\n"
   ]
  },
  {
   "cell_type": "code",
   "execution_count": 53,
   "metadata": {},
   "outputs": [
    {
     "data": {
      "image/png": "[encoded data removed]",
      "text/plain": [
       "<Figure size 640x480 with 1 Axes>"
      ]
     },
     "metadata": {},
     "output_type": "display_data"
    }
   ],
   "source": [
    "for i in range(sol.y.shape[0]):\n",
    "    plt.plot(sol.t, sol.y[i], label=f'$X_{i}(t)$')\n",
    "plt.xlabel('$t$') # the horizontal axis represents the time \n",
    "\n",
    "\n",
    "t = t_eval\n",
    "sig = sigmoid(t, L = a, k = k, t0 = r)\n",
    "plt.plot(t, sig, label = \"true\")\n",
    "plt.legend() # show how the colors correspond to the components of X\n",
    "plt.show()\n"
   ]
  },
  {
   "cell_type": "code",
   "execution_count": 62,
   "metadata": {},
   "outputs": [
    {
     "name": "stdout",
     "output_type": "stream",
     "text": [
      "[[Fit Statistics]]\n",
      "    # fitting method   = leastsq\n",
      "    # function evals   = 255\n",
      "    # data points      = 100\n",
      "    # variables        = 3\n",
      "    chi-square         = 0.61198803\n",
      "    reduced chi-square = 0.00630915\n",
      "    Akaike info crit   = -503.621274\n",
      "    Bayesian info crit = -495.805764\n",
      "##  Warning: uncertainties could not be estimated:\n",
      "[[Variables]]\n",
      "    y0_ode:  0.02915568 (init = 0.02)\n",
      "    k:       1.72083494 (init = 1)\n",
      "    a:       5.02612619 (init = 10)\n"
     ]
    }
   ],
   "source": [
    "\n",
    "from scipy.optimize import least_squares\n",
    "\n",
    "def lsq_ODE(params, x, data, f_ODE=logistic_ODE):\n",
    "    \n",
    "    y0_ode = params['y0_ode'].value\n",
    "    args_ode = []\n",
    "    for key in params.keys():\n",
    "        if key != 'y0_ode':\n",
    "            args_ode.append(params[key].value)\n",
    "            \n",
    "    args_ode = tuple(args_ode)\n",
    "    \n",
    "    sol = solve_ivp(f_ODE, t_span=(min(x),max(x)), y0 = [y0_ode], args=args_ode, t_eval = x, method='DOP853')  \n",
    "    \n",
    "    return data - sol.y\n",
    "\n",
    "\n",
    "params = Parameters()\n",
    "params.add('y0_ode', value = 0.02)\n",
    "params.add('k', value = 1)\n",
    "params.add('a', value = 10)\n",
    "\n",
    "params_direct = Parameters()\n",
    "params_direct.add('L', value = params['a'].value)\n",
    "params_direct.add('k', value = params['k'].value)\n",
    "params_direct.add('t0', value = r)\n",
    "\n",
    "\n",
    "min1 = minimize(lsq_ODE, params = params, args=(t_eval, sig), ftol=1e-20, gtol=1e-20, xtol=1e-20, max_nfev=20000) # fcn_kws= {'x':t_eval,'data': sig})#, 'f_ODE': logistic_ODE})\n",
    "report_fit(min1)\n"
   ]
  },
  {
   "cell_type": "code",
   "execution_count": 44,
   "metadata": {},
   "outputs": [
    {
     "name": "stdout",
     "output_type": "stream",
     "text": [
      "[[Fit Statistics]]\n",
      "    # fitting method   = leastsq\n",
      "    # function evals   = 29\n",
      "    # data points      = 100\n",
      "    # variables        = 3\n",
      "    chi-square         = 3.4920e-30\n",
      "    reduced chi-square = 3.6000e-32\n",
      "    Akaike info crit   = -7237.22406\n",
      "    Bayesian info crit = -7229.40855\n",
      "[[Variables]]\n",
      "    L:   5.00000000 +/- 2.6397e-17 (0.00%) (init = 1)\n",
      "    k:   2.00000000 +/- 7.7584e-17 (0.00%) (init = 1.5)\n",
      "    t0:  3.00000000 +/- 2.2340e-17 (0.00%) (init = 3)\n",
      "[[Correlations]] (unreported correlations are < 0.100)\n",
      "    C(L, t0) = +0.3545\n",
      "    C(L, k)  = -0.3167\n",
      "    C(k, t0) = -0.1122\n"
     ]
    }
   ],
   "source": [
    "min2 = minimize(sigmoid_objective_function, params = params_direct, args=(t_eval, sig), ftol=1e-10,max_nfev=20000) # fcn_kws= {'x':t_eval,'data': sig})#, 'f_ODE': logistic_ODE})\n",
    "report_fit(min2)\n"
   ]
  },
  {
   "cell_type": "code",
   "execution_count": 45,
   "metadata": {},
   "outputs": [
    {
     "data": {
      "text/plain": [
       "[5, 2, 3]"
      ]
     },
     "execution_count": 45,
     "metadata": {},
     "output_type": "execute_result"
    }
   ],
   "source": [
    "[a,k,r]"
   ]
  },
  {
   "cell_type": "code",
   "execution_count": null,
   "metadata": {},
   "outputs": [
    {
     "data": {
      "text/plain": [
       "[[0.012363115783173872], 2, 5]"
      ]
     },
     "metadata": {},
     "output_type": "display_data"
    }
   ],
   "source": [
    "[y0,k,a]"
   ]
  },
  {
   "cell_type": "code",
   "execution_count": 14,
   "metadata": {},
   "outputs": [
    {
     "data": {
      "text/plain": [
       "array([[-0.98763688, -0.98487749, -0.9815045 , -0.97738259, -0.97234717,\n",
       "        -0.96619831, -0.95869354, -0.94953948, -0.93838196, -0.92479485,\n",
       "        -0.90826736, -0.88819015, -0.86384062, -0.83436802, -0.79877981,\n",
       "        -0.75593104, -0.70451969, -0.64309161, -0.57006016, -0.48374642,\n",
       "        -0.3824461 , -0.2645289 , -0.12857339,  0.02646493,  0.20106222,\n",
       "         0.39493202,  0.60685895,  0.83459815,  1.07487738,  1.32352632,\n",
       "         1.5757344 ,  1.82640888,  2.07057933,  2.30378184,  2.52236195,\n",
       "         2.72365679,  2.90604627,  3.06888953,  3.21238022,  3.33735919,\n",
       "         3.44511892,  3.53722432,  3.61536396,  3.68123667,  3.73647217,\n",
       "         3.78258096,  3.82092723,  3.85271862,  3.87900764,  3.90070021,\n",
       "         3.91856846,  3.93326523,  3.94533901,  3.95524819,  3.9633743 ,\n",
       "         3.97003378,  3.97548837,  3.9799541 ,  3.98360891,  3.98659916,\n",
       "         3.98904509,  3.99104539,  3.99268098,  3.99401819,  3.99511132,\n",
       "         3.99600485,  3.99673517,  3.99733206,  3.99781987,  3.99821852,\n",
       "         3.9985443 ,  3.99881051,  3.99902805,  3.99920582,  3.99935107,\n",
       "         3.99946976,  3.99956675,  3.99964599,  3.99971074,  3.99976365,\n",
       "         3.99980688,  3.99984221,  3.99987107,  3.99989465,  3.99991392,\n",
       "         3.99992967,  3.99994253,  3.99995305,  3.99996163,  3.99996865,\n",
       "         3.99997439,  3.99997907,  3.9999829 ,  3.99998603,  3.99998858,\n",
       "         3.99999067,  3.99999238,  3.99999377,  3.99999491,  3.99999584]])"
      ]
     },
     "execution_count": 14,
     "metadata": {},
     "output_type": "execute_result"
    }
   ],
   "source": [
    "lsq_ODE(params=params, x=t_eval, data=sig)"
   ]
  },
  {
   "cell_type": "code",
   "execution_count": null,
   "metadata": {},
   "outputs": [],
   "source": []
  }
 ],
 "metadata": {
  "kernelspec": {
   "display_name": "base",
   "language": "python",
   "name": "python3"
  },
  "language_info": {
   "codemirror_mode": {
    "name": "ipython",
    "version": 3
   },
   "file_extension": ".py",
   "mimetype": "text/x-python",
   "name": "python",
   "nbconvert_exporter": "python",
   "pygments_lexer": "ipython3",
   "version": "3.12.2"
  }
 },
 "nbformat": 4,
 "nbformat_minor": 2
}
