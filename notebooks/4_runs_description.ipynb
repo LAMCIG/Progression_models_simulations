{
 "cells": [
  {
   "cell_type": "markdown",
   "metadata": {},
   "source": [
    "All results are stored here:\n",
    "\n",
    "\n",
    "\n",
    "/data01/bgutman/parkinson_ebm/results/mc_mc_results/\n",
    "- adni\n",
    "    - cdf_proba\n",
    "        - aver_prior\n",
    "        - no_prior\n",
    "    - point_proba\n",
    "        - aver_prior\n",
    "        - no_prior\n",
    "- parkinson\n",
    "    - cdf_proba\n",
    "        - aver_prior\n",
    "        - no_prior\n",
    "    - point_proba\n",
    "        - aver_prior\n",
    "        - no_prior"
   ]
  },
  {
   "cell_type": "code",
   "execution_count": 25,
   "metadata": {},
   "outputs": [],
   "source": [
    "data_files = [#'ENIGMA-PD-regional_corrected_mixed_effects.csv',\n",
    "'ENIGMA-PD-regional.csv',\n",
    "#'ThickAvg_ADNI1_AD,MCI_NC_sc.csv',\n",
    "'ThickAvg_ADNI1_AD_NC_sc.csv']"
   ]
  },
  {
   "cell_type": "code",
   "execution_count": 28,
   "metadata": {},
   "outputs": [
    {
     "name": "stdout",
     "output_type": "stream",
     "text": [
      "python run_experiment_mcmc.py --file_path /data01/bgutman/parkinson_ebm/data/ENIGMA-PD-regional.csv --output /data01/bgutman/parkinson_ebm/results/mc_mc_results/parkinson/point_proba/aver_prior --point_probability 1 --col_suffix thickavg --connectome_prior /data01/bgutman/parkinson_ebm/log_transition_probabilities_adni.npy\n",
      "===\n",
      "python run_experiment_mcmc.py --file_path /data01/bgutman/parkinson_ebm/data/ENIGMA-PD-regional.csv --output /data01/bgutman/parkinson_ebm/results/mc_mc_results/parkinson/cdf_proba/aver_prior --point_probability 0 --col_suffix thickavg --connectome_prior /data01/bgutman/parkinson_ebm/log_transition_probabilities_adni.npy\n",
      "===\n",
      "python run_experiment_mcmc.py --file_path /data01/bgutman/parkinson_ebm/data/ENIGMA-PD-regional.csv --output /data01/bgutman/parkinson_ebm/results/mc_mc_results/parkinson/point_proba/no_prior --point_probability 1 --col_suffix thickavg\n",
      "===\n",
      "python run_experiment_mcmc.py --file_path /data01/bgutman/parkinson_ebm/data/ENIGMA-PD-regional.csv --output /data01/bgutman/parkinson_ebm/results/mc_mc_results/parkinson/cdf_proba/no_prior --point_probability 0 --col_suffix thickavg\n",
      "===\n",
      "python run_experiment_mcmc.py --file_path /data01/bgutman/parkinson_ebm/data/ThickAvg_ADNI1_AD_NC_sc.csv --output /data01/bgutman/parkinson_ebm/results/mc_mc_results/adni/point_proba/aver_prior --point_probability 1 --col_suffix thickavg --connectome_prior /data01/bgutman/parkinson_ebm/log_transition_probabilities_adni.npy\n",
      "===\n",
      "python run_experiment_mcmc.py --file_path /data01/bgutman/parkinson_ebm/data/ThickAvg_ADNI1_AD_NC_sc.csv --output /data01/bgutman/parkinson_ebm/results/mc_mc_results/adni/cdf_proba/aver_prior --point_probability 0 --col_suffix thickavg --connectome_prior /data01/bgutman/parkinson_ebm/log_transition_probabilities_adni.npy\n",
      "===\n",
      "python run_experiment_mcmc.py --file_path /data01/bgutman/parkinson_ebm/data/ThickAvg_ADNI1_AD_NC_sc.csv --output /data01/bgutman/parkinson_ebm/results/mc_mc_results/adni/point_proba/no_prior --point_probability 1 --col_suffix thickavg\n",
      "===\n",
      "python run_experiment_mcmc.py --file_path /data01/bgutman/parkinson_ebm/data/ThickAvg_ADNI1_AD_NC_sc.csv --output /data01/bgutman/parkinson_ebm/results/mc_mc_results/adni/cdf_proba/no_prior --point_probability 0 --col_suffix thickavg\n",
      "===\n"
     ]
    }
   ],
   "source": [
    "for file_name in data_files:\n",
    "    for prior in ['/data01/bgutman/parkinson_ebm/log_transition_probabilities_adni.npy', None]:\n",
    "        for proba in [1, 0]:\n",
    "            experiment = []\n",
    "            if 'ADNI' in file_name:\n",
    "                experiment.append('adni')\n",
    "            else:\n",
    "                experiment.append('parkinson')\n",
    "            if proba:\n",
    "                experiment.append('/point_proba')\n",
    "            else:\n",
    "                experiment.append('/cdf_proba')\n",
    "            if prior is None:\n",
    "                experiment.append('/no_prior')\n",
    "            else:\n",
    "                experiment.append('/aver_prior')\n",
    "            experiment = ''.join(experiment)\n",
    "            run = ['python run_experiment_mcmc.py',\n",
    "                     '--file_path',  f'/data01/bgutman/parkinson_ebm/data/{file_name}',\n",
    "                     '--output', f'/data01/bgutman/parkinson_ebm/results/mc_mc_results/{experiment}',\n",
    "                     '--point_probability', f'{proba}',\n",
    "                     '--col_suffix', 'thickavg']\n",
    "            if prior:\n",
    "                run.append(f'--connectome_prior {prior}')\n",
    "            run = ' '.join(run)\n",
    "            print(run)\n",
    "            print('===')"
   ]
  },
  {
   "cell_type": "code",
   "execution_count": null,
   "metadata": {},
   "outputs": [],
   "source": []
  }
 ],
 "metadata": {
  "kernelspec": {
   "display_name": "Python 3",
   "language": "python",
   "name": "python3"
  },
  "language_info": {
   "codemirror_mode": {
    "name": "ipython",
    "version": 3
   },
   "file_extension": ".py",
   "mimetype": "text/x-python",
   "name": "python",
   "nbconvert_exporter": "python",
   "pygments_lexer": "ipython3",
   "version": "3.7.3"
  }
 },
 "nbformat": 4,
 "nbformat_minor": 2
}
