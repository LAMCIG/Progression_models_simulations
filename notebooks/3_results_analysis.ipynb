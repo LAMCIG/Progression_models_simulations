{
 "cells": [
  {
   "cell_type": "code",
   "execution_count": 7,
   "metadata": {},
   "outputs": [],
   "source": [
    "import pandas as pd\n",
    "import numpy as np\n",
    "from pathlib import Path"
   ]
  },
  {
   "cell_type": "code",
   "execution_count": 8,
   "metadata": {},
   "outputs": [],
   "source": [
    "folder = Path('/data01/bgutman/parkinson_ebm/results/mc_mc_results')"
   ]
  },
  {
   "cell_type": "code",
   "execution_count": 5,
   "metadata": {},
   "outputs": [],
   "source": [
    "# folder = Path('/data01/bgutman/MRI_data/PPMI/EBM_data/')\n",
    "# data = pd.read_csv(folder / 'corrected_ENIGMA-PD_Mixed_Effects_train_test_split.csv', index_col=0)"
   ]
  },
  {
   "cell_type": "markdown",
   "metadata": {},
   "source": [
    "# old results"
   ]
  },
  {
   "cell_type": "code",
   "execution_count": 9,
   "metadata": {},
   "outputs": [],
   "source": [
    "# Load results from MCMC run\n",
    "best_orders = {}\n",
    "# CORRECTED PARKINSON\n",
    "# No connectivity prior\n",
    "all_orders = np.load(folder / 'logs/order_mcmc.npy')\n",
    "order_map, best_order = get_optimal_order(all_orders)\n",
    "best_orders['order_mcmc'] = best_order\n",
    "\n",
    "# With connectivity prior\n",
    "all_orders_prior = np.load(folder / 'logs/prior_order_mcmc.npy')\n",
    "order_map_prior, best_order = get_optimal_order(all_orders_prior)\n",
    "best_orders['prior_order_mcmc'] = best_order\n",
    "\n",
    "# UNCORRECTED PARKINSON\n",
    "# No connectivity prior\n",
    "all_orders = np.load(folder / 'logs/uncorrected_order_mcmc.npy')\n",
    "order_map, best_order = get_optimal_order(all_orders)\n",
    "best_orders['uncorrected_order_mcmc'] = best_order\n",
    "\n",
    "# With connectivity prior\n",
    "all_orders_prior = np.load(folder / 'logs/prior_uncorrected_order_mcmc.npy')\n",
    "order_map_prior, best_order = get_optimal_order(all_orders_prior)\n",
    "best_orders['prior_uncorrected_order_mcmc'] = best_order\n",
    "\n",
    "\n",
    "# UNCORRECTED ADNI\n",
    "# No connectivity prior\n",
    "all_orders = np.load(folder / 'logs/adni_order_mcmc.npy')\n",
    "order_map, best_order = get_optimal_order(all_orders)\n",
    "best_orders['adni_order_mcmc'] = best_order\n",
    "\n",
    "# With connectivity prior\n",
    "all_orders_prior = np.load(folder / 'logs/adni_prior_order_mcmc.npy')\n",
    "order_map_prior, best_order = get_optimal_order(all_orders_prior)\n",
    "best_orders['adni_prior_order_mcmc'] = best_order\n",
    "\n",
    "\n",
    "# UNCORRECTED ADNI only NC AD\n",
    "# No connectivity prior\n",
    "all_orders = np.load(folder / 'logs/trunc_adni_order_mcmc.npy')\n",
    "order_map, best_order = get_optimal_order(all_orders)\n",
    "best_orders['adni_trunc_order_mcmc'] = best_order\n",
    "\n",
    "# With connectivity prior\n",
    "all_orders_prior = np.load(folder / 'logs/adni_prior_trunc_order_mcmc.npy')\n",
    "order_map_prior, best_order = get_optimal_order(all_orders_prior)\n",
    "best_orders['adni_prior_trunc_order_mcmc'] = best_order\n"
   ]
  },
  {
   "cell_type": "code",
   "execution_count": 10,
   "metadata": {},
   "outputs": [],
   "source": [
    "# best_orders"
   ]
  },
  {
   "cell_type": "code",
   "execution_count": 29,
   "metadata": {},
   "outputs": [],
   "source": [
    "# cols= np.array([c for c in data.columns if 'thick' in c])\n",
    "# cols = np.array(['_'.join(c.split('_')[:-1]) for c in cols])"
   ]
  },
  {
   "cell_type": "markdown",
   "metadata": {},
   "source": [
    "# very old results"
   ]
  },
  {
   "cell_type": "code",
   "execution_count": 34,
   "metadata": {},
   "outputs": [],
   "source": [
    "best_order_prior_old = np.array([ 4,  5, 28, 65, 38, 48, 39, 41, 47, 62, 63, 40, 57,  7, 31, 13, 29,\n",
    "       17, 18, 16,  6, 22, 56, 36, 26,  2, 25, 10, 30, 60, 49, 55, 42, 43,\n",
    "       61, 54, 50, 52, 59, 51, 44, 67, 66, 34,  8, 23, 27,  9, 11, 14, 19,\n",
    "        3, 37, 53, 45, 46, 64, 24, 12, 33, 32,  0, 58, 35,  1, 21, 15, 20])\n",
    "\n",
    "\n",
    "best_order_aver_prior_old = np.array([17, 28, 38, 65, 13,  7,  5,  4, 31, 10, 26, 25,  0, 33, 62, 47, 39,\n",
    "       48, 41, 40, 36, 16, 18, 29, 27, 42, 53, 59, 30, 12, 46, 67, 66, 57,\n",
    "       37,  3, 19,  9, 43, 51, 52, 50, 34, 63, 54, 61,  8, 32,  6,  2, 22,\n",
    "       55, 49, 56, 60, 35, 58, 24, 64, 44, 45, 11, 14, 23, 20, 15, 21,  1])\n",
    "\n",
    "best_order_plain_old = np.array([17,  5, 28, 39, 47, 38, 65, 62,  7, 40, 13, 26, 10,  0,  4, 31, 48,\n",
    "       67, 33, 41, 60, 25, 63, 57, 50, 44,  2, 16, 36, 29, 23,  6,  9, 18,\n",
    "       27, 22, 56, 14,  8, 53, 42, 59, 46, 43, 54, 61, 20, 45, 49,  3, 19,\n",
    "       37, 55, 52, 30, 24, 21, 34, 58, 66, 51, 12, 32, 35, 11, 64, 15,  1])\n",
    "\n"
   ]
  },
  {
   "cell_type": "code",
   "execution_count": 57,
   "metadata": {},
   "outputs": [],
   "source": [
    "orders = pd.DataFrame()\n",
    "orders['adni_order_mcmc'] = cols[best_orders['adni_order_mcmc']]\n",
    "orders['adni_prior_order_mcmc'] = cols[best_orders['adni_prior_order_mcmc']]\n",
    "orders['adni_best_order_plain_old'] = cols[best_order_plain_old]\n",
    "orders['adni_best_order_prior_old'] = cols[best_order_prior_old]\n",
    "orders['adni_best_order_aver_prior_old'] = cols[best_order_aver_prior_old]\n",
    "orders['adni_trunc_order_mcmc'] = cols[best_orders['adni_trunc_order_mcmc']]\n",
    "orders['adni_prior_trunc_order_mcmc'] = cols[best_orders['adni_prior_trunc_order_mcmc']]\n",
    "orders['order_mcmc'] = cols[best_orders['order_mcmc']]\n",
    "orders['prior_order_mcmc'] = cols[best_orders['prior_order_mcmc']]\n",
    "orders['uncorrected_order_mcmc'] = cols[best_orders['uncorrected_order_mcmc']]\n",
    "orders['prior_uncorrected_order_mcmc'] = cols[best_orders['prior_uncorrected_order_mcmc']]\n",
    "\n",
    "orders['adni_trunc_order_mcmc'] = cols[best_orders['adni_trunc_order_mcmc']]\n",
    "orders['adni_prior_trunc_order_mcmc'] = cols[best_orders['adni_prior_trunc_order_mcmc']]"
   ]
  },
  {
   "cell_type": "code",
   "execution_count": 58,
   "metadata": {
    "scrolled": false
   },
   "outputs": [],
   "source": [
    "orders.to_csv('/data01/bgutman/MRI_data/PPMI/EBM_data/orders_all_experiments.csv')"
   ]
  },
  {
   "cell_type": "code",
   "execution_count": 59,
   "metadata": {},
   "outputs": [
    {
     "data": {
      "text/html": [
       "<div>\n",
       "<style scoped>\n",
       "    .dataframe tbody tr th:only-of-type {\n",
       "        vertical-align: middle;\n",
       "    }\n",
       "\n",
       "    .dataframe tbody tr th {\n",
       "        vertical-align: top;\n",
       "    }\n",
       "\n",
       "    .dataframe thead th {\n",
       "        text-align: right;\n",
       "    }\n",
       "</style>\n",
       "<table border=\"1\" class=\"dataframe\">\n",
       "  <thead>\n",
       "    <tr style=\"text-align: right;\">\n",
       "      <th></th>\n",
       "      <th>adni_order_mcmc</th>\n",
       "      <th>adni_prior_order_mcmc</th>\n",
       "      <th>adni_best_order_plain_old</th>\n",
       "      <th>adni_best_order_prior_old</th>\n",
       "      <th>adni_best_order_aver_prior_old</th>\n",
       "      <th>adni_trunc_order_mcmc</th>\n",
       "      <th>adni_prior_trunc_order_mcmc</th>\n",
       "      <th>order_mcmc</th>\n",
       "      <th>prior_order_mcmc</th>\n",
       "      <th>uncorrected_order_mcmc</th>\n",
       "      <th>prior_uncorrected_order_mcmc</th>\n",
       "    </tr>\n",
       "  </thead>\n",
       "  <tbody>\n",
       "    <tr>\n",
       "      <th>0</th>\n",
       "      <td>R_entorhinal</td>\n",
       "      <td>R_entorhinal</td>\n",
       "      <td>L_parsorbitalis</td>\n",
       "      <td>L_entorhinal</td>\n",
       "      <td>L_parsorbitalis</td>\n",
       "      <td>R_entorhinal</td>\n",
       "      <td>R_entorhinal</td>\n",
       "      <td>R_lateraloccipital</td>\n",
       "      <td>R_lateraloccipital</td>\n",
       "      <td>R_lateralorbitofrontal</td>\n",
       "      <td>R_lateralorbitofrontal</td>\n",
       "    </tr>\n",
       "    <tr>\n",
       "      <th>1</th>\n",
       "      <td>L_entorhinal</td>\n",
       "      <td>L_entorhinal</td>\n",
       "      <td>L_fusiform</td>\n",
       "      <td>L_fusiform</td>\n",
       "      <td>L_superiortemporal</td>\n",
       "      <td>L_entorhinal</td>\n",
       "      <td>L_entorhinal</td>\n",
       "      <td>L_lateraloccipital</td>\n",
       "      <td>R_inferiorparietal</td>\n",
       "      <td>R_inferiortemporal</td>\n",
       "      <td>R_inferiortemporal</td>\n",
       "    </tr>\n",
       "    <tr>\n",
       "      <th>2</th>\n",
       "      <td>L_inferiortemporal</td>\n",
       "      <td>L_inferiortemporal</td>\n",
       "      <td>L_superiortemporal</td>\n",
       "      <td>L_superiortemporal</td>\n",
       "      <td>R_entorhinal</td>\n",
       "      <td>L_inferiortemporal</td>\n",
       "      <td>L_inferiortemporal</td>\n",
       "      <td>L_inferiorparietal</td>\n",
       "      <td>L_inferiorparietal</td>\n",
       "      <td>R_superiorfrontal</td>\n",
       "      <td>R_superiorfrontal</td>\n",
       "    </tr>\n",
       "    <tr>\n",
       "      <th>3</th>\n",
       "      <td>R_inferiortemporal</td>\n",
       "      <td>R_inferiortemporal</td>\n",
       "      <td>R_fusiform</td>\n",
       "      <td>R_temporalpole</td>\n",
       "      <td>R_temporalpole</td>\n",
       "      <td>R_inferiortemporal</td>\n",
       "      <td>R_inferiortemporal</td>\n",
       "      <td>R_inferiorparietal</td>\n",
       "      <td>R_superiorparietal</td>\n",
       "      <td>R_superiortemporal</td>\n",
       "      <td>R_superiortemporal</td>\n",
       "    </tr>\n",
       "    <tr>\n",
       "      <th>4</th>\n",
       "      <td>L_rostralanteriorcingulate</td>\n",
       "      <td>L_rostralanteriorcingulate</td>\n",
       "      <td>R_middletemporal</td>\n",
       "      <td>R_entorhinal</td>\n",
       "      <td>L_middletemporal</td>\n",
       "      <td>L_rostralanteriorcingulate</td>\n",
       "      <td>L_rostralanteriorcingulate</td>\n",
       "      <td>R_superiorparietal</td>\n",
       "      <td>L_superiorparietal</td>\n",
       "      <td>R_postcentral</td>\n",
       "      <td>R_postcentral</td>\n",
       "    </tr>\n",
       "    <tr>\n",
       "      <th>5</th>\n",
       "      <td>L_middletemporal</td>\n",
       "      <td>L_middletemporal</td>\n",
       "      <td>R_entorhinal</td>\n",
       "      <td>R_parahippocampal</td>\n",
       "      <td>L_inferiortemporal</td>\n",
       "      <td>R_fusiform</td>\n",
       "      <td>R_fusiform</td>\n",
       "      <td>L_superiorparietal</td>\n",
       "      <td>L_precuneus</td>\n",
       "      <td>R_middletemporal</td>\n",
       "      <td>R_middletemporal</td>\n",
       "    </tr>\n",
       "    <tr>\n",
       "      <th>6</th>\n",
       "      <td>R_fusiform</td>\n",
       "      <td>R_fusiform</td>\n",
       "      <td>R_temporalpole</td>\n",
       "      <td>R_fusiform</td>\n",
       "      <td>L_fusiform</td>\n",
       "      <td>R_middletemporal</td>\n",
       "      <td>R_middletemporal</td>\n",
       "      <td>L_precuneus</td>\n",
       "      <td>R_precuneus</td>\n",
       "      <td>L_lateraloccipital</td>\n",
       "      <td>L_lateraloccipital</td>\n",
       "    </tr>\n",
       "    <tr>\n",
       "      <th>7</th>\n",
       "      <td>R_bankssts</td>\n",
       "      <td>R_bankssts</td>\n",
       "      <td>R_superiortemporal</td>\n",
       "      <td>R_inferiortemporal</td>\n",
       "      <td>L_entorhinal</td>\n",
       "      <td>L_precuneus</td>\n",
       "      <td>L_precuneus</td>\n",
       "      <td>R_precuneus</td>\n",
       "      <td>L_supramarginal</td>\n",
       "      <td>L_postcentral</td>\n",
       "      <td>L_postcentral</td>\n",
       "    </tr>\n",
       "    <tr>\n",
       "      <th>8</th>\n",
       "      <td>L_inferiorparietal</td>\n",
       "      <td>R_middletemporal</td>\n",
       "      <td>L_inferiortemporal</td>\n",
       "      <td>R_middletemporal</td>\n",
       "      <td>L_temporalpole</td>\n",
       "      <td>R_medialorbitofrontal</td>\n",
       "      <td>L_medialorbitofrontal</td>\n",
       "      <td>L_supramarginal</td>\n",
       "      <td>L_paracentral</td>\n",
       "      <td>L_superiorparietal</td>\n",
       "      <td>L_superiorparietal</td>\n",
       "    </tr>\n",
       "    <tr>\n",
       "      <th>9</th>\n",
       "      <td>L_bankssts</td>\n",
       "      <td>L_inferiorparietal</td>\n",
       "      <td>R_inferiorparietal</td>\n",
       "      <td>R_superiortemporal</td>\n",
       "      <td>L_lateralorbitofrontal</td>\n",
       "      <td>L_medialorbitofrontal</td>\n",
       "      <td>R_medialorbitofrontal</td>\n",
       "      <td>L_paracentral</td>\n",
       "      <td>L_precentral</td>\n",
       "      <td>L_inferiorparietal</td>\n",
       "      <td>L_inferiorparietal</td>\n",
       "    </tr>\n",
       "  </tbody>\n",
       "</table>\n",
       "</div>"
      ],
      "text/plain": [
       "              adni_order_mcmc       adni_prior_order_mcmc  \\\n",
       "0                R_entorhinal                R_entorhinal   \n",
       "1                L_entorhinal                L_entorhinal   \n",
       "2          L_inferiortemporal          L_inferiortemporal   \n",
       "3          R_inferiortemporal          R_inferiortemporal   \n",
       "4  L_rostralanteriorcingulate  L_rostralanteriorcingulate   \n",
       "5            L_middletemporal            L_middletemporal   \n",
       "6                  R_fusiform                  R_fusiform   \n",
       "7                  R_bankssts                  R_bankssts   \n",
       "8          L_inferiorparietal            R_middletemporal   \n",
       "9                  L_bankssts          L_inferiorparietal   \n",
       "\n",
       "  adni_best_order_plain_old adni_best_order_prior_old  \\\n",
       "0           L_parsorbitalis              L_entorhinal   \n",
       "1                L_fusiform                L_fusiform   \n",
       "2        L_superiortemporal        L_superiortemporal   \n",
       "3                R_fusiform            R_temporalpole   \n",
       "4          R_middletemporal              R_entorhinal   \n",
       "5              R_entorhinal         R_parahippocampal   \n",
       "6            R_temporalpole                R_fusiform   \n",
       "7        R_superiortemporal        R_inferiortemporal   \n",
       "8        L_inferiortemporal          R_middletemporal   \n",
       "9        R_inferiorparietal        R_superiortemporal   \n",
       "\n",
       "  adni_best_order_aver_prior_old       adni_trunc_order_mcmc  \\\n",
       "0                L_parsorbitalis                R_entorhinal   \n",
       "1             L_superiortemporal                L_entorhinal   \n",
       "2                   R_entorhinal          L_inferiortemporal   \n",
       "3                 R_temporalpole          R_inferiortemporal   \n",
       "4               L_middletemporal  L_rostralanteriorcingulate   \n",
       "5             L_inferiortemporal                  R_fusiform   \n",
       "6                     L_fusiform            R_middletemporal   \n",
       "7                   L_entorhinal                 L_precuneus   \n",
       "8                 L_temporalpole       R_medialorbitofrontal   \n",
       "9         L_lateralorbitofrontal       L_medialorbitofrontal   \n",
       "\n",
       "  adni_prior_trunc_order_mcmc          order_mcmc    prior_order_mcmc  \\\n",
       "0                R_entorhinal  R_lateraloccipital  R_lateraloccipital   \n",
       "1                L_entorhinal  L_lateraloccipital  R_inferiorparietal   \n",
       "2          L_inferiortemporal  L_inferiorparietal  L_inferiorparietal   \n",
       "3          R_inferiortemporal  R_inferiorparietal  R_superiorparietal   \n",
       "4  L_rostralanteriorcingulate  R_superiorparietal  L_superiorparietal   \n",
       "5                  R_fusiform  L_superiorparietal         L_precuneus   \n",
       "6            R_middletemporal         L_precuneus         R_precuneus   \n",
       "7                 L_precuneus         R_precuneus     L_supramarginal   \n",
       "8       L_medialorbitofrontal     L_supramarginal       L_paracentral   \n",
       "9       R_medialorbitofrontal       L_paracentral        L_precentral   \n",
       "\n",
       "   uncorrected_order_mcmc prior_uncorrected_order_mcmc  \n",
       "0  R_lateralorbitofrontal       R_lateralorbitofrontal  \n",
       "1      R_inferiortemporal           R_inferiortemporal  \n",
       "2       R_superiorfrontal            R_superiorfrontal  \n",
       "3      R_superiortemporal           R_superiortemporal  \n",
       "4           R_postcentral                R_postcentral  \n",
       "5        R_middletemporal             R_middletemporal  \n",
       "6      L_lateraloccipital           L_lateraloccipital  \n",
       "7           L_postcentral                L_postcentral  \n",
       "8      L_superiorparietal           L_superiorparietal  \n",
       "9      L_inferiorparietal           L_inferiorparietal  "
      ]
     },
     "execution_count": 59,
     "metadata": {},
     "output_type": "execute_result"
    }
   ],
   "source": [
    "orders.head(10)"
   ]
  },
  {
   "cell_type": "code",
   "execution_count": 64,
   "metadata": {},
   "outputs": [],
   "source": [
    "orders = pd.DataFrame()\n",
    "orders['adni_order_mcmc'] = np.argsort(best_orders['adni_order_mcmc'])\n",
    "orders['adni_prior_order_mcmc'] = np.argsort(best_orders['adni_prior_order_mcmc'])\n",
    "orders['adni_best_order_plain_old'] = np.argsort(best_order_plain_old)\n",
    "orders['adni_best_order_prior_old'] = np.argsort(best_order_prior_old)\n",
    "orders['adni_best_order_aver_prior_old'] = np.argsort(best_order_aver_prior_old)\n",
    "orders['adni_trunc_order_mcmc'] = np.argsort(best_orders['adni_trunc_order_mcmc'])\n",
    "orders['adni_prior_trunc_order_mcmc'] = np.argsort(best_orders['adni_prior_trunc_order_mcmc'])\n",
    "orders['order_mcmc'] = np.argsort(best_orders['order_mcmc'])\n",
    "orders['prior_order_mcmc'] = np.argsort(best_orders['prior_order_mcmc'])\n",
    "orders['uncorrected_order_mcmc'] = np.argsort(best_orders['uncorrected_order_mcmc'])\n",
    "orders['prior_uncorrected_order_mcmc'] = np.argsort(best_orders['prior_uncorrected_order_mcmc'])"
   ]
  },
  {
   "cell_type": "code",
   "execution_count": 27,
   "metadata": {},
   "outputs": [],
   "source": [
    "from scipy.stats import spearmanr"
   ]
  },
  {
   "cell_type": "code",
   "execution_count": 69,
   "metadata": {
    "scrolled": false
   },
   "outputs": [
    {
     "name": "stdout",
     "output_type": "stream",
     "text": [
      "adni_best_order_aver_prior_old adni_prior_trunc_order_mcmc\n",
      "SpearmanrResult(correlation=0.1515151515151515, pvalue=0.6760651759978538)\n",
      "========\n",
      "\n",
      "adni_prior_trunc_order_mcmc adni_best_order_aver_prior_old\n",
      "SpearmanrResult(correlation=0.1515151515151515, pvalue=0.6760651759978538)\n",
      "========\n",
      "\n"
     ]
    }
   ],
   "source": [
    "for c1 in orders[['adni_best_order_aver_prior_old', 'adni_prior_trunc_order_mcmc']].columns:\n",
    "    for c2 in orders[['adni_best_order_aver_prior_old', 'adni_prior_trunc_order_mcmc']].columns:\n",
    "        if c1 != c2:\n",
    "            print(c1, c2)\n",
    "            print(spearmanr(orders[c1][:10], orders[c2][:10]))\n",
    "            print('========')\n",
    "            print('')"
   ]
  },
  {
   "cell_type": "code",
   "execution_count": null,
   "metadata": {},
   "outputs": [],
   "source": []
  },
  {
   "cell_type": "code",
   "execution_count": null,
   "metadata": {},
   "outputs": [],
   "source": []
  },
  {
   "cell_type": "markdown",
   "metadata": {},
   "source": [
    "# newer results"
   ]
  },
  {
   "cell_type": "code",
   "execution_count": 15,
   "metadata": {},
   "outputs": [
    {
     "data": {
      "text/plain": [
       "[PosixPath('/data01/bgutman/parkinson_ebm/results/mc_mc_results/adni/point_proba/aver_prior/order_greedy_ascent.npy'),\n",
       " PosixPath('/data01/bgutman/parkinson_ebm/results/mc_mc_results/adni/point_proba/aver_prior/loglike_greedy_ascent.npy'),\n",
       " PosixPath('/data01/bgutman/parkinson_ebm/results/mc_mc_results/adni/point_proba/aver_prior/update_iters_greedy_ascent.npy'),\n",
       " PosixPath('/data01/bgutman/parkinson_ebm/results/mc_mc_results/adni/point_proba/aver_prior/order_mcmc.npy'),\n",
       " PosixPath('/data01/bgutman/parkinson_ebm/results/mc_mc_results/adni/point_proba/aver_prior/loglike_mcmc.npy'),\n",
       " PosixPath('/data01/bgutman/parkinson_ebm/results/mc_mc_results/adni/point_proba/aver_prior/update_iters_mcmc.npy'),\n",
       " PosixPath('/data01/bgutman/parkinson_ebm/results/mc_mc_results/adni/point_proba/aver_prior/probas_mcmc.npy')]"
      ]
     },
     "execution_count": 15,
     "metadata": {},
     "output_type": "execute_result"
    }
   ],
   "source": [
    "list((folder / 'adni' / 'point_proba' / 'aver_prior').glob('*.npy'))"
   ]
  },
  {
   "cell_type": "code",
   "execution_count": 53,
   "metadata": {},
   "outputs": [],
   "source": [
    "new_adni = np.load(folder / 'adni' / 'point_proba' / 'aver_prior' / 'order_mcmc.npy')\n",
    "new_adni_cdf = np.load(folder / 'adni' / 'cdf_proba' / 'no_prior' / 'order_mcmc.npy')\n"
   ]
  },
  {
   "cell_type": "code",
   "execution_count": 55,
   "metadata": {},
   "outputs": [
    {
     "data": {
      "text/plain": [
       "(350002, 68)"
      ]
     },
     "execution_count": 55,
     "metadata": {},
     "output_type": "execute_result"
    }
   ],
   "source": []
  },
  {
   "cell_type": "code",
   "execution_count": 22,
   "metadata": {},
   "outputs": [
    {
     "data": {
      "text/plain": [
       "(336933, 68)"
      ]
     },
     "execution_count": 22,
     "metadata": {},
     "output_type": "execute_result"
    }
   ],
   "source": [
    "new_adni.shape"
   ]
  },
  {
   "cell_type": "code",
   "execution_count": 20,
   "metadata": {},
   "outputs": [],
   "source": [
    "order_map, best_order = get_optimal_order(new_adni)"
   ]
  },
  {
   "cell_type": "code",
   "execution_count": 46,
   "metadata": {},
   "outputs": [],
   "source": [
    "like = np.load('/data01/bgutman/parkinson_ebm/results/mc_mc_results/adni/point_proba/aver_prior/loglike_mcmc.npy')\n",
    "like_cdf = np.load('/data01/bgutman/parkinson_ebm/results/mc_mc_results/adni/cdf_proba/aver_prior/loglike_mcmc.npy')"
   ]
  },
  {
   "cell_type": "code",
   "execution_count": 25,
   "metadata": {},
   "outputs": [],
   "source": [
    "import matplotlib.pyplot as plt\n",
    "%matplotlib inline"
   ]
  },
  {
   "cell_type": "code",
   "execution_count": 26,
   "metadata": {},
   "outputs": [
    {
     "data": {
      "text/plain": [
       "[<matplotlib.lines.Line2D at 0x7f1f5a4be9e8>]"
      ]
     },
     "execution_count": 26,
     "metadata": {},
     "output_type": "execute_result"
    },
    {
     "data": {
      "image/png": "[encoded data removed]",
      "text/plain": [
       "<Figure size 432x288 with 1 Axes>"
      ]
     },
     "metadata": {
      "needs_background": "light"
     },
     "output_type": "display_data"
    }
   ],
   "source": [
    "plt.plot(like);"
   ]
  },
  {
   "cell_type": "code",
   "execution_count": 30,
   "metadata": {},
   "outputs": [
    {
     "data": {
      "text/plain": [
       "-56547.96389301381"
      ]
     },
     "execution_count": 30,
     "metadata": {},
     "output_type": "execute_result"
    }
   ],
   "source": [
    "like[0]"
   ]
  },
  {
   "cell_type": "code",
   "execution_count": 47,
   "metadata": {},
   "outputs": [
    {
     "data": {
      "text/plain": [
       "0"
      ]
     },
     "execution_count": 47,
     "metadata": {},
     "output_type": "execute_result"
    }
   ],
   "source": [
    "np.argmax(like_cdf)"
   ]
  },
  {
   "cell_type": "code",
   "execution_count": 38,
   "metadata": {},
   "outputs": [
    {
     "data": {
      "text/plain": [
       "SpearmanrResult(correlation=0.7366492346451884, pvalue=8.056994429335501e-13)"
      ]
     },
     "execution_count": 38,
     "metadata": {},
     "output_type": "execute_result"
    }
   ],
   "source": [
    "spearmanr(np.argsort(new_adni[0]), np.argsort(best_order))"
   ]
  },
  {
   "cell_type": "code",
   "execution_count": 39,
   "metadata": {},
   "outputs": [
    {
     "data": {
      "text/plain": [
       "SpearmanrResult(correlation=0.793335114707791, pvalue=7.277964326626279e-16)"
      ]
     },
     "execution_count": 39,
     "metadata": {},
     "output_type": "execute_result"
    }
   ],
   "source": [
    "spearmanr(np.argsort(new_adni[0]), np.argsort(new_adni[-1]))"
   ]
  },
  {
   "cell_type": "code",
   "execution_count": 21,
   "metadata": {},
   "outputs": [
    {
     "data": {
      "text/plain": [
       "array([14,  4, 38, 48, 65, 31, 13, 47, 41, 39,  7, 34, 67, 46, 32, 63, 40,\n",
       "       36,  2,  6, 25, 29, 26, 30,  0, 66, 23, 60, 22, 59, 18, 20,  8, 33,\n",
       "       28, 54, 42, 56, 12, 49, 16, 58, 57, 52, 43, 35, 15, 44, 55, 37, 51,\n",
       "       64, 11, 45, 53, 19, 10,  9, 24, 21,  3,  1, 50, 61, 17, 27,  5, 62])"
      ]
     },
     "execution_count": 21,
     "metadata": {},
     "output_type": "execute_result"
    }
   ],
   "source": [
    "best_order"
   ]
  },
  {
   "cell_type": "code",
   "execution_count": 40,
   "metadata": {},
   "outputs": [],
   "source": [
    "best_order_aver_prior_old = np.array([17, 28, 38, 65, 13,  7,  5,  4, 31, 10, 26, 25,  0, 33, 62, 47, 39,\n",
    "       48, 41, 40, 36, 16, 18, 29, 27, 42, 53, 59, 30, 12, 46, 67, 66, 57,\n",
    "       37,  3, 19,  9, 43, 51, 52, 50, 34, 63, 54, 61,  8, 32,  6,  2, 22,\n",
    "       55, 49, 56, 60, 35, 58, 24, 64, 44, 45, 11, 14, 23, 20, 15, 21,  1])"
   ]
  },
  {
   "cell_type": "code",
   "execution_count": 37,
   "metadata": {},
   "outputs": [
    {
     "data": {
      "text/plain": [
       "array([14,  4, 38, 48, 65, 31, 13, 47, 41, 39,  7,  5, 34, 40, 32,  0,  6,\n",
       "       27, 23, 29, 17, 25, 30, 64, 60, 26, 18,  2, 36, 59,  8, 22, 20, 66,\n",
       "       62, 63, 54, 67, 46, 12, 33, 28, 61, 42, 11, 10, 16, 37, 49, 57, 43,\n",
       "       44, 52, 50, 56, 55, 35, 58, 51, 45, 53, 15, 24,  1, 21,  3, 19,  9])"
      ]
     },
     "execution_count": 37,
     "metadata": {},
     "output_type": "execute_result"
    }
   ],
   "source": [
    "new_adni[0]"
   ]
  },
  {
   "cell_type": "code",
   "execution_count": 41,
   "metadata": {},
   "outputs": [
    {
     "data": {
      "text/plain": [
       "SpearmanrResult(correlation=0.5146009085009734, pvalue=7.143521746608697e-06)"
      ]
     },
     "execution_count": 41,
     "metadata": {},
     "output_type": "execute_result"
    }
   ],
   "source": [
    "spearmanr(np.argsort(new_adni[0]), np.argsort(best_order_aver_prior_old))"
   ]
  },
  {
   "cell_type": "code",
   "execution_count": 42,
   "metadata": {},
   "outputs": [
    {
     "data": {
      "text/plain": [
       "SpearmanrResult(correlation=0.3228613963430927, pvalue=0.007245417216825878)"
      ]
     },
     "execution_count": 42,
     "metadata": {},
     "output_type": "execute_result"
    }
   ],
   "source": [
    "spearmanr(np.argsort(best_order), np.argsort(best_order_aver_prior_old))"
   ]
  },
  {
   "cell_type": "code",
   "execution_count": 45,
   "metadata": {},
   "outputs": [
    {
     "data": {
      "text/plain": [
       "array([[14,  4, 38, ...,  3, 19,  9],\n",
       "       [14,  4, 38, ...,  3, 19,  9],\n",
       "       [14,  4, 38, ...,  3, 19,  9],\n",
       "       ...,\n",
       "       [14,  4, 38, ..., 51,  9,  3],\n",
       "       [14,  4, 38, ..., 51,  9,  3],\n",
       "       [14,  4, 38, ..., 51,  9,  3]])"
      ]
     },
     "execution_count": 45,
     "metadata": {},
     "output_type": "execute_result"
    }
   ],
   "source": [
    "new_adni_cdf"
   ]
  },
  {
   "cell_type": "code",
   "execution_count": 48,
   "metadata": {},
   "outputs": [
    {
     "data": {
      "text/plain": [
       "SpearmanrResult(correlation=0.5146009085009734, pvalue=7.143521746608697e-06)"
      ]
     },
     "execution_count": 48,
     "metadata": {},
     "output_type": "execute_result"
    }
   ],
   "source": [
    "spearmanr(np.argsort(new_adni_cdf[0]), np.argsort(best_order_aver_prior_old))"
   ]
  },
  {
   "cell_type": "code",
   "execution_count": 50,
   "metadata": {},
   "outputs": [
    {
     "data": {
      "text/plain": [
       "True"
      ]
     },
     "execution_count": 50,
     "metadata": {},
     "output_type": "execute_result"
    }
   ],
   "source": [
    "np.allclose(new_adni, new_adni_cdf)"
   ]
  },
  {
   "cell_type": "code",
   "execution_count": 51,
   "metadata": {},
   "outputs": [
    {
     "data": {
      "text/plain": [
       "False"
      ]
     },
     "execution_count": 51,
     "metadata": {},
     "output_type": "execute_result"
    }
   ],
   "source": [
    "bool(0)"
   ]
  },
  {
   "cell_type": "code",
   "execution_count": 52,
   "metadata": {},
   "outputs": [
    {
     "data": {
      "text/plain": [
       "True"
      ]
     },
     "execution_count": 52,
     "metadata": {},
     "output_type": "execute_result"
    }
   ],
   "source": [
    "bool(1)"
   ]
  },
  {
   "cell_type": "code",
   "execution_count": 68,
   "metadata": {},
   "outputs": [],
   "source": [
    "df = pd.read_csv('/data01/bgutman/parkinson_ebm/data/ENIGMA-PD-regional.csv', index_col=0)\n",
    "df = pd.read_csv('/data01/bgutman/parkinson_ebm/data/ENIGMA-PD-regional_corrected_mixed_effects.csv', index_col=0)"
   ]
  },
  {
   "cell_type": "code",
   "execution_count": 76,
   "metadata": {},
   "outputs": [],
   "source": [
    "like = np.load('/data01/bgutman/parkinson_ebm/results/mc_mc_results/parkinson/point_proba/aver_prior/loglike_mcmc.npy')\n",
    "order = np.load('/data01/bgutman/parkinson_ebm/results/mc_mc_results/parkinson/point_proba/aver_prior/order_mcmc.npy')"
   ]
  },
  {
   "cell_type": "code",
   "execution_count": 85,
   "metadata": {},
   "outputs": [
    {
     "data": {
      "text/plain": [
       "20058"
      ]
     },
     "execution_count": 85,
     "metadata": {},
     "output_type": "execute_result"
    }
   ],
   "source": [
    "np.argmax(like)"
   ]
  },
  {
   "cell_type": "code",
   "execution_count": 86,
   "metadata": {},
   "outputs": [],
   "source": [
    "best_order = order[20058]"
   ]
  },
  {
   "cell_type": "code",
   "execution_count": 83,
   "metadata": {},
   "outputs": [],
   "source": [
    "from pathlib import Path\n",
    "from sklearn.model_selection import train_test_split\n",
    "\n",
    "import pandas as pd\n",
    "import numpy as np\n",
    "\n",
    "from ebm.probability import log_distributions, fit_distributions, predict_stage\n",
    "from ebm.mcmc import greedy_ascent, mcmc, get_optimal_order\n",
    "\n",
    "import matplotlib.pyplot as plt\n",
    "%matplotlib inline"
   ]
  },
  {
   "cell_type": "code",
   "execution_count": 84,
   "metadata": {},
   "outputs": [],
   "source": [
    "folder = Path('/data01/bgutman/MRI_data/PPMI/EBM_data/')\n",
    "data = pd.read_csv(folder / 'corrected_ENIGMA-PD_Mixed_Effects_train_test_split.csv', index_col=0)\n",
    "df = pd.read_csv(folder / 'ENIGMA-PD-regional.csv') # to merge with data, to obtain patients' metadata\n",
    "\n",
    "train, test = train_test_split(data, stratify=data['cohort'], test_size=0.1, random_state=777)\n",
    "X_train = train.drop(['SubjID', 'Dx', 'Sex', 'Age', 'cohort'], axis=1).values\n",
    "y_train = train['Dx'].values\n",
    "X_test = test.drop(['SubjID', 'Dx', 'Sex', 'Age', 'cohort'], axis=1).values\n",
    "y_test = test['Dx'].values\n",
    "\n",
    "# Precompute train, test probability distributions P(x| E), P(x| not E)\n",
    "\n",
    "train_log_p_e, train_log_p_not_e = log_distributions(X_train, y_train)\n",
    "test_log_p_e, test_log_p_not_e = log_distributions(X_train, y_train, X_test=X_test, y_test=y_test)"
   ]
  },
  {
   "cell_type": "code",
   "execution_count": 88,
   "metadata": {},
   "outputs": [],
   "source": [
    "stages = predict_stage(best_order, train_log_p_e, train_log_p_not_e)"
   ]
  },
  {
   "cell_type": "code",
   "execution_count": 89,
   "metadata": {},
   "outputs": [],
   "source": [
    "folder = Path('/data01/bgutman/MRI_data/PPMI/EBM_data/')\n",
    "data = pd.read_csv(folder / 'corrected_ENIGMA-PD_Mixed_Effects_train_test_split.csv', index_col=0)\n",
    "df = pd.read_csv(folder / 'ENIGMA-PD-regional.csv') # to merge with data, to obtain patients' metadata"
   ]
  },
  {
   "cell_type": "code",
   "execution_count": 90,
   "metadata": {},
   "outputs": [],
   "source": [
    "probas = predict_stage(best_order, train_log_p_e, train_log_p_not_e).T\n",
    "stage = np.argmax(probas, axis=1)\n",
    "train['pred_stage'] = stage"
   ]
  },
  {
   "cell_type": "code",
   "execution_count": 91,
   "metadata": {},
   "outputs": [],
   "source": [
    "train_stages = pd.merge(left=df[['SubjID', 'site', 'cohort', 'HY1234']], right=train, on='SubjID', how='right')"
   ]
  },
  {
   "cell_type": "code",
   "execution_count": 93,
   "metadata": {},
   "outputs": [
    {
     "data": {
      "text/html": [
       "<div>\n",
       "<style scoped>\n",
       "    .dataframe tbody tr th:only-of-type {\n",
       "        vertical-align: middle;\n",
       "    }\n",
       "\n",
       "    .dataframe tbody tr th {\n",
       "        vertical-align: top;\n",
       "    }\n",
       "\n",
       "    .dataframe thead th {\n",
       "        text-align: right;\n",
       "    }\n",
       "</style>\n",
       "<table border=\"1\" class=\"dataframe\">\n",
       "  <thead>\n",
       "    <tr style=\"text-align: right;\">\n",
       "      <th></th>\n",
       "      <th>median</th>\n",
       "      <th>mean</th>\n",
       "      <th>std</th>\n",
       "      <th>count</th>\n",
       "    </tr>\n",
       "    <tr>\n",
       "      <th>HY1234</th>\n",
       "      <th></th>\n",
       "      <th></th>\n",
       "      <th></th>\n",
       "      <th></th>\n",
       "    </tr>\n",
       "  </thead>\n",
       "  <tbody>\n",
       "    <tr>\n",
       "      <th>0.0</th>\n",
       "      <td>29.0</td>\n",
       "      <td>31.287856</td>\n",
       "      <td>21.440004</td>\n",
       "      <td>667</td>\n",
       "    </tr>\n",
       "    <tr>\n",
       "      <th>1.0</th>\n",
       "      <td>29.0</td>\n",
       "      <td>31.660287</td>\n",
       "      <td>21.426404</td>\n",
       "      <td>209</td>\n",
       "    </tr>\n",
       "    <tr>\n",
       "      <th>2.0</th>\n",
       "      <td>28.0</td>\n",
       "      <td>31.625490</td>\n",
       "      <td>21.588920</td>\n",
       "      <td>510</td>\n",
       "    </tr>\n",
       "    <tr>\n",
       "      <th>3.0</th>\n",
       "      <td>26.5</td>\n",
       "      <td>31.783333</td>\n",
       "      <td>21.678004</td>\n",
       "      <td>120</td>\n",
       "    </tr>\n",
       "    <tr>\n",
       "      <th>4.0</th>\n",
       "      <td>41.5</td>\n",
       "      <td>36.968750</td>\n",
       "      <td>19.973344</td>\n",
       "      <td>32</td>\n",
       "    </tr>\n",
       "  </tbody>\n",
       "</table>\n",
       "</div>"
      ],
      "text/plain": [
       "        median       mean        std  count\n",
       "HY1234                                     \n",
       "0.0       29.0  31.287856  21.440004    667\n",
       "1.0       29.0  31.660287  21.426404    209\n",
       "2.0       28.0  31.625490  21.588920    510\n",
       "3.0       26.5  31.783333  21.678004    120\n",
       "4.0       41.5  36.968750  19.973344     32"
      ]
     },
     "execution_count": 93,
     "metadata": {},
     "output_type": "execute_result"
    }
   ],
   "source": [
    "train_stages[['HY1234', 'Dx', 'pred_stage']].groupby('HY1234')['pred_stage'].agg(['median','mean', 'std', 'count'])"
   ]
  },
  {
   "cell_type": "code",
   "execution_count": 94,
   "metadata": {},
   "outputs": [
    {
     "data": {
      "text/html": [
       "<div>\n",
       "<style scoped>\n",
       "    .dataframe tbody tr th:only-of-type {\n",
       "        vertical-align: middle;\n",
       "    }\n",
       "\n",
       "    .dataframe tbody tr th {\n",
       "        vertical-align: top;\n",
       "    }\n",
       "\n",
       "    .dataframe thead th {\n",
       "        text-align: right;\n",
       "    }\n",
       "</style>\n",
       "<table border=\"1\" class=\"dataframe\">\n",
       "  <thead>\n",
       "    <tr style=\"text-align: right;\">\n",
       "      <th></th>\n",
       "      <th></th>\n",
       "      <th>median</th>\n",
       "      <th>mean</th>\n",
       "      <th>std</th>\n",
       "      <th>count</th>\n",
       "    </tr>\n",
       "    <tr>\n",
       "      <th>site</th>\n",
       "      <th>HY1234</th>\n",
       "      <th></th>\n",
       "      <th></th>\n",
       "      <th></th>\n",
       "      <th></th>\n",
       "    </tr>\n",
       "  </thead>\n",
       "  <tbody>\n",
       "    <tr>\n",
       "      <th rowspan=\"5\" valign=\"top\">Bern</th>\n",
       "      <th>0.0</th>\n",
       "      <td>29.5</td>\n",
       "      <td>31.857143</td>\n",
       "      <td>22.127757</td>\n",
       "      <td>42</td>\n",
       "    </tr>\n",
       "    <tr>\n",
       "      <th>1.0</th>\n",
       "      <td>3.0</td>\n",
       "      <td>3.000000</td>\n",
       "      <td>NaN</td>\n",
       "      <td>1</td>\n",
       "    </tr>\n",
       "    <tr>\n",
       "      <th>2.0</th>\n",
       "      <td>28.5</td>\n",
       "      <td>31.714286</td>\n",
       "      <td>21.495719</td>\n",
       "      <td>14</td>\n",
       "    </tr>\n",
       "    <tr>\n",
       "      <th>3.0</th>\n",
       "      <td>56.0</td>\n",
       "      <td>46.100000</td>\n",
       "      <td>19.139546</td>\n",
       "      <td>10</td>\n",
       "    </tr>\n",
       "    <tr>\n",
       "      <th>4.0</th>\n",
       "      <td>55.0</td>\n",
       "      <td>48.500000</td>\n",
       "      <td>16.683325</td>\n",
       "      <td>4</td>\n",
       "    </tr>\n",
       "    <tr>\n",
       "      <th rowspan=\"5\" valign=\"top\">CGU</th>\n",
       "      <th>0.0</th>\n",
       "      <td>21.0</td>\n",
       "      <td>27.991597</td>\n",
       "      <td>21.411424</td>\n",
       "      <td>119</td>\n",
       "    </tr>\n",
       "    <tr>\n",
       "      <th>1.0</th>\n",
       "      <td>32.0</td>\n",
       "      <td>32.450000</td>\n",
       "      <td>22.608088</td>\n",
       "      <td>40</td>\n",
       "    </tr>\n",
       "    <tr>\n",
       "      <th>2.0</th>\n",
       "      <td>29.0</td>\n",
       "      <td>29.145833</td>\n",
       "      <td>18.731007</td>\n",
       "      <td>48</td>\n",
       "    </tr>\n",
       "    <tr>\n",
       "      <th>3.0</th>\n",
       "      <td>27.0</td>\n",
       "      <td>33.222222</td>\n",
       "      <td>21.455380</td>\n",
       "      <td>27</td>\n",
       "    </tr>\n",
       "    <tr>\n",
       "      <th>4.0</th>\n",
       "      <td>38.0</td>\n",
       "      <td>32.071429</td>\n",
       "      <td>18.804518</td>\n",
       "      <td>14</td>\n",
       "    </tr>\n",
       "    <tr>\n",
       "      <th rowspan=\"4\" valign=\"top\">FSL</th>\n",
       "      <th>0.0</th>\n",
       "      <td>27.0</td>\n",
       "      <td>31.914286</td>\n",
       "      <td>21.367060</td>\n",
       "      <td>35</td>\n",
       "    </tr>\n",
       "    <tr>\n",
       "      <th>1.0</th>\n",
       "      <td>15.5</td>\n",
       "      <td>21.000000</td>\n",
       "      <td>24.915858</td>\n",
       "      <td>6</td>\n",
       "    </tr>\n",
       "    <tr>\n",
       "      <th>2.0</th>\n",
       "      <td>27.0</td>\n",
       "      <td>33.136364</td>\n",
       "      <td>24.227681</td>\n",
       "      <td>22</td>\n",
       "    </tr>\n",
       "    <tr>\n",
       "      <th>3.0</th>\n",
       "      <td>19.5</td>\n",
       "      <td>19.500000</td>\n",
       "      <td>4.949747</td>\n",
       "      <td>2</td>\n",
       "    </tr>\n",
       "    <tr>\n",
       "      <th rowspan=\"4\" valign=\"top\">GRAZ</th>\n",
       "      <th>0.0</th>\n",
       "      <td>35.0</td>\n",
       "      <td>33.480519</td>\n",
       "      <td>21.214823</td>\n",
       "      <td>77</td>\n",
       "    </tr>\n",
       "    <tr>\n",
       "      <th>1.0</th>\n",
       "      <td>27.5</td>\n",
       "      <td>30.000000</td>\n",
       "      <td>22.504321</td>\n",
       "      <td>10</td>\n",
       "    </tr>\n",
       "    <tr>\n",
       "      <th>2.0</th>\n",
       "      <td>34.0</td>\n",
       "      <td>34.508772</td>\n",
       "      <td>21.172862</td>\n",
       "      <td>57</td>\n",
       "    </tr>\n",
       "    <tr>\n",
       "      <th>3.0</th>\n",
       "      <td>19.0</td>\n",
       "      <td>22.400000</td>\n",
       "      <td>16.562005</td>\n",
       "      <td>5</td>\n",
       "    </tr>\n",
       "    <tr>\n",
       "      <th rowspan=\"4\" valign=\"top\">Liege1</th>\n",
       "      <th>0.0</th>\n",
       "      <td>36.0</td>\n",
       "      <td>33.058824</td>\n",
       "      <td>20.302311</td>\n",
       "      <td>17</td>\n",
       "    </tr>\n",
       "    <tr>\n",
       "      <th>1.0</th>\n",
       "      <td>14.0</td>\n",
       "      <td>14.000000</td>\n",
       "      <td>7.071068</td>\n",
       "      <td>2</td>\n",
       "    </tr>\n",
       "    <tr>\n",
       "      <th>2.0</th>\n",
       "      <td>47.5</td>\n",
       "      <td>40.500000</td>\n",
       "      <td>20.315566</td>\n",
       "      <td>10</td>\n",
       "    </tr>\n",
       "    <tr>\n",
       "      <th>3.0</th>\n",
       "      <td>60.0</td>\n",
       "      <td>60.000000</td>\n",
       "      <td>1.414214</td>\n",
       "      <td>2</td>\n",
       "    </tr>\n",
       "    <tr>\n",
       "      <th rowspan=\"4\" valign=\"top\">Liege2</th>\n",
       "      <th>0.0</th>\n",
       "      <td>40.0</td>\n",
       "      <td>36.833333</td>\n",
       "      <td>15.882843</td>\n",
       "      <td>18</td>\n",
       "    </tr>\n",
       "    <tr>\n",
       "      <th>1.0</th>\n",
       "      <td>39.5</td>\n",
       "      <td>36.500000</td>\n",
       "      <td>17.121415</td>\n",
       "      <td>8</td>\n",
       "    </tr>\n",
       "    <tr>\n",
       "      <th>2.0</th>\n",
       "      <td>38.5</td>\n",
       "      <td>36.375000</td>\n",
       "      <td>19.212626</td>\n",
       "      <td>8</td>\n",
       "    </tr>\n",
       "    <tr>\n",
       "      <th>3.0</th>\n",
       "      <td>24.0</td>\n",
       "      <td>24.000000</td>\n",
       "      <td>NaN</td>\n",
       "      <td>1</td>\n",
       "    </tr>\n",
       "    <tr>\n",
       "      <th rowspan=\"3\" valign=\"top\">Milan</th>\n",
       "      <th>0.0</th>\n",
       "      <td>22.0</td>\n",
       "      <td>22.100000</td>\n",
       "      <td>20.223474</td>\n",
       "      <td>10</td>\n",
       "    </tr>\n",
       "    <tr>\n",
       "      <th>2.0</th>\n",
       "      <td>19.0</td>\n",
       "      <td>30.842105</td>\n",
       "      <td>23.641449</td>\n",
       "      <td>19</td>\n",
       "    </tr>\n",
       "    <tr>\n",
       "      <th>3.0</th>\n",
       "      <td>61.0</td>\n",
       "      <td>54.000000</td>\n",
       "      <td>14.674240</td>\n",
       "      <td>4</td>\n",
       "    </tr>\n",
       "    <tr>\n",
       "      <th>Neurocon</th>\n",
       "      <th>0.0</th>\n",
       "      <td>43.0</td>\n",
       "      <td>41.500000</td>\n",
       "      <td>20.431069</td>\n",
       "      <td>8</td>\n",
       "    </tr>\n",
       "    <tr>\n",
       "      <th>...</th>\n",
       "      <th>...</th>\n",
       "      <td>...</td>\n",
       "      <td>...</td>\n",
       "      <td>...</td>\n",
       "      <td>...</td>\n",
       "    </tr>\n",
       "    <tr>\n",
       "      <th rowspan=\"2\" valign=\"top\">PPMI</th>\n",
       "      <th>2.0</th>\n",
       "      <td>24.0</td>\n",
       "      <td>31.491228</td>\n",
       "      <td>22.287044</td>\n",
       "      <td>114</td>\n",
       "    </tr>\n",
       "    <tr>\n",
       "      <th>3.0</th>\n",
       "      <td>16.5</td>\n",
       "      <td>16.500000</td>\n",
       "      <td>16.263456</td>\n",
       "      <td>2</td>\n",
       "    </tr>\n",
       "    <tr>\n",
       "      <th rowspan=\"4\" valign=\"top\">Penn</th>\n",
       "      <th>0.0</th>\n",
       "      <td>14.0</td>\n",
       "      <td>21.777778</td>\n",
       "      <td>18.806766</td>\n",
       "      <td>9</td>\n",
       "    </tr>\n",
       "    <tr>\n",
       "      <th>1.0</th>\n",
       "      <td>36.5</td>\n",
       "      <td>36.500000</td>\n",
       "      <td>23.334524</td>\n",
       "      <td>2</td>\n",
       "    </tr>\n",
       "    <tr>\n",
       "      <th>2.0</th>\n",
       "      <td>31.0</td>\n",
       "      <td>33.214286</td>\n",
       "      <td>21.874392</td>\n",
       "      <td>14</td>\n",
       "    </tr>\n",
       "    <tr>\n",
       "      <th>3.0</th>\n",
       "      <td>28.5</td>\n",
       "      <td>30.833333</td>\n",
       "      <td>22.205888</td>\n",
       "      <td>24</td>\n",
       "    </tr>\n",
       "    <tr>\n",
       "      <th rowspan=\"4\" valign=\"top\">Stanford</th>\n",
       "      <th>0.0</th>\n",
       "      <td>25.0</td>\n",
       "      <td>31.000000</td>\n",
       "      <td>22.129489</td>\n",
       "      <td>8</td>\n",
       "    </tr>\n",
       "    <tr>\n",
       "      <th>2.0</th>\n",
       "      <td>23.0</td>\n",
       "      <td>30.363636</td>\n",
       "      <td>19.314620</td>\n",
       "      <td>11</td>\n",
       "    </tr>\n",
       "    <tr>\n",
       "      <th>3.0</th>\n",
       "      <td>59.5</td>\n",
       "      <td>55.750000</td>\n",
       "      <td>13.047988</td>\n",
       "      <td>4</td>\n",
       "    </tr>\n",
       "    <tr>\n",
       "      <th>4.0</th>\n",
       "      <td>23.0</td>\n",
       "      <td>23.000000</td>\n",
       "      <td>NaN</td>\n",
       "      <td>1</td>\n",
       "    </tr>\n",
       "    <tr>\n",
       "      <th rowspan=\"4\" valign=\"top\">TaoWu</th>\n",
       "      <th>0.0</th>\n",
       "      <td>48.5</td>\n",
       "      <td>42.375000</td>\n",
       "      <td>19.419706</td>\n",
       "      <td>8</td>\n",
       "    </tr>\n",
       "    <tr>\n",
       "      <th>1.0</th>\n",
       "      <td>41.0</td>\n",
       "      <td>41.000000</td>\n",
       "      <td>9.899495</td>\n",
       "      <td>2</td>\n",
       "    </tr>\n",
       "    <tr>\n",
       "      <th>2.0</th>\n",
       "      <td>18.0</td>\n",
       "      <td>29.125000</td>\n",
       "      <td>26.674962</td>\n",
       "      <td>8</td>\n",
       "    </tr>\n",
       "    <tr>\n",
       "      <th>3.0</th>\n",
       "      <td>12.0</td>\n",
       "      <td>12.000000</td>\n",
       "      <td>NaN</td>\n",
       "      <td>1</td>\n",
       "    </tr>\n",
       "    <tr>\n",
       "      <th rowspan=\"5\" valign=\"top\">UNICAMP</th>\n",
       "      <th>0.0</th>\n",
       "      <td>19.0</td>\n",
       "      <td>26.000000</td>\n",
       "      <td>20.088042</td>\n",
       "      <td>103</td>\n",
       "    </tr>\n",
       "    <tr>\n",
       "      <th>1.0</th>\n",
       "      <td>34.0</td>\n",
       "      <td>31.166667</td>\n",
       "      <td>20.120958</td>\n",
       "      <td>18</td>\n",
       "    </tr>\n",
       "    <tr>\n",
       "      <th>2.0</th>\n",
       "      <td>14.0</td>\n",
       "      <td>20.681818</td>\n",
       "      <td>17.669954</td>\n",
       "      <td>22</td>\n",
       "    </tr>\n",
       "    <tr>\n",
       "      <th>3.0</th>\n",
       "      <td>13.0</td>\n",
       "      <td>21.937500</td>\n",
       "      <td>18.880215</td>\n",
       "      <td>16</td>\n",
       "    </tr>\n",
       "    <tr>\n",
       "      <th>4.0</th>\n",
       "      <td>17.0</td>\n",
       "      <td>25.800000</td>\n",
       "      <td>22.709029</td>\n",
       "      <td>5</td>\n",
       "    </tr>\n",
       "    <tr>\n",
       "      <th rowspan=\"4\" valign=\"top\">UOMmain</th>\n",
       "      <th>0.0</th>\n",
       "      <td>37.0</td>\n",
       "      <td>38.866667</td>\n",
       "      <td>20.594266</td>\n",
       "      <td>15</td>\n",
       "    </tr>\n",
       "    <tr>\n",
       "      <th>2.0</th>\n",
       "      <td>43.0</td>\n",
       "      <td>40.000000</td>\n",
       "      <td>20.704267</td>\n",
       "      <td>4</td>\n",
       "    </tr>\n",
       "    <tr>\n",
       "      <th>3.0</th>\n",
       "      <td>20.0</td>\n",
       "      <td>29.000000</td>\n",
       "      <td>33.421550</td>\n",
       "      <td>3</td>\n",
       "    </tr>\n",
       "    <tr>\n",
       "      <th>4.0</th>\n",
       "      <td>65.0</td>\n",
       "      <td>57.333333</td>\n",
       "      <td>13.279056</td>\n",
       "      <td>3</td>\n",
       "    </tr>\n",
       "    <tr>\n",
       "      <th rowspan=\"2\" valign=\"top\">UOMpilot</th>\n",
       "      <th>0.0</th>\n",
       "      <td>23.0</td>\n",
       "      <td>28.000000</td>\n",
       "      <td>19.646883</td>\n",
       "      <td>4</td>\n",
       "    </tr>\n",
       "    <tr>\n",
       "      <th>2.0</th>\n",
       "      <td>56.0</td>\n",
       "      <td>58.666667</td>\n",
       "      <td>6.429101</td>\n",
       "      <td>3</td>\n",
       "    </tr>\n",
       "    <tr>\n",
       "      <th rowspan=\"2\" valign=\"top\">Udal</th>\n",
       "      <th>1.0</th>\n",
       "      <td>66.0</td>\n",
       "      <td>66.000000</td>\n",
       "      <td>NaN</td>\n",
       "      <td>1</td>\n",
       "    </tr>\n",
       "    <tr>\n",
       "      <th>2.0</th>\n",
       "      <td>19.0</td>\n",
       "      <td>20.333333</td>\n",
       "      <td>16.365614</td>\n",
       "      <td>21</td>\n",
       "    </tr>\n",
       "    <tr>\n",
       "      <th>VUMC1</th>\n",
       "      <th>0.0</th>\n",
       "      <td>23.5</td>\n",
       "      <td>30.076923</td>\n",
       "      <td>24.825669</td>\n",
       "      <td>26</td>\n",
       "    </tr>\n",
       "    <tr>\n",
       "      <th rowspan=\"2\" valign=\"top\">VUMC2</th>\n",
       "      <th>2.0</th>\n",
       "      <td>18.0</td>\n",
       "      <td>27.647059</td>\n",
       "      <td>24.072654</td>\n",
       "      <td>17</td>\n",
       "    </tr>\n",
       "    <tr>\n",
       "      <th>3.0</th>\n",
       "      <td>32.0</td>\n",
       "      <td>32.000000</td>\n",
       "      <td>39.597980</td>\n",
       "      <td>2</td>\n",
       "    </tr>\n",
       "  </tbody>\n",
       "</table>\n",
       "<p>74 rows × 4 columns</p>\n",
       "</div>"
      ],
      "text/plain": [
       "                 median       mean        std  count\n",
       "site     HY1234                                     \n",
       "Bern     0.0       29.5  31.857143  22.127757     42\n",
       "         1.0        3.0   3.000000        NaN      1\n",
       "         2.0       28.5  31.714286  21.495719     14\n",
       "         3.0       56.0  46.100000  19.139546     10\n",
       "         4.0       55.0  48.500000  16.683325      4\n",
       "CGU      0.0       21.0  27.991597  21.411424    119\n",
       "         1.0       32.0  32.450000  22.608088     40\n",
       "         2.0       29.0  29.145833  18.731007     48\n",
       "         3.0       27.0  33.222222  21.455380     27\n",
       "         4.0       38.0  32.071429  18.804518     14\n",
       "FSL      0.0       27.0  31.914286  21.367060     35\n",
       "         1.0       15.5  21.000000  24.915858      6\n",
       "         2.0       27.0  33.136364  24.227681     22\n",
       "         3.0       19.5  19.500000   4.949747      2\n",
       "GRAZ     0.0       35.0  33.480519  21.214823     77\n",
       "         1.0       27.5  30.000000  22.504321     10\n",
       "         2.0       34.0  34.508772  21.172862     57\n",
       "         3.0       19.0  22.400000  16.562005      5\n",
       "Liege1   0.0       36.0  33.058824  20.302311     17\n",
       "         1.0       14.0  14.000000   7.071068      2\n",
       "         2.0       47.5  40.500000  20.315566     10\n",
       "         3.0       60.0  60.000000   1.414214      2\n",
       "Liege2   0.0       40.0  36.833333  15.882843     18\n",
       "         1.0       39.5  36.500000  17.121415      8\n",
       "         2.0       38.5  36.375000  19.212626      8\n",
       "         3.0       24.0  24.000000        NaN      1\n",
       "Milan    0.0       22.0  22.100000  20.223474     10\n",
       "         2.0       19.0  30.842105  23.641449     19\n",
       "         3.0       61.0  54.000000  14.674240      4\n",
       "Neurocon 0.0       43.0  41.500000  20.431069      8\n",
       "...                 ...        ...        ...    ...\n",
       "PPMI     2.0       24.0  31.491228  22.287044    114\n",
       "         3.0       16.5  16.500000  16.263456      2\n",
       "Penn     0.0       14.0  21.777778  18.806766      9\n",
       "         1.0       36.5  36.500000  23.334524      2\n",
       "         2.0       31.0  33.214286  21.874392     14\n",
       "         3.0       28.5  30.833333  22.205888     24\n",
       "Stanford 0.0       25.0  31.000000  22.129489      8\n",
       "         2.0       23.0  30.363636  19.314620     11\n",
       "         3.0       59.5  55.750000  13.047988      4\n",
       "         4.0       23.0  23.000000        NaN      1\n",
       "TaoWu    0.0       48.5  42.375000  19.419706      8\n",
       "         1.0       41.0  41.000000   9.899495      2\n",
       "         2.0       18.0  29.125000  26.674962      8\n",
       "         3.0       12.0  12.000000        NaN      1\n",
       "UNICAMP  0.0       19.0  26.000000  20.088042    103\n",
       "         1.0       34.0  31.166667  20.120958     18\n",
       "         2.0       14.0  20.681818  17.669954     22\n",
       "         3.0       13.0  21.937500  18.880215     16\n",
       "         4.0       17.0  25.800000  22.709029      5\n",
       "UOMmain  0.0       37.0  38.866667  20.594266     15\n",
       "         2.0       43.0  40.000000  20.704267      4\n",
       "         3.0       20.0  29.000000  33.421550      3\n",
       "         4.0       65.0  57.333333  13.279056      3\n",
       "UOMpilot 0.0       23.0  28.000000  19.646883      4\n",
       "         2.0       56.0  58.666667   6.429101      3\n",
       "Udal     1.0       66.0  66.000000        NaN      1\n",
       "         2.0       19.0  20.333333  16.365614     21\n",
       "VUMC1    0.0       23.5  30.076923  24.825669     26\n",
       "VUMC2    2.0       18.0  27.647059  24.072654     17\n",
       "         3.0       32.0  32.000000  39.597980      2\n",
       "\n",
       "[74 rows x 4 columns]"
      ]
     },
     "execution_count": 94,
     "metadata": {},
     "output_type": "execute_result"
    }
   ],
   "source": [
    "train_stages[['site','HY1234', 'Dx', 'pred_stage']].groupby(['site','HY1234'])['pred_stage'].agg(['median','mean', 'std', 'count'])"
   ]
  },
  {
   "cell_type": "code",
   "execution_count": null,
   "metadata": {},
   "outputs": [],
   "source": []
  }
 ],
 "metadata": {
  "kernelspec": {
   "display_name": "Python 3",
   "language": "python",
   "name": "python3"
  },
  "language_info": {
   "codemirror_mode": {
    "name": "ipython",
    "version": 3
   },
   "file_extension": ".py",
   "mimetype": "text/x-python",
   "name": "python",
   "nbconvert_exporter": "python",
   "pygments_lexer": "ipython3",
   "version": "3.7.3"
  }
 },
 "nbformat": 4,
 "nbformat_minor": 2
}
