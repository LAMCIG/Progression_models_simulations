{
 "cells": [
  {
   "cell_type": "code",
   "execution_count": null,
   "metadata": {},
   "outputs": [
    {
     "ename": "NameError",
     "evalue": "name 'model' is not defined",
     "output_type": "error",
     "traceback": [
      "\u001b[0;31m---------------------------------------------------------------------------\u001b[0m",
      "\u001b[0;31mNameError\u001b[0m                                 Traceback (most recent call last)",
      "Cell \u001b[0;32mIn[5], line 76\u001b[0m\n\u001b[1;32m     71\u001b[0m     \u001b[38;5;28;01mreturn\u001b[39;00m params\n\u001b[1;32m     73\u001b[0m \u001b[38;5;66;03m# Assume we have data `model.model_values` and times `model.t` from the logistic model:\u001b[39;00m\n\u001b[1;32m     74\u001b[0m \u001b[38;5;66;03m# Here we pretend model_values is what we want to fit and we know the time array `t`.\u001b[39;00m\n\u001b[1;32m     75\u001b[0m \u001b[38;5;66;03m# Let's say we know the number of biomarkers from model:\u001b[39;00m\n\u001b[0;32m---> 76\u001b[0m n_biomarkers \u001b[38;5;241m=\u001b[39m \u001b[43mmodel\u001b[49m\u001b[38;5;241m.\u001b[39mmodel_values\u001b[38;5;241m.\u001b[39mshape[\u001b[38;5;241m0\u001b[39m]\n\u001b[1;32m     77\u001b[0m t_obs \u001b[38;5;241m=\u001b[39m model\u001b[38;5;241m.\u001b[39mt\n\u001b[1;32m     78\u001b[0m data \u001b[38;5;241m=\u001b[39m model\u001b[38;5;241m.\u001b[39mmodel_values  \u001b[38;5;66;03m# shape: (n_biomarkers, n_times)\u001b[39;00m\n",
      "\u001b[0;31mNameError\u001b[0m: name 'model' is not defined"
     ]
    }
   ],
   "source": []
  },
  {
   "cell_type": "code",
   "execution_count": null,
   "metadata": {},
   "outputs": [],
   "source": []
  }
 ],
 "metadata": {
  "kernelspec": {
   "display_name": "base",
   "language": "python",
   "name": "python3"
  },
  "language_info": {
   "codemirror_mode": {
    "name": "ipython",
    "version": 3
   },
   "file_extension": ".py",
   "mimetype": "text/x-python",
   "name": "python",
   "nbconvert_exporter": "python",
   "pygments_lexer": "ipython3",
   "version": "3.12.2"
  }
 },
 "nbformat": 4,
 "nbformat_minor": 2
}
