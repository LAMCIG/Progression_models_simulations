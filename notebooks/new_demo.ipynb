{
 "cells": [
  {
   "cell_type": "code",
   "execution_count": 1,
   "metadata": {},
   "outputs": [
    {
     "name": "stdout",
     "output_type": "stream",
     "text": [
      "['/home/dsemchin/miniconda3/lib/python312.zip', '/home/dsemchin/miniconda3/lib/python3.12', '/home/dsemchin/miniconda3/lib/python3.12/lib-dynload', '', '/home/dsemchin/miniconda3/lib/python3.12/site-packages']\n"
     ]
    },
    {
     "ename": "ModuleNotFoundError",
     "evalue": "No module named 'canonical_generator'",
     "output_type": "error",
     "traceback": [
      "\u001b[0;31m---------------------------------------------------------------------------\u001b[0m",
      "\u001b[0;31mModuleNotFoundError\u001b[0m                       Traceback (most recent call last)",
      "Cell \u001b[0;32mIn[1], line 7\u001b[0m\n\u001b[1;32m      4\u001b[0m \u001b[38;5;28mprint\u001b[39m(sys\u001b[38;5;241m.\u001b[39mpath)\n\u001b[1;32m      5\u001b[0m sys\u001b[38;5;241m.\u001b[39mpath\u001b[38;5;241m.\u001b[39mappend(os\u001b[38;5;241m.\u001b[39mpath\u001b[38;5;241m.\u001b[39mabspath(os\u001b[38;5;241m.\u001b[39mpath\u001b[38;5;241m.\u001b[39mjoin(\u001b[38;5;124m'\u001b[39m\u001b[38;5;124m..\u001b[39m\u001b[38;5;124m'\u001b[39m, \u001b[38;5;124m'\u001b[39m\u001b[38;5;124msimulation_class\u001b[39m\u001b[38;5;124m'\u001b[39m)))\n\u001b[0;32m----> 7\u001b[0m \u001b[38;5;28;01mfrom\u001b[39;00m \u001b[38;5;21;01mcanonical_generator\u001b[39;00m \u001b[38;5;28;01mimport\u001b[39;00m CanonicalGenerator\n\u001b[1;32m      8\u001b[0m \u001b[38;5;28;01mfrom\u001b[39;00m \u001b[38;5;21;01msample_generator\u001b[39;00m \u001b[38;5;28;01mimport\u001b[39;00m SampleGenerator\n\u001b[1;32m      9\u001b[0m \u001b[38;5;28;01mfrom\u001b[39;00m \u001b[38;5;21;01mdisease_progression_analyzer\u001b[39;00m \u001b[38;5;28;01mimport\u001b[39;00m DiseaseProgressionAnalyzer\n",
      "\u001b[0;31mModuleNotFoundError\u001b[0m: No module named 'canonical_generator'"
     ]
    }
   ],
   "source": [
    "import sys\n",
    "import os\n",
    "\n",
    "# Determine the absolute path to the 'notebooks' directory and then the parent directory\n",
    "notebooks_dir = os.path.dirname(os.path.abspath(__file__))\n",
    "parent_dir = os.path.dirname(notebooks_dir)\n",
    "simulation_class_path = os.path.join(parent_dir, 'simulation_class')\n",
    "\n",
    "# Add the 'simulation_class' directory to the system path\n",
    "sys.path.append(simulation_class_path)\n",
    "\n",
    "# Print sys.path to verify\n",
    "print(sys.path)\n",
    "\n",
    "from canonical_generator import CanonicalGenerator\n",
    "from sample_generator import SampleGenerator\n",
    "from disease_progression_analyzer import DiseaseProgressionAnalyzer\n",
    "from EBMAnalyzer import EBMAnalyzer  \n",
    "\n",
    "# model parameters\n",
    "n_biomarkers = 10\n",
    "n_stages = 50\n",
    "model_type = 'sigmoid'\n",
    "biomarkers_params_sigmoid = {\n",
    "    0: {'s': 6, 'c': 1},\n",
    "    1: {'s': 8, 'c': 1},\n",
    "    2: {'s': 12, 'c': 1},\n",
    "    3: {'s': 15, 'c': 1},\n",
    "    4: {'s': 20, 'c': 1},\n",
    "    5: {'s': 24, 'c': 1},\n",
    "    6: {'s': 30, 'c': 1},\n",
    "    7: {'s': 33, 'c': 1},\n",
    "    8: {'s': 36, 'c': 1},\n",
    "    9: {'s': 41, 'c': 1},\n",
    "    10: {'s': 45, 'c': 1}\n",
    "}\n",
    "\n",
    "# generate the canonical model\n",
    "canonical_generator = CanonicalGenerator(n_biomarkers, n_stages, model_type, biomarkers_params=biomarkers_params_sigmoid)\n",
    "\n",
    "# plot disease progression\n",
    "canonical_generator.plot_disease_progression()\n",
    "\n",
    "# generate patient samples\n",
    "n_patients = 1000   \n",
    "sample_generator = SampleGenerator(canonical_generator, n_patients, add_noise=False, noise_std=0, random_state=2, skewness=-1)\n",
    "patient_samples = sample_generator.patient_samples\n",
    "\n",
    "# plot stage histogram\n",
    "sample_generator.plot_stage_histogram()\n",
    "sample_generator.plot_biomarker_distribution(biomarker_index=0, threshold=0.5)\n",
    "sample_generator.plot_patient_biomarkers(patient_index=400)\n",
    "\n",
    "# run analysis\n",
    "analyzer = DiseaseProgressionAnalyzer(patient_samples)\n",
    "orders, rho, loglike, update_iters, probas = analyzer.run_analysis('ebm')\n",
    "analyzer.print_orders(orders)\n"
   ]
  },
  {
   "cell_type": "code",
   "execution_count": null,
   "metadata": {},
   "outputs": [],
   "source": []
  }
 ],
 "metadata": {
  "kernelspec": {
   "display_name": "base",
   "language": "python",
   "name": "python3"
  },
  "language_info": {
   "codemirror_mode": {
    "name": "ipython",
    "version": 3
   },
   "file_extension": ".py",
   "mimetype": "text/x-python",
   "name": "python",
   "nbconvert_exporter": "python",
   "pygments_lexer": "ipython3",
   "version": "3.12.2"
  }
 },
 "nbformat": 4,
 "nbformat_minor": 2
}
