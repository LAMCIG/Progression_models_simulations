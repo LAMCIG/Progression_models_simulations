{
 "cells": [
  {
   "cell_type": "code",
   "execution_count": null,
   "metadata": {},
   "outputs": [],
   "source": [
    "import numpy as np\n",
    "from scipy.integrate import solve_ivp\n",
    "\n",
    "def ode_system(t, x, K, f):\n",
    "    return (np.eye(K.shape[0]) - np.diag(x)) @ (K @ x) + f\n",
    "\n",
    "\n",
    "def analytic_jacobian(t, x, K, f):\n",
    "    # Compute Kx for reuse\n",
    "    Kx = K @ x\n",
    "    # Compute jacobian: J_ij = (1 - x_i) * K[i,j] for i != j,\n",
    "    # and for i == j: J_ii = (1 - x_i) * K[i,i] - (Kx)_i.\n",
    "    J = (1 - x)[:, None] * K\n",
    "\n",
    "\n"
   ]
  }
 ],
 "metadata": {
  "kernelspec": {
   "display_name": "base",
   "language": "python",
   "name": "python3"
  },
  "language_info": {
   "name": "python",
   "version": "3.12.2"
  }
 },
 "nbformat": 4,
 "nbformat_minor": 2
}
